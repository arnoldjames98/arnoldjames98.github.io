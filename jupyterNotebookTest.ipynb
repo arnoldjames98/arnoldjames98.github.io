{
 "cells": [
  {
   "cell_type": "markdown",
   "metadata": {},
   "source": [
    "## EGR557: Install Python\n",
    "James Arnold"
   ]
  },
  {
   "cell_type": "code",
   "execution_count": 1,
   "metadata": {},
   "outputs": [
    {
     "name": "stderr",
     "output_type": "stream",
     "text": [
      "2021-01-22 00:03:21,144 - pynamics.system - INFO - getting dynamic equations\n",
      "2021-01-22 00:03:21,173 - pynamics.system - INFO - solving a = f/m and creating function\n",
      "2021-01-22 00:03:21,198 - pynamics.system - INFO - substituting constrained in Ma-f.\n",
      "2021-01-22 00:03:21,308 - pynamics.system - INFO - done solving a = f/m and creating function\n",
      "2021-01-22 00:03:21,410 - pynamics.integration - INFO - beginning integration\n",
      "/Users/arnoldjames/opt/anaconda3/lib/python3.7/site-packages/scipy/integrate/_ivp/common.py:41: UserWarning: The following arguments have no effect for a chosen solver: `hmin`.\n",
      "  .format(\", \".join(\"`{}`\".format(x) for x in extraneous)))\n",
      "2021-01-22 00:03:21,412 - pynamics.system - INFO - integration at time 0000.00\n",
      "2021-01-22 00:03:21,715 - pynamics.system - INFO - integration at time 0000.68\n",
      "2021-01-22 00:03:22,029 - pynamics.system - INFO - integration at time 0001.54\n",
      "2021-01-22 00:03:22,309 - pynamics.system - INFO - integration at time 0002.49\n",
      "2021-01-22 00:03:22,582 - pynamics.system - INFO - integration at time 0003.58\n",
      "2021-01-22 00:03:22,892 - pynamics.system - INFO - integration at time 0004.77\n",
      "2021-01-22 00:03:22,955 - pynamics.integration - INFO - finished integration\n",
      "2021-01-22 00:03:22,967 - pynamics.output - INFO - calculating outputs\n",
      "2021-01-22 00:03:22,991 - pynamics.output - INFO - done calculating outputs\n"
     ]
    }
   ],
   "source": [
    "from matplotlib import animation, rc\n",
    "from IPython.display import HTML\n",
    "import shapely\n",
    "import idealab_tools\n",
    "import foldable_robotics\n",
    "import pynamics\n",
    "import pynamics_examples.pendulum_2_ways"
   ]
  },
  {
   "cell_type": "code",
   "execution_count": null,
   "metadata": {},
   "outputs": [],
   "source": [
    "HTML(pynamics_examples.pendulum_2_ways.points_output.anim.to_html5_video())"
   ]
  },
  {
   "cell_type": "code",
   "execution_count": null,
   "metadata": {},
   "outputs": [],
   "source": [
    "from foldable_robotics.laminate import Laminate\n",
    "from foldable_robotics.layer import Layer\n",
    "import shapely.geometry as sg\n",
    "box = sg.box(-2,-1,2,1)\n",
    "box = Layer(box)\n",
    "circle =sg.Point((0,0))\n",
    "circle = Layer(circle)<<1.5\n",
    "lam = Laminate(box,circle)\n",
    "lam.plot()"
   ]
  },
  {
   "cell_type": "markdown",
   "metadata": {},
   "source": [
    "James Arnold"
   ]
  },
  {
   "cell_type": "code",
   "execution_count": null,
   "metadata": {},
   "outputs": [],
   "source": []
  }
 ],
 "metadata": {
  "kernelspec": {
   "display_name": "Python 3",
   "language": "python",
   "name": "python3"
  },
  "language_info": {
   "codemirror_mode": {
    "name": "ipython",
    "version": 3
   },
   "file_extension": ".py",
   "mimetype": "text/x-python",
   "name": "python",
   "nbconvert_exporter": "python",
   "pygments_lexer": "ipython3",
   "version": "3.7.4"
  }
 },
 "nbformat": 4,
 "nbformat_minor": 2
}
