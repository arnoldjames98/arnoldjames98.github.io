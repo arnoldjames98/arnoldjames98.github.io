{
  "nbformat": 4,
  "nbformat_minor": 0,
  "metadata": {
    "colab": {
      "name": "systemKinematics.ipynb",
      "provenance": [],
      "collapsed_sections": [],
      "authorship_tag": "ABX9TyOT40foqt+DOPqMR36uSrtu",
      "include_colab_link": true
    },
    "kernelspec": {
      "name": "python3",
      "display_name": "Python 3"
    }
  },
  "cells": [
    {
      "cell_type": "markdown",
      "metadata": {
        "id": "view-in-github",
        "colab_type": "text"
      },
      "source": [
        "<a href=\"https://colab.research.google.com/github/arnoldjames98/arnoldjames98.github.io/blob/main/systemKinematics.ipynb\" target=\"_parent\"><img src=\"https://colab.research.google.com/assets/colab-badge.svg\" alt=\"Open In Colab\"/></a>"
      ]
    },
    {
      "cell_type": "markdown",
      "metadata": {
        "id": "1Hf_2b0SpFxN"
      },
      "source": [
        "# [Biodegradable Seed Spreading Robot](https://arnoldjames98.github.io/)\n",
        "# System Kinematics"
      ]
    },
    {
      "cell_type": "markdown",
      "metadata": {
        "id": "8TlQ2kW0Hemw"
      },
      "source": [
        "### 1. Create a figure (either in python, in a vector-based drawing program like inkscape or illustrator, or as a solidworks rendering) of your system kinematics."
      ]
    },
    {
      "cell_type": "markdown",
      "metadata": {
        "id": "QqnvY0htH6x2"
      },
      "source": [
        "TODO: Describe figure and add correct measurements to table\n",
        "\n",
        "![Mechanism Drawing](https://raw.githubusercontent.com/arnoldjames98/arnoldjames98.github.io/main/images/assignment3/mechanism.png)\n",
        "\n",
        "| Length | Rigid Body | Measurement (cm)\n",
        "| --- | --- | --- |\n",
        "| L10 | Yellow | 2 |\n",
        "| L02 | Purple | 2 |\n",
        "| L42 | Purple | 2 |\n",
        "| L40 | Purple | 2 |\n",
        "| L31 | Red | 2 |\n",
        "| L61 | Red | 2 |\n",
        "| L63 | Red | 2 |\n",
        "| L54 | Green | 2 |\n",
        "| L32 | Orange | 2 |\n",
        "| L56 | Blue | 2 |\n",
        "| L5E | Blue | 2 |\n",
        "| LE6 | Blue | 2 |\n"
      ]
    },
    {
      "cell_type": "markdown",
      "metadata": {
        "id": "L6QhoGUzIHa-"
      },
      "source": [
        "### 2. Make the device in paper or cardboard. You need an up-to-date model if it has changed from your individual assignments. The paper model should dimensionally match your code."
      ]
    },
    {
      "cell_type": "markdown",
      "metadata": {
        "id": "d639MEzFIMEF"
      },
      "source": [
        "TODO: Upload image of device to github and add images here. May need to add a brief description too."
      ]
    },
    {
      "cell_type": "markdown",
      "metadata": {
        "id": "ON9Q4k5vIUPI"
      },
      "source": [
        "### 3. Using a pynamics-based script, develop a kinematic model for your device."
      ]
    },
    {
      "cell_type": "code",
      "metadata": {
        "colab": {
          "base_uri": "https://localhost:8080/"
        },
        "id": "J0V7O1PJfai7",
        "outputId": "c2af889c-6ea0-4166-bda7-e46813459b95"
      },
      "source": [
        "%matplotlib inline\n",
        "!pip install pynamics"
      ],
      "execution_count": 1,
      "outputs": [
        {
          "output_type": "stream",
          "text": [
            "Requirement already satisfied: pynamics in /usr/local/lib/python3.6/dist-packages (0.0.7)\n",
            "Requirement already satisfied: numpy in /usr/local/lib/python3.6/dist-packages (from pynamics) (1.19.5)\n",
            "Requirement already satisfied: sympy in /usr/local/lib/python3.6/dist-packages (from pynamics) (1.1.1)\n",
            "Requirement already satisfied: scipy in /usr/local/lib/python3.6/dist-packages (from pynamics) (1.4.1)\n",
            "Requirement already satisfied: matplotlib in /usr/local/lib/python3.6/dist-packages (from pynamics) (3.2.2)\n",
            "Requirement already satisfied: mpmath>=0.19 in /usr/local/lib/python3.6/dist-packages (from sympy->pynamics) (1.1.0)\n",
            "Requirement already satisfied: cycler>=0.10 in /usr/local/lib/python3.6/dist-packages (from matplotlib->pynamics) (0.10.0)\n",
            "Requirement already satisfied: kiwisolver>=1.0.1 in /usr/local/lib/python3.6/dist-packages (from matplotlib->pynamics) (1.3.1)\n",
            "Requirement already satisfied: pyparsing!=2.0.4,!=2.1.2,!=2.1.6,>=2.0.1 in /usr/local/lib/python3.6/dist-packages (from matplotlib->pynamics) (2.4.7)\n",
            "Requirement already satisfied: python-dateutil>=2.1 in /usr/local/lib/python3.6/dist-packages (from matplotlib->pynamics) (2.8.1)\n",
            "Requirement already satisfied: six in /usr/local/lib/python3.6/dist-packages (from cycler>=0.10->matplotlib->pynamics) (1.15.0)\n"
          ],
          "name": "stdout"
        }
      ]
    },
    {
      "cell_type": "markdown",
      "metadata": {
        "id": "1DAWJ9GZf5PF"
      },
      "source": [
        "import all required packages"
      ]
    },
    {
      "cell_type": "code",
      "metadata": {
        "id": "X3oEPY4Of7Bb"
      },
      "source": [
        "import pynamics\n",
        "from pynamics.frame import Frame\n",
        "from pynamics.variable_types import Differentiable,Constant\n",
        "from pynamics.system import System\n",
        "#from pynamics.body import Body\n",
        "#from pynamics.dyadic import Dyadic\n",
        "from pynamics.output import Output,PointsOutput\n",
        "#from pynamics.particle import Particle\n",
        "import pynamics.integration\n",
        "import sympy\n",
        "import numpy\n",
        "import matplotlib.pyplot as plt\n",
        "plt.ion()\n",
        "from math import pi\n",
        "#from pynamics.constraint import Constraint\n",
        "import scipy.optimize"
      ],
      "execution_count": 2,
      "outputs": []
    },
    {
      "cell_type": "markdown",
      "metadata": {
        "id": "MjMPn0LYhA7l"
      },
      "source": [
        "Create a pynamics system"
      ]
    },
    {
      "cell_type": "code",
      "metadata": {
        "id": "8Qs29wgyhAmp"
      },
      "source": [
        "system = System()\n",
        "pynamics.set_system(__name__,system)"
      ],
      "execution_count": 3,
      "outputs": []
    },
    {
      "cell_type": "markdown",
      "metadata": {
        "id": "F6l_ZP-ii2G8"
      },
      "source": [
        "Declare all length constants"
      ]
    },
    {
      "cell_type": "code",
      "metadata": {
        "id": "YBp7C4K1i6vq"
      },
      "source": [
        "# TODO: Add correct measurements when defining length constants\n",
        "# We may also considering our angle constraints for the triangular links here\n",
        "\n",
        "# From Loop Closure Eq. #1\n",
        "l_10 = Constant(2,'l_10',system)\n",
        "l_31 = Constant(1.5,'l_31',system)\n",
        "l_32 = Constant(1,'l_32',system)\n",
        "l_02 = Constant(1,'l_02',system)\n",
        "\n",
        "# From Loop Closure Eq. #2\n",
        "#l_10 already is included in Eq. 1\n",
        "l_61 = Constant(2,'l_61',system)\n",
        "l_56 = Constant(2,'l_56',system)\n",
        "l_54 = Constant(2,'l_54',system)\n",
        "l_40 = Constant(2,'l_54',system)\n",
        "\n",
        "# From Loop Closure Eq. #3\n",
        "#l_32 already is included in Eq. 1\n",
        "#l_54 already is included in Eq. 2\n",
        "#l_56 already is included in Eq. 2\n",
        "l_63 = Constant(2,'l_63',system)\n",
        "l_42 = Constant(2,'l_42',system)\n",
        "\n",
        "# End effector\n",
        "l_E6 = Constant(2,'l_E6',system)\n",
        "l_E5 = Constant(2,'l_E5',system)"
      ],
      "execution_count": 4,
      "outputs": []
    },
    {
      "cell_type": "markdown",
      "metadata": {
        "id": "lMQqg-SuDwcn"
      },
      "source": [
        "Create the differentiable state variables, cooresponding to the joint angles (we might not need all of these depending on how we do the constraints)"
      ]
    },
    {
      "cell_type": "code",
      "metadata": {
        "id": "3TOiNwM0lfJ-"
      },
      "source": [
        "q0,q0_d,q0_dd = Differentiable('q0',system)\n",
        "q1,q1_d,q1_dd = Differentiable('q1',system)\n",
        "q2,q2_d,q2_dd = Differentiable('q2',system)\n",
        "q3,q3_d,q3_dd = Differentiable('q3',system)\n",
        "q4,q4_d,q4_dd = Differentiable('q4',system)\n",
        "q5,q5_d,q5_dd = Differentiable('q5',system)\n",
        "q6,q6_d,q6_dd = Differentiable('q6',system)\n",
        "qE,qE_d,qE_dd = Differentiable('qE',system)"
      ],
      "execution_count": 5,
      "outputs": []
    },
    {
      "cell_type": "markdown",
      "metadata": {
        "id": "eJkP_EQQEgSA"
      },
      "source": [
        "Initial guess for starting positions"
      ]
    },
    {
      "cell_type": "code",
      "metadata": {
        "id": "XSI4Kk7mEf3f"
      },
      "source": [
        "# TODO: We can measure the angles on our figure to make some guesses\n",
        "initialvalues = {}\n",
        "initialvalues[q0]=-90*pi/180\n",
        "initialvalues[q0_d]=0\n",
        "initialvalues[q1]=90*pi/180\n",
        "initialvalues[q1_d]=0\n",
        "initialvalues[q2]=90*pi/180\n",
        "initialvalues[q2_d]=0\n",
        "initialvalues[q3]=90*pi/180\n",
        "initialvalues[q3_d]=0\n",
        "initialvalues[q4]=90*pi/180\n",
        "initialvalues[q4_d]=0\n",
        "initialvalues[q5]=90*pi/180\n",
        "initialvalues[q5_d]=0\n",
        "initialvalues[q6]=90*pi/180\n",
        "initialvalues[q6_d]=0\n",
        "initialvalues[qE]=90*pi/180\n",
        "initialvalues[qE_d]=0"
      ],
      "execution_count": 15,
      "outputs": []
    },
    {
      "cell_type": "markdown",
      "metadata": {
        "id": "K-DNvEcrEriC"
      },
      "source": [
        "Retrieve state variables in the order they are stored in the system"
      ]
    },
    {
      "cell_type": "code",
      "metadata": {
        "id": "EE4gfIU6EvhW"
      },
      "source": [
        "# Not sure if we need this, but it's included in the tutorial\n",
        "statevariables = system.get_state_variables()"
      ],
      "execution_count": 7,
      "outputs": []
    },
    {
      "cell_type": "markdown",
      "metadata": {
        "id": "VWDDxqrKE9EY"
      },
      "source": [
        "Create the reference frames, with one cooresponding to each rigid link\n",
        "![Reference Frames](https://raw.githubusercontent.com/arnoldjames98/arnoldjames98.github.io/main/images/assignment3/refFrames.png)"
      ]
    },
    {
      "cell_type": "code",
      "metadata": {
        "id": "bGV3_X6jFEO1"
      },
      "source": [
        "N = Frame('N') # Purple link at p0 (ground)\n",
        "A = Frame('A') # Yellow link at p1\n",
        "B = Frame('B') # Green link at p5\n",
        "C = Frame('C') # Red link at p6\n",
        "D = Frame('D') # Orange link at p3\n",
        "E = Frame('E') # Blue link at pE (end-effector)"
      ],
      "execution_count": 8,
      "outputs": []
    },
    {
      "cell_type": "markdown",
      "metadata": {
        "id": "koIsFu8CHSkC"
      },
      "source": [
        "Declare N as the Newtonian (fixed) frame"
      ]
    },
    {
      "cell_type": "code",
      "metadata": {
        "id": "qfSch5hKHW_d"
      },
      "source": [
        "system.set_newtonian(N)"
      ],
      "execution_count": 9,
      "outputs": []
    },
    {
      "cell_type": "markdown",
      "metadata": {
        "id": "uPFgFvOB-Fcr"
      },
      "source": [
        "Rotate frames about their z-axes so they align with the correct rigid link."
      ]
    },
    {
      "cell_type": "code",
      "metadata": {
        "id": "adOePE3kIxfm"
      },
      "source": [
        "A.rotate_fixed_axis_directed(N,[0,0,1],q1,system) # Yellow\n",
        "B.rotate_fixed_axis_directed(N,[0,0,1],q5,system) # Green\n",
        "D.rotate_fixed_axis_directed(N,[0,0,1],q3,system) # Orange\n",
        "\n",
        "# Define frame C w.r.t to frame A\n",
        "C.rotate_fixed_axis_directed(A,[0,0,1],q6,system) # Red\n",
        "\n",
        "# Define frame E w.r.t to frame C\n",
        "E.rotate_fixed_axis_directed(C,[0,0,1],qE,system) # End-effector"
      ],
      "execution_count": 10,
      "outputs": []
    },
    {
      "cell_type": "markdown",
      "metadata": {
        "id": "kbZAlQ5KJXn3"
      },
      "source": [
        "Define vectors for each of the joint locations (not necessarily the vectors connecting two vectors)"
      ]
    },
    {
      "cell_type": "code",
      "metadata": {
        "id": "k92uDA3u4zz5"
      },
      "source": [
        "# Vectors representing the joint locations w.r.t N frame\n",
        "# Fixed points on ground link\n",
        "p0 = 0*N.x\n",
        "p2 = -6.6*N.x - 1.97*N.y # Coordinates given\n",
        "p4 = -2.6*N.x + 9.9*N.y # Coordinates given\n",
        "\n",
        "# Points directly connected to ground\n",
        "p1 = p0 + l_10*A.x # Yellow\n",
        "p3 = p2 + l_32*D.x # Orange\n",
        "p5 = p4 + l_32*B.x # Green\n",
        "\n",
        "# Additional points\n",
        "p6 = p1 + l_61*C.x # Red from yellow\n",
        "pE = p6 + l_E6*E.x # End-effector from red\n",
        "#print(pE.components)\n",
        "\n",
        "# List of points to that will be used for plotting\n",
        "points = [p0, p1, p2, p3, p4, p5, p6, pE]"
      ],
      "execution_count": 13,
      "outputs": []
    },
    {
      "cell_type": "markdown",
      "metadata": {
        "id": "1cH7S9Nm22dK"
      },
      "source": [
        "Define vectors that connect the joint locations"
      ]
    },
    {
      "cell_type": "code",
      "metadata": {
        "id": "3rYGKZtT22Hr"
      },
      "source": [
        "# When subtracting: # Vector to head minus vector to tail\n",
        "\n",
        "# From Loop Closure Eq. #1\n",
        "r_10 = p1\n",
        "r_31 = p3 - p1\n",
        "r_32 = p3 - p2 \n",
        "r_02 = -p2\n",
        "\n",
        "# From Loop Closure Eq. #2\n",
        "#r_10 already is included in Eq. 1\n",
        "r_61 = p6 - p1\n",
        "r_56 = p5 - p6\n",
        "r_54 = p5 - p4\n",
        "r_40 = p4\n",
        "\n",
        "# From Loop Closure Eq. #3\n",
        "#r_32 already is included in Eq. 1\n",
        "#r_54 already is included in Eq. 2\n",
        "#r_56 already is included in Eq. 2\n",
        "r_63 = p6 - p3\n",
        "r_42 = p4 - p2\n",
        "\n",
        "# End effector\n",
        "r_E6 = pE - p6\n",
        "r_E5 = pE - p5"
      ],
      "execution_count": 12,
      "outputs": []
    },
    {
      "cell_type": "markdown",
      "metadata": {
        "id": "RXqi9OEh6G2w"
      },
      "source": [
        "Create a list of initial values ini0 in the order of the system’s state variables"
      ]
    },
    {
      "cell_type": "code",
      "metadata": {
        "id": "I7ViuiMz6GQt"
      },
      "source": [
        "statevariables = system.get_state_variables()\n",
        "ini0 = [initialvalues[item] for item in statevariables]"
      ],
      "execution_count": 16,
      "outputs": []
    },
    {
      "cell_type": "markdown",
      "metadata": {
        "id": "AtXXhIQl6u-_"
      },
      "source": [
        "Create all the vector equation constraints (e.g., loop closure equations, rigid link constraints, etc.)\n",
        "\n",
        "![Loop Closure Equations](https://raw.githubusercontent.com/arnoldjames98/arnoldjames98.github.io/main/images/assignment3/loopClosureEqs.png)"
      ]
    },
    {
      "cell_type": "code",
      "metadata": {
        "id": "Vp_iVBS77Ag4"
      },
      "source": [
        "# Loop closure equations (constraint to ensure all loops are equal to zero)\n",
        "# Equation 1 (R02 + R10 + R31 = R32)\n",
        "loopClosure1 = r_02 + r_10 + r_31 - r_32\n",
        "\n",
        "# Equation 2 (R10 + R61 + R56 = R40 + R54)\n",
        "loopClosure2 = r_10 + r_61 + r_56 - r_40 - r_54\n",
        "\n",
        "# Equation 3 (R42 + R54 = R32 + R63 + R56)\n",
        "loopClosure3 = r_42 + r_54 - r_32 - r_63 - r_56\n",
        "\n",
        "# TODO: Rigid body constraints (how would I we do this?)"
      ],
      "execution_count": 18,
      "outputs": []
    },
    {
      "cell_type": "markdown",
      "metadata": {
        "id": "HtZSu4Cs8q06"
      },
      "source": [
        "Convert the vector constraints into scalar equations that can be solved"
      ]
    },
    {
      "cell_type": "code",
      "metadata": {
        "colab": {
          "base_uri": "https://localhost:8080/"
        },
        "id": "p0LDrwDm8yCO",
        "outputId": "898a0d92-b614-4702-bbbc-464c1b9aff35"
      },
      "source": [
        "eq = []\n",
        "\n",
        "# Loop closure equations\n",
        "eq.append((loopClosure1).dot(N.x))\n",
        "eq.append((loopClosure1).dot(N.y))\n",
        "eq.append((loopClosure2).dot(N.x))\n",
        "eq.append((loopClosure2).dot(N.y))\n",
        "eq.append((loopClosure3).dot(N.x))\n",
        "eq.append((loopClosure3).dot(N.y))\n",
        "\n",
        "print(eq)\n",
        "\n",
        "# Todo: constraint equations\n",
        "# HERE\n",
        "\n",
        "eq_d=[(system.derivative(item)) for item in eq]\n",
        "print(eq_d)"
      ],
      "execution_count": 24,
      "outputs": [
        {
          "output_type": "stream",
          "text": [
            "[0, 0, 0, 0, 0, 0]\n",
            "[0, 0, 0, 0, 0, 0]\n"
          ],
          "name": "stdout"
        }
      ]
    }
  ]
}