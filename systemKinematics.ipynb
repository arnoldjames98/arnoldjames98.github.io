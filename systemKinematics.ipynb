{
  "nbformat": 4,
  "nbformat_minor": 0,
  "metadata": {
    "colab": {
      "name": "systemKinematics.ipynb",
      "provenance": [],
      "collapsed_sections": [],
      "include_colab_link": true
    },
    "kernelspec": {
      "name": "python3",
      "display_name": "Python 3"
    }
  },
  "cells": [
    {
      "cell_type": "markdown",
      "metadata": {
        "id": "view-in-github",
        "colab_type": "text"
      },
      "source": [
        "<a href=\"https://colab.research.google.com/github/arnoldjames98/arnoldjames98.github.io/blob/main/systemKinematics.ipynb\" target=\"_parent\"><img src=\"https://colab.research.google.com/assets/colab-badge.svg\" alt=\"Open In Colab\"/></a>"
      ]
    },
    {
      "cell_type": "markdown",
      "metadata": {
        "id": "1Hf_2b0SpFxN"
      },
      "source": [
        "# [Biodegradable Seed Spreading Robot](https://arnoldjames98.github.io/)\n",
        "# System Kinematics"
      ]
    },
    {
      "cell_type": "code",
      "metadata": {
        "id": "N9RINbqp3lWK"
      },
      "source": [
        ""
      ],
      "execution_count": null,
      "outputs": []
    },
    {
      "cell_type": "markdown",
      "metadata": {
        "id": "8TlQ2kW0Hemw"
      },
      "source": [
        "### 1. Create a figure (either in python, in a vector-based drawing program like inkscape or illustrator, or as a solidworks rendering) of your system kinematics."
      ]
    },
    {
      "cell_type": "markdown",
      "metadata": {
        "id": "QqnvY0htH6x2"
      },
      "source": [
        "TODO: Describe figure and add correct measurements to table\n",
        "\n",
        "![Mechanism Drawing](https://raw.githubusercontent.com/arnoldjames98/arnoldjames98.github.io/main/images/assignment3/mechanism.png)\n",
        "\n",
        "| Length | Rigid Body | Measurement (cm)\n",
        "| --- | --- | --- |\n",
        "| L10 | Yellow | 3 |\n",
        "| L02 | Purple | 6.89 |\n",
        "| L42 | Purple | 9.73 |\n",
        "| L40 | Purple | 7.37 |\n",
        "| L31 | Red | 6.6 |\n",
        "| L61 | Red | 12.36 | \n",
        "| L63 | Red | 5.84 |\n",
        "| L54 | Green | 5.79 |\n",
        "| L32 | Orange | 3.59 |\n",
        "| L56 | Blue | 10.04 |\n",
        "| L5E | Blue | 19.40 |\n",
        "| LE6 | Blue | 10.04 |\n"
      ]
    },
    {
      "cell_type": "markdown",
      "metadata": {
        "id": "L6QhoGUzIHa-"
      },
      "source": [
        "### 2. Make the device in paper or cardboard. You need an up-to-date model if it has changed from your individual assignments. The paper model should dimensionally match your code."
      ]
    },
    {
      "cell_type": "markdown",
      "metadata": {
        "id": "d639MEzFIMEF"
      },
      "source": [
        "TODO: May need to add a brief description too.\r\n",
        "![Mechanism Drawing](https://raw.githubusercontent.com/arnoldjames98/arnoldjames98.github.io/main/images/assignment3/CardboardPaper1.1.jpg)\r\n",
        "![Mechanism Drawing](https://raw.githubusercontent.com/arnoldjames98/arnoldjames98.github.io/main/images/assignment3/CardboardPaper2.1.jpg)"
      ]
    },
    {
      "cell_type": "markdown",
      "metadata": {
        "id": "ON9Q4k5vIUPI"
      },
      "source": [
        "### 3. Using a pynamics-based script, develop a kinematic model for your device."
      ]
    },
    {
      "cell_type": "code",
      "metadata": {
        "colab": {
          "base_uri": "https://localhost:8080/"
        },
        "id": "J0V7O1PJfai7",
        "outputId": "b53d4c7f-7618-4771-bc1a-ad0d5f3da312"
      },
      "source": [
        "%matplotlib inline\n",
        "!pip install pynamics"
      ],
      "execution_count": 1,
      "outputs": [
        {
          "output_type": "stream",
          "text": [
            "Requirement already satisfied: pynamics in /usr/local/lib/python3.6/dist-packages (0.0.8)\n",
            "Requirement already satisfied: sympy in /usr/local/lib/python3.6/dist-packages (from pynamics) (1.1.1)\n",
            "Requirement already satisfied: matplotlib in /usr/local/lib/python3.6/dist-packages (from pynamics) (3.2.2)\n",
            "Requirement already satisfied: numpy in /usr/local/lib/python3.6/dist-packages (from pynamics) (1.19.5)\n",
            "Requirement already satisfied: scipy in /usr/local/lib/python3.6/dist-packages (from pynamics) (1.4.1)\n",
            "Requirement already satisfied: mpmath>=0.19 in /usr/local/lib/python3.6/dist-packages (from sympy->pynamics) (1.1.0)\n",
            "Requirement already satisfied: kiwisolver>=1.0.1 in /usr/local/lib/python3.6/dist-packages (from matplotlib->pynamics) (1.3.1)\n",
            "Requirement already satisfied: pyparsing!=2.0.4,!=2.1.2,!=2.1.6,>=2.0.1 in /usr/local/lib/python3.6/dist-packages (from matplotlib->pynamics) (2.4.7)\n",
            "Requirement already satisfied: python-dateutil>=2.1 in /usr/local/lib/python3.6/dist-packages (from matplotlib->pynamics) (2.8.1)\n",
            "Requirement already satisfied: cycler>=0.10 in /usr/local/lib/python3.6/dist-packages (from matplotlib->pynamics) (0.10.0)\n",
            "Requirement already satisfied: six>=1.5 in /usr/local/lib/python3.6/dist-packages (from python-dateutil>=2.1->matplotlib->pynamics) (1.15.0)\n"
          ],
          "name": "stdout"
        }
      ]
    },
    {
      "cell_type": "markdown",
      "metadata": {
        "id": "1DAWJ9GZf5PF"
      },
      "source": [
        "import all required packages"
      ]
    },
    {
      "cell_type": "code",
      "metadata": {
        "id": "X3oEPY4Of7Bb"
      },
      "source": [
        "import pynamics\n",
        "from pynamics.frame import Frame\n",
        "from pynamics.variable_types import Differentiable,Constant\n",
        "from pynamics.system import System\n",
        "#from pynamics.body import Body\n",
        "#from pynamics.dyadic import Dyadic\n",
        "from pynamics.output import Output,PointsOutput\n",
        "#from pynamics.particle import Particle\n",
        "import pynamics.integration\n",
        "import sympy\n",
        "import numpy\n",
        "import matplotlib.pyplot as plt\n",
        "plt.ion()\n",
        "from math import pi\n",
        "#from pynamics.constraint import Constraint\n",
        "import scipy.optimize"
      ],
      "execution_count": 2,
      "outputs": []
    },
    {
      "cell_type": "markdown",
      "metadata": {
        "id": "MjMPn0LYhA7l"
      },
      "source": [
        "Create a pynamics system"
      ]
    },
    {
      "cell_type": "code",
      "metadata": {
        "id": "8Qs29wgyhAmp"
      },
      "source": [
        "system = System()\n",
        "pynamics.set_system(__name__,system)"
      ],
      "execution_count": 3,
      "outputs": []
    },
    {
      "cell_type": "markdown",
      "metadata": {
        "id": "F6l_ZP-ii2G8"
      },
      "source": [
        "Declare all length constants"
      ]
    },
    {
      "cell_type": "code",
      "metadata": {
        "id": "YBp7C4K1i6vq"
      },
      "source": [
        "# TODO: Add correct measurements when defining length constants\n",
        "# We may also considering our angle constraints for the triangular links here\n",
        "# Since we have to define constraint equations using different pathways, don't\n",
        "# delete any of these until the end\n",
        "\n",
        "# From Loop Closure Eq. #1\n",
        "l_10 = Constant(3,'l_10',system)\n",
        "l_31 = Constant(6.6,'l_31',system)\n",
        "l_32 = Constant(3.59,'l_32',system)\n",
        "l_02 = Constant(6.89,'l_02',system)\n",
        "\n",
        "# From Loop Closure Eq. #2\n",
        "#l_10 already is included in Eq. 1\n",
        "l_61 = Constant(12.363,'l_61',system)\n",
        "l_56 = Constant(10.04,'l_56',system)\n",
        "l_54 = Constant(5.79,'l_54',system)\n",
        "l_40 = Constant(7.37,'l_54',system)\n",
        "\n",
        "# From Loop Closure Eq. #3\n",
        "#l_32 already is included in Eq. 1\n",
        "#l_54 already is included in Eq. 2\n",
        "#l_56 already is included in Eq. 2\n",
        "l_63 = Constant(5.84,'l_63',system)\n",
        "l_42 = Constant(9.73,'l_42',system)\n",
        "\n",
        "# End effector\n",
        "l_E6 = Constant(10.04,'l_E6',system)\n",
        "l_5E = Constant(19.396,'l_5E',system) # update with correct value"
      ],
      "execution_count": 4,
      "outputs": []
    },
    {
      "cell_type": "markdown",
      "metadata": {
        "id": "lMQqg-SuDwcn"
      },
      "source": [
        "Create the differentiable state variables, cooresponding to the joint angles (we might not need all of these depending on how we do the constraints)"
      ]
    },
    {
      "cell_type": "code",
      "metadata": {
        "id": "3TOiNwM0lfJ-"
      },
      "source": [
        "# Note: All angles are measured CCW\n",
        "\n",
        "# Input state variable (angle of crank on yellow link)\n",
        "qY,qY_d,qY_dd = Differentiable('qY',system) # Yellow input link, measured from base frame coordinates\n",
        "\n",
        "# Other state variables (angles of the four undefined links)\n",
        "# Note that the purple link is ground so is fully defined\n",
        "qO,qO_d,qO_dd = Differentiable('qO',system) # Orange link w.r.t base frame\n",
        "qG,qG_d,qG_dd = Differentiable('qG',system) # Green link w.r.t base frame\n",
        "\n",
        "# Links defined w.r.t non-ground link (not connected to ground)\n",
        "qR,qR_d,qR_dd = Differentiable('qR',system) # Red link w.r.t yellow link frame\n",
        "qB,qB_d,qB_dd = Differentiable('qB',system) # Blue link w.r.t green link frame"
      ],
      "execution_count": 5,
      "outputs": []
    },
    {
      "cell_type": "markdown",
      "metadata": {
        "id": "eJkP_EQQEgSA"
      },
      "source": [
        "Initial guess for starting positions"
      ]
    },
    {
      "cell_type": "code",
      "metadata": {
        "id": "XSI4Kk7mEf3f"
      },
      "source": [
        "# TODO: We can measure the angles on our directly from our figure to make some guesses\n",
        "initialvalues = {}\n",
        "# Yellow link w.r.t base\n",
        "initialvalues[qY]=-130*pi/180 #130*pi/180 (positive) is the input for which I estimated the other angles\n",
        "initialvalues[qY_d]=0\n",
        "\n",
        "# Orange link w.r.t base (measure angle from the standard horizontal x-axis, the shape of the purple ground link is not needed here)\n",
        "initialvalues[qO]=130*pi/180\n",
        "initialvalues[qO_d]=0\n",
        "\n",
        "# Green link w.r.t base (measure angle from the standard horizontal x-axis, the shape of the purple ground link is not needed here)\n",
        "initialvalues[qG]=160*pi/180\n",
        "initialvalues[qG_d]=0\n",
        "\n",
        "# Red link w.r.t yellow link frame\n",
        "initialvalues[qR]=30*pi/180\n",
        "initialvalues[qR_d]=0\n",
        "\n",
        "# Blue link w.r.t green link frame\n",
        "initialvalues[qB]=60*pi/180\n",
        "initialvalues[qB_d]=0"
      ],
      "execution_count": 6,
      "outputs": []
    },
    {
      "cell_type": "markdown",
      "metadata": {
        "id": "K-DNvEcrEriC"
      },
      "source": [
        "Retrieve state variables in the order they are stored in the system"
      ]
    },
    {
      "cell_type": "code",
      "metadata": {
        "id": "EE4gfIU6EvhW"
      },
      "source": [
        "# Not sure if we need this, but it's included in the tutorial\n",
        "statevariables = system.get_state_variables()"
      ],
      "execution_count": 7,
      "outputs": []
    },
    {
      "cell_type": "markdown",
      "metadata": {
        "id": "VWDDxqrKE9EY"
      },
      "source": [
        "Create the main reference frames, with one cooresponding to each rigid link\n",
        "**Need to update the figure in this notebook, for now refer to first slide of google slides**"
      ]
    },
    {
      "cell_type": "code",
      "metadata": {
        "id": "bGV3_X6jFEO1"
      },
      "source": [
        "N = Frame('N') # Purple (ground) link\n",
        "\n",
        "# Defined w.r.t to ground\n",
        "Y = Frame('Y') # Yellow\n",
        "O = Frame('O') # Orange\n",
        "G = Frame('G') # Green\n",
        "\n",
        "# Defined w.r.t to other links \n",
        "# Note that both are directed towards p6\n",
        "# Important since this is how the angle representing the link is defined\n",
        "R = Frame('R') # Red w.r.t yellow\n",
        "B = Frame('B') # Blue w.r.t green\n",
        "\n",
        "# Helpful additional frames for triangular links\n",
        "# These frames define the constant angles within the triangular joints\n",
        "R_to_p3 = Frame('R_to_p3') # Red w.r.t yellow (+ constant degrees to align x-axis with p3)\n",
        "B_to_pE = Frame('B_to_pE') # Blue w.r.t green (+ constant degrees to align x-axis with pE)\n",
        "B_plus_180 = Frame('B_plus_180') # Blue with x axis in opposite direction\n",
        "R_from_p3 = Frame('R_from_p3') # Red rotated so that it can point from p3 to p6 (CW rotation)\n",
        "B_from_p6 = Frame('B_from_p6') # Blue rotated so it can go from p6 to pE"
      ],
      "execution_count": 8,
      "outputs": []
    },
    {
      "cell_type": "markdown",
      "metadata": {
        "id": "koIsFu8CHSkC"
      },
      "source": [
        "Declare N as the Newtonian (fixed) frame"
      ]
    },
    {
      "cell_type": "code",
      "metadata": {
        "id": "qfSch5hKHW_d"
      },
      "source": [
        "system.set_newtonian(N)"
      ],
      "execution_count": 9,
      "outputs": []
    },
    {
      "cell_type": "markdown",
      "metadata": {
        "id": "uPFgFvOB-Fcr"
      },
      "source": [
        "Rotate frames about their z-axes so they align with the correct rigid link."
      ]
    },
    {
      "cell_type": "code",
      "metadata": {
        "id": "adOePE3kIxfm"
      },
      "source": [
        "# Frames cooresponding to joint angles\n",
        "Y.rotate_fixed_axis_directed(N,[0,0,1],qY,system) # Yellow\n",
        "O.rotate_fixed_axis_directed(N,[0,0,1],qO,system) # Orange\n",
        "G.rotate_fixed_axis_directed(N,[0,0,1],qG,system) # Green\n",
        "R.rotate_fixed_axis_directed(Y,[0,0,1],qR,system) # Red w.r.t yellow\n",
        "B.rotate_fixed_axis_directed(G,[0,0,1],qB,system) # Blue w.r.t green\n",
        "\n",
        "# Helpful frames for triangular joints\n",
        "# 6.007 degrees from B frame to align axis with p3\n",
        "R_to_p3.rotate_fixed_axis_directed(Y,[0,0,1],qR+6.007*pi/180,system) # Red w.r.t yellow\n",
        "# 15 degrees from B frame to align axis with pE\n",
        "B_to_pE.rotate_fixed_axis_directed(G,[0,0,1],qB+15*pi/180,system) # Blue w.r.t green\n",
        "# B plus 180 (this comes in handy later when defining a vector in the opposite direction)\n",
        "B_plus_180.rotate_fixed_axis_directed(G,[0,0,1],qB+180*pi/180,system) # Blue reversed\n",
        "# R - 5.84 degrees (CW rotation) from p3 to p6\n",
        "R_from_p3.rotate_fixed_axis_directed(Y,[0,0,1],qR-12.8*pi/180,system) # Red w.r.t yellow\n",
        "# Rotate B frame 30 degrees CCW to go from p6 to pE\n",
        "B_from_p6.rotate_fixed_axis_directed(G,[0,0,1],qB+30*pi/180,system)"
      ],
      "execution_count": 10,
      "outputs": []
    },
    {
      "cell_type": "markdown",
      "metadata": {
        "id": "kbZAlQ5KJXn3"
      },
      "source": [
        "Define vectors for each of the joint locations (not necessarily the vectors connecting two vectors)"
      ]
    },
    {
      "cell_type": "code",
      "metadata": {
        "id": "DBYH_O_iuDrX"
      },
      "source": [
        "# Vectors representing the joint locations w.r.t N frame\n",
        "# Fixed points on pruple (ground) link\n",
        "p0 = 0*N.x # P0 is at the origin (shifted by -10, -10 units from figure we are basing our units off of)\n",
        "p2 = -6.6*N.x - 1.97*N.y # Coordinates given\n",
        "p4 = -2.6*N.x + 9.9*N.y # Coordinates given\n",
        "\n",
        "# Note that for all other points, they are still w.r.t N frame, but they can be defined from different directions/pathways\n",
        "# Defining the same point from different directions/pathways is needed for constraints\n",
        "# Points directly connected to ground\n",
        "p1_from_p0 = p0 + l_10*Y.x\n",
        "p3_from_p2 = p2 + l_32*O.x\n",
        "p5_from_p4 = p4 + l_54*G.x\n",
        "\n",
        "# Additional points (Consider alternative defnitions of these)\n",
        "p6_from_p1 = p1_from_p0 + l_61*R.x\n",
        "pE_from_p5 = p5_from_p4 + l_5E*B_to_pE.x # 15 degrees CCW from B frame x axis\n",
        "\n",
        "# Alternate pathways to points (used to make LHS and RHS of loop equations defined differently)\n",
        "p3_from_p1 = p1_from_p0 + l_31*R_to_p3.x # 6.007 degrees (CCW) from R frame x axis\n",
        "p5_from_p6 = p6_from_p1 + l_56*B_plus_180.x # 180 degress (CCW) from B frame x axis\n",
        "p6_from_p3 = p3_from_p2 + l_63*R_from_p3.x # -5.84 degress (CW) from R frame x axis\n",
        "pE_from_p6 = p6_from_p3 + l_E6*B_from_p6.x\n",
        "\n",
        "# List of points to that will be used for plotting \n",
        "# Doesn't matter which version of points like p1 we use since they will be constrained to be equal\n",
        "points = [p0, p1_from_p0, p2, p3_from_p2, p4, p5_from_p4, p6_from_p1, pE_from_p6]"
      ],
      "execution_count": 11,
      "outputs": []
    },
    {
      "cell_type": "markdown",
      "metadata": {
        "id": "1cH7S9Nm22dK"
      },
      "source": [
        "Define vectors that connect the joint locations"
      ]
    },
    {
      "cell_type": "code",
      "metadata": {
        "id": "3rYGKZtT22Hr"
      },
      "source": [
        "## When subtracting: # Vector to head minus vector to tail\n",
        "\n",
        "## From Loop Closure Eq. #1\n",
        "#r_10 = p1_from_p0\n",
        "#r_31 = p3_from_p1 - p1_from_p0\n",
        "#r_32 = p3_from_p2 - p2 \n",
        "#r_02 = -p2\n",
        "\n",
        "## From Loop Closure Eq. #2\n",
        "##r_10 already is included in Eq. 1\n",
        "#r_61 = p6 - p1\n",
        "#r_56 = p5_alt - p6\n",
        "#r_54 = p5 - p4\n",
        "#r_40 = p4\n",
        "\n",
        "## From Loop Closure Eq. #3\n",
        "##r_32 already is included in Eq. 1\n",
        "##r_54 already is included in Eq. 2\n",
        "##r_56 already is included in Eq. 2\n",
        "#r_63 = p6 - p3\n",
        "#r_42 = p4 - p2\n",
        "\n",
        "## End effector\n",
        "#r_E6 = pE - p6\n",
        "#r_E5 = pE - p5"
      ],
      "execution_count": 12,
      "outputs": []
    },
    {
      "cell_type": "markdown",
      "metadata": {
        "id": "RXqi9OEh6G2w"
      },
      "source": [
        "Create a list of initial values ini0 in the order of the system’s state variables"
      ]
    },
    {
      "cell_type": "code",
      "metadata": {
        "id": "I7ViuiMz6GQt"
      },
      "source": [
        "statevariables = system.get_state_variables()\n",
        "ini0 = [initialvalues[item] for item in statevariables]"
      ],
      "execution_count": 13,
      "outputs": []
    },
    {
      "cell_type": "markdown",
      "metadata": {
        "id": "AtXXhIQl6u-_"
      },
      "source": [
        "Create all the vector equation constraints (e.g., loop closure equations, rigid link constraints, etc.)\n",
        "\n",
        "![Loop Closure Equations](https://raw.githubusercontent.com/arnoldjames98/arnoldjames98.github.io/main/images/assignment3/loopClosureEqs.png)"
      ]
    },
    {
      "cell_type": "code",
      "metadata": {
        "id": "Vp_iVBS77Ag4"
      },
      "source": [
        "# Loop closure equations (constraint to ensure all loops are equal to zero)\n",
        "# Equation 1 (R02 + R10 + R31 = R32)\n",
        "loopClosure1 = p3_from_p1 - p3_from_p2\n",
        "#print(\"p3_from_p2:\", p3_from_p2)\n",
        "#print(\"p3_from_p1:\", p3_from_p1)\n",
        "#print(\"loopClosure1\", loopClosure1)\n",
        "\n",
        "# Equation 2 (R10 + R61 + R56 = R40 + R54)\n",
        "loopClosure2 = p5_from_p4 - p5_from_p6\n",
        "#print(\"p5_from_p4:\", p5_from_p4)\n",
        "#print(\"p5_from_p6:\", p5_from_p6)\n",
        "#print(\"loopClosure2\", loopClosure2)\n",
        "\n",
        "# Equation 3 (R42 + R54 = R32 + R63 + R56)\n",
        "# This one is a bit confusing since really p6 is being defined by two pathways,\n",
        "# but because of the direction of R56 it is done this way\n",
        "loopClosure3 = p6_from_p3 - p5_from_p4 - p5_from_p6\n",
        "\n",
        "# TODO: Are there any other contraint equations? Seems like we need 4 since we have 4 unknowns\n",
        "# I'm less sure about this one\n",
        "blueLink = pE_from_p5 - pE_from_p6"
      ],
      "execution_count": 14,
      "outputs": []
    },
    {
      "cell_type": "markdown",
      "metadata": {
        "id": "HtZSu4Cs8q06"
      },
      "source": [
        "Convert the vector constraints into scalar equations that can be solved"
      ]
    },
    {
      "cell_type": "code",
      "metadata": {
        "colab": {
          "base_uri": "https://localhost:8080/"
        },
        "id": "p0LDrwDm8yCO",
        "outputId": "60df009f-1511-4dd9-bcc5-6ae80594182c"
      },
      "source": [
        "eq = []\n",
        "\n",
        "# Loop closure equations\n",
        "eq.append((loopClosure1).dot(N.x))\n",
        "eq.append((loopClosure1).dot(N.y))\n",
        "\n",
        "eq.append((loopClosure2).dot(N.x))\n",
        "eq.append((loopClosure2).dot(N.y))\n",
        "\n",
        "eq.append((loopClosure3).dot(N.x))\n",
        "eq.append((loopClosure3).dot(N.y))\n",
        "\n",
        "# This constraint I am less confident that we need\n",
        "eq.append((blueLink).dot(N.x))\n",
        "eq.append((blueLink).dot(N.y))\n",
        "\n",
        "# Show the equations\n",
        "print(eq)\n",
        "\n",
        "# Take the derivatives\n",
        "eq_d=[(system.derivative(item)) for item in eq]\n",
        "\n",
        "# Show the derivatives\n",
        "print(eq_d)"
      ],
      "execution_count": 15,
      "outputs": [
        {
          "output_type": "stream",
          "text": [
            "[l_10*cos(qY) - l_31*sin(qY)*sin(qR + 0.104841928167299) + l_31*cos(qY)*cos(qR + 0.104841928167299) - l_32*cos(qO) + 6.6, l_10*sin(qY) + l_31*sin(qY)*cos(qR + 0.104841928167299) + l_31*sin(qR + 0.104841928167299)*cos(qY) - l_32*sin(qO) + 1.97, -l_10*cos(qY) + l_54*cos(qG) + l_56*sin(qG)*sin(qB + 3.14159265358979) - l_56*cos(qG)*cos(qB + 3.14159265358979) + l_61*sin(qR)*sin(qY) - l_61*cos(qR)*cos(qY) - 2.6, -l_10*sin(qY) + l_54*sin(qG) - l_56*sin(qG)*cos(qB + 3.14159265358979) - l_56*sin(qB + 3.14159265358979)*cos(qG) - l_61*sin(qR)*cos(qY) - l_61*sin(qY)*cos(qR) + 9.9, -l_10*cos(qY) + l_32*cos(qO) - l_54*cos(qG) + l_56*sin(qG)*sin(qB + 3.14159265358979) - l_56*cos(qG)*cos(qB + 3.14159265358979) + l_61*sin(qR)*sin(qY) - l_61*cos(qR)*cos(qY) - l_63*sin(qY)*sin(qR - 0.223402144255274) + l_63*cos(qY)*cos(qR - 0.223402144255274) - 4.0, -l_10*sin(qY) + l_32*sin(qO) - l_54*sin(qG) - l_56*sin(qG)*cos(qB + 3.14159265358979) - l_56*sin(qB + 3.14159265358979)*cos(qG) - l_61*sin(qR)*cos(qY) - l_61*sin(qY)*cos(qR) + l_63*sin(qY)*cos(qR - 0.223402144255274) + l_63*sin(qR - 0.223402144255274)*cos(qY) - 11.87, -l_32*cos(qO) + l_54*cos(qG) - l_5E*sin(qG)*sin(qB + 0.261799387799149) + l_5E*cos(qG)*cos(qB + 0.261799387799149) + l_63*sin(qY)*sin(qR - 0.223402144255274) - l_63*cos(qY)*cos(qR - 0.223402144255274) + l_E6*sin(qG)*sin(qB + 0.523598775598299) - l_E6*cos(qG)*cos(qB + 0.523598775598299) + 4.0, -l_32*sin(qO) + l_54*sin(qG) + l_5E*sin(qG)*cos(qB + 0.261799387799149) + l_5E*sin(qB + 0.261799387799149)*cos(qG) - l_63*sin(qY)*cos(qR - 0.223402144255274) - l_63*sin(qR - 0.223402144255274)*cos(qY) - l_E6*sin(qG)*cos(qB + 0.523598775598299) - l_E6*sin(qB + 0.523598775598299)*cos(qG) + 11.87]\n",
            "[l_32*qO_d*sin(qO) + qR_d*(-l_31*sin(qY)*cos(qR + 0.104841928167299) - l_31*sin(qR + 0.104841928167299)*cos(qY)) + qY_d*(-l_10*sin(qY) - l_31*sin(qY)*cos(qR + 0.104841928167299) - l_31*sin(qR + 0.104841928167299)*cos(qY)), -l_32*qO_d*cos(qO) + qR_d*(-l_31*sin(qY)*sin(qR + 0.104841928167299) + l_31*cos(qY)*cos(qR + 0.104841928167299)) + qY_d*(l_10*cos(qY) - l_31*sin(qY)*sin(qR + 0.104841928167299) + l_31*cos(qY)*cos(qR + 0.104841928167299)), qB_d*(l_56*sin(qG)*cos(qB + 3.14159265358979) + l_56*sin(qB + 3.14159265358979)*cos(qG)) + qG_d*(-l_54*sin(qG) + l_56*sin(qG)*cos(qB + 3.14159265358979) + l_56*sin(qB + 3.14159265358979)*cos(qG)) + qR_d*(l_61*sin(qR)*cos(qY) + l_61*sin(qY)*cos(qR)) + qY_d*(l_10*sin(qY) + l_61*sin(qR)*cos(qY) + l_61*sin(qY)*cos(qR)), qB_d*(l_56*sin(qG)*sin(qB + 3.14159265358979) - l_56*cos(qG)*cos(qB + 3.14159265358979)) + qG_d*(l_54*cos(qG) + l_56*sin(qG)*sin(qB + 3.14159265358979) - l_56*cos(qG)*cos(qB + 3.14159265358979)) + qR_d*(l_61*sin(qR)*sin(qY) - l_61*cos(qR)*cos(qY)) + qY_d*(-l_10*cos(qY) + l_61*sin(qR)*sin(qY) - l_61*cos(qR)*cos(qY)), -l_32*qO_d*sin(qO) + qB_d*(l_56*sin(qG)*cos(qB + 3.14159265358979) + l_56*sin(qB + 3.14159265358979)*cos(qG)) + qG_d*(l_54*sin(qG) + l_56*sin(qG)*cos(qB + 3.14159265358979) + l_56*sin(qB + 3.14159265358979)*cos(qG)) + qR_d*(l_61*sin(qR)*cos(qY) + l_61*sin(qY)*cos(qR) - l_63*sin(qY)*cos(qR - 0.223402144255274) - l_63*sin(qR - 0.223402144255274)*cos(qY)) + qY_d*(l_10*sin(qY) + l_61*sin(qR)*cos(qY) + l_61*sin(qY)*cos(qR) - l_63*sin(qY)*cos(qR - 0.223402144255274) - l_63*sin(qR - 0.223402144255274)*cos(qY)), l_32*qO_d*cos(qO) + qB_d*(l_56*sin(qG)*sin(qB + 3.14159265358979) - l_56*cos(qG)*cos(qB + 3.14159265358979)) + qG_d*(-l_54*cos(qG) + l_56*sin(qG)*sin(qB + 3.14159265358979) - l_56*cos(qG)*cos(qB + 3.14159265358979)) + qR_d*(l_61*sin(qR)*sin(qY) - l_61*cos(qR)*cos(qY) - l_63*sin(qY)*sin(qR - 0.223402144255274) + l_63*cos(qY)*cos(qR - 0.223402144255274)) + qY_d*(-l_10*cos(qY) + l_61*sin(qR)*sin(qY) - l_61*cos(qR)*cos(qY) - l_63*sin(qY)*sin(qR - 0.223402144255274) + l_63*cos(qY)*cos(qR - 0.223402144255274)), l_32*qO_d*sin(qO) + qB_d*(-l_5E*sin(qG)*cos(qB + 0.261799387799149) - l_5E*sin(qB + 0.261799387799149)*cos(qG) + l_E6*sin(qG)*cos(qB + 0.523598775598299) + l_E6*sin(qB + 0.523598775598299)*cos(qG)) + qG_d*(-l_54*sin(qG) - l_5E*sin(qG)*cos(qB + 0.261799387799149) - l_5E*sin(qB + 0.261799387799149)*cos(qG) + l_E6*sin(qG)*cos(qB + 0.523598775598299) + l_E6*sin(qB + 0.523598775598299)*cos(qG)) + qR_d*(l_63*sin(qY)*cos(qR - 0.223402144255274) + l_63*sin(qR - 0.223402144255274)*cos(qY)) + qY_d*(l_63*sin(qY)*cos(qR - 0.223402144255274) + l_63*sin(qR - 0.223402144255274)*cos(qY)), -l_32*qO_d*cos(qO) + qB_d*(-l_5E*sin(qG)*sin(qB + 0.261799387799149) + l_5E*cos(qG)*cos(qB + 0.261799387799149) + l_E6*sin(qG)*sin(qB + 0.523598775598299) - l_E6*cos(qG)*cos(qB + 0.523598775598299)) + qG_d*(l_54*cos(qG) - l_5E*sin(qG)*sin(qB + 0.261799387799149) + l_5E*cos(qG)*cos(qB + 0.261799387799149) + l_E6*sin(qG)*sin(qB + 0.523598775598299) - l_E6*cos(qG)*cos(qB + 0.523598775598299)) + qR_d*(l_63*sin(qY)*sin(qR - 0.223402144255274) - l_63*cos(qY)*cos(qR - 0.223402144255274)) + qY_d*(l_63*sin(qY)*sin(qR - 0.223402144255274) - l_63*cos(qY)*cos(qR - 0.223402144255274))]\n"
          ],
          "name": "stdout"
        }
      ]
    },
    {
      "cell_type": "markdown",
      "metadata": {
        "id": "1gS80XYOGJY-"
      },
      "source": [
        "identify independent and dependent variables"
      ]
    },
    {
      "cell_type": "code",
      "metadata": {
        "id": "JWUd1D4vRWm0"
      },
      "source": [
        "qi = [qY] # Yellow link is the input\r\n",
        "qd = [qO, qG, qR, qB] # All other links are dependent on the input"
      ],
      "execution_count": 16,
      "outputs": []
    },
    {
      "cell_type": "markdown",
      "metadata": {
        "id": "bmQoKsuNGX3j"
      },
      "source": [
        "for dependent variables, create an initial guess\n",
        "\n",
        "Create a copy of symbolic constants dictionary and add the initial value of qi to it"
      ]
    },
    {
      "cell_type": "code",
      "metadata": {
        "id": "0I7urC06RXAB"
      },
      "source": [
        "constants = system.constant_values.copy()\r\n",
        "defined = dict([(item,initialvalues[item]) for item in qi])\r\n",
        "constants.update(defined)"
      ],
      "execution_count": 17,
      "outputs": []
    },
    {
      "cell_type": "markdown",
      "metadata": {
        "id": "Z4qzT1OYGa8e"
      },
      "source": [
        "substitute constants in equation"
      ]
    },
    {
      "cell_type": "code",
      "metadata": {
        "id": "aZXhaFkNR4xY",
        "colab": {
          "base_uri": "https://localhost:8080/"
        },
        "outputId": "b4a974a9-eebe-4131-a55b-a720607220c6"
      },
      "source": [
        "eq = [item.subs(constants) for item in eq]\r\n",
        "print(eq)"
      ],
      "execution_count": 18,
      "outputs": [
        {
          "output_type": "stream",
          "text": [
            "[5.05589332458525*sin(qR + 0.104841928167299) - 3.59*cos(qO) - 4.24239822393116*cos(qR + 0.104841928167299) + 4.67163717094038, -3.59*sin(qO) - 4.24239822393116*sin(qR + 0.104841928167299) - 5.05589332458525*cos(qR + 0.104841928167299) - 0.328133329356934, 10.04*sin(qG)*sin(qB + 3.14159265358979) - 9.47060745027992*sin(qR) - 10.04*cos(qG)*cos(qB + 3.14159265358979) + 7.37*cos(qG) + 7.94678321855469*cos(qR) - 0.671637170940382, -10.04*sin(qG)*cos(qB + 3.14159265358979) + 7.37*sin(qG) + 7.94678321855469*sin(qR) - 10.04*sin(qB + 3.14159265358979)*cos(qG) + 9.47060745027992*cos(qR) + 12.1981333293569, 10.04*sin(qG)*sin(qB + 3.14159265358979) - 9.47060745027992*sin(qR) + 4.47369954781483*sin(qR - 0.223402144255274) - 10.04*cos(qG)*cos(qB + 3.14159265358979) - 7.37*cos(qG) + 3.59*cos(qO) + 7.94678321855469*cos(qR) - 3.75387964056939*cos(qR - 0.223402144255274) - 2.07163717094038, -10.04*sin(qG)*cos(qB + 3.14159265358979) - 7.37*sin(qG) + 3.59*sin(qO) + 7.94678321855469*sin(qR) - 10.04*sin(qB + 3.14159265358979)*cos(qG) - 3.75387964056939*sin(qR - 0.223402144255274) + 9.47060745027992*cos(qR) - 4.47369954781483*cos(qR - 0.223402144255274) - 9.57186667064307, -19.396*sin(qG)*sin(qB + 0.261799387799149) + 10.04*sin(qG)*sin(qB + 0.523598775598299) - 4.47369954781483*sin(qR - 0.223402144255274) + 19.396*cos(qG)*cos(qB + 0.261799387799149) - 10.04*cos(qG)*cos(qB + 0.523598775598299) + 7.37*cos(qG) - 3.59*cos(qO) + 3.75387964056939*cos(qR - 0.223402144255274) + 4.0, 19.396*sin(qG)*cos(qB + 0.261799387799149) - 10.04*sin(qG)*cos(qB + 0.523598775598299) + 7.37*sin(qG) - 3.59*sin(qO) + 19.396*sin(qB + 0.261799387799149)*cos(qG) - 10.04*sin(qB + 0.523598775598299)*cos(qG) + 3.75387964056939*sin(qR - 0.223402144255274) + 4.47369954781483*cos(qR - 0.223402144255274) + 11.87]\n"
          ],
          "name": "stdout"
        }
      ]
    },
    {
      "cell_type": "markdown",
      "metadata": {
        "id": "cAFptUfGGieG"
      },
      "source": [
        "convert to numpy array\n",
        "\n",
        "sum the error"
      ]
    },
    {
      "cell_type": "code",
      "metadata": {
        "id": "W-lOPQi6R6Ix"
      },
      "source": [
        "error = (numpy.array(eq)**2).sum()\r\n"
      ],
      "execution_count": 19,
      "outputs": []
    },
    {
      "cell_type": "markdown",
      "metadata": {
        "id": "H6QzTe9IGlO8"
      },
      "source": [
        "Convert to a function that scipy can use. Sympy has a “labmdify” function that evaluates an expression, but scipy needs a slightly different format."
      ]
    },
    {
      "cell_type": "code",
      "metadata": {
        "id": "1xR2xTkqR8Jf"
      },
      "source": [
        "f = sympy.lambdify(qd,error)\r\n",
        "\r\n",
        "def function(args):\r\n",
        "    return f(*args)"
      ],
      "execution_count": 20,
      "outputs": []
    },
    {
      "cell_type": "markdown",
      "metadata": {
        "id": "4LH3VfVZGsPA"
      },
      "source": [
        "Take the derivative of the equations to linearize with regard to the velocity variables"
      ]
    },
    {
      "cell_type": "code",
      "metadata": {
        "id": "jnu2eFHXR9UX",
        "colab": {
          "base_uri": "https://localhost:8080/",
          "height": 520
        },
        "outputId": "03dfa8ba-c2a4-4312-db47-2307b6f08214"
      },
      "source": [
        "guess = [initialvalues[item] for item in qd]\r\n",
        "\r\n",
        "result = scipy.optimize.minimize(function,guess)\r\n",
        "#if result.fun>1e-3:\r\n",
        "#    raise(Exception(\"out of tolerance\"))\r\n",
        "print(\"Result:\", result)\r\n",
        "\r\n",
        "ini = []\r\n",
        "\r\n",
        "for item in system.get_state_variables():\r\n",
        "    if item in qd:\r\n",
        "        ini.append(result.x[qd.index(item)])\r\n",
        "    else:\r\n",
        "        ini.append(initialvalues[item])\r\n",
        "\r\n",
        "points = PointsOutput(points, constant_values=system.constant_values)\r\n",
        "points.calc(numpy.array([ini0,ini]))\r\n",
        "points.plot_time()\r\n",
        "\r\n",
        "plt.fill([-2, -6.6, 0], [9.9, -1.97, 0], facecolor='purple', edgecolor=\"black\",linewidth=3, alpha=0.5)\r\n",
        "\r\n",
        "plt.grid()\r\n",
        "plt.show()"
      ],
      "execution_count": 21,
      "outputs": [
        {
          "output_type": "stream",
          "text": [
            "Result:       fun: 32.39294258922906\n",
            " hess_inv: array([[ 0.08139105, -0.03205851,  0.02562543,  0.06073591],\n",
            "       [-0.03205851,  0.01629926, -0.01215212, -0.02986095],\n",
            "       [ 0.02562543, -0.01215212,  0.01589592,  0.02975195],\n",
            "       [ 0.06073591, -0.02986095,  0.02975195,  0.06518454]])\n",
            "      jac: array([ 1.90734863e-06,  5.72204590e-06, -3.81469727e-06,  5.24520874e-06])\n",
            "  message: 'Optimization terminated successfully.'\n",
            "     nfev: 138\n",
            "      nit: 21\n",
            "     njev: 23\n",
            "   status: 0\n",
            "  success: True\n",
            "        x: array([ 1.68653039,  4.47501697, -1.39218776, -1.56472224])\n"
          ],
          "name": "stdout"
        },
        {
          "output_type": "stream",
          "text": [
            "2021-02-18 17:12:40,822 - pynamics.output - INFO - calculating outputs\n",
            "2021-02-18 17:12:40,824 - pynamics.output - INFO - done calculating outputs\n"
          ],
          "name": "stderr"
        },
        {
          "output_type": "display_data",
          "data": {
            "image/png": "[encoded data removed]",
            "text/plain": [
              "<Figure size 432x288 with 1 Axes>"
            ]
          },
          "metadata": {
            "tags": [],
            "needs_background": "light"
          }
        }
      ]
    },
    {
      "cell_type": "markdown",
      "metadata": {
        "id": "kmYPVcIdPh9G"
      },
      "source": [
        "Make the above plot for readable by manually plotting the points"
      ]
    },
    {
      "cell_type": "code",
      "metadata": {
        "id": "Hp_MYE2rSDAi",
        "colab": {
          "base_uri": "https://localhost:8080/",
          "height": 491
        },
        "outputId": "eda7d94b-cc2e-4312-a4ef-fce80e937422"
      },
      "source": [
        "result.fun\n",
        "#print(points.y)\n",
        "\n",
        "plt.figure\n",
        "# Blue link\n",
        "plt.fill([points.y[0][7,0], points.y[0][6,0], points.y[0][5,0]], [points.y[0][7,1], points.y[0][6,1], points.y[0][5,1]], facecolor='blue', edgecolor=\"black\",linewidth=3, alpha=0.5)\n",
        "# Purple link\n",
        "plt.fill([points.y[0][0,0], points.y[0][2,0], points.y[0][4,0]], [points.y[0][0,1], points.y[0][2,1], points.y[0][4,1]], facecolor='purple', edgecolor=\"black\",linewidth=3, alpha=0.5)\n",
        "# Red link\n",
        "plt.fill([points.y[0][1,0], points.y[0][3,0], points.y[0][6,0]], [points.y[0][1,1], points.y[0][3,1], points.y[0][6,1]], facecolor='red', edgecolor=\"black\",linewidth=3, alpha=0.5)\n",
        "# Orange link\n",
        "plt.fill([points.y[0][2,0], points.y[0][3,0]], [points.y[0][2,1], points.y[0][3,1]], edgecolor=\"orange\",linewidth=6, alpha=0.8)\n",
        "# Green link\n",
        "plt.fill([points.y[0][4,0], points.y[0][5,0]], [points.y[0][4,1], points.y[0][5,1]], edgecolor=\"green\",linewidth=6, alpha=0.8)\n",
        "# Yello link\n",
        "plt.fill([points.y[0][0,0], points.y[0][1,0]], [points.y[0][0,1], points.y[0][1,1]], edgecolor=\"yellow\",linewidth=6, alpha=0.8)\n",
        "plt.grid()\n",
        "plt.axis('scaled')\n",
        "plt.show()\n",
        "\n",
        "\n",
        "\n",
        "plt.figure\n",
        "# Blue link\n",
        "plt.fill([points.y[1][7,0], points.y[1][6,0], points.y[1][5,0]], [points.y[1][7,1], points.y[1][6,1], points.y[1][5,1]], facecolor='blue', edgecolor=\"black\",linewidth=3, alpha=0.5)\n",
        "# Purple link\n",
        "plt.fill([points.y[1][0,0], points.y[1][2,0], points.y[1][4,0]], [points.y[1][0,1], points.y[1][2,1], points.y[1][4,1]], facecolor='purple', edgecolor=\"black\",linewidth=3, alpha=0.5)\n",
        "# Red link\n",
        "plt.fill([points.y[1][1,0], points.y[1][3,0], points.y[1][6,0]], [points.y[1][1,1], points.y[1][3,1], points.y[1][6,1]], facecolor='red', edgecolor=\"black\",linewidth=3, alpha=0.5)\n",
        "# Orange link\n",
        "plt.fill([points.y[1][2,0], points.y[1][3,0]], [points.y[1][2,1], points.y[1][3,1]], edgecolor=\"orange\",linewidth=6, alpha=0.8)\n",
        "# Green link\n",
        "plt.fill([points.y[1][4,0], points.y[1][5,0]], [points.y[1][4,1], points.y[1][5,1]], edgecolor=\"green\",linewidth=6, alpha=0.8)\n",
        "# Yello link\n",
        "plt.fill([points.y[1][0,0], points.y[1][1,0]], [points.y[1][0,1], points.y[1][1,1]], edgecolor=\"yellow\",linewidth=6, alpha=0.8)\n",
        "plt.grid()\n",
        "plt.axis('scaled')\n",
        "plt.show()"
      ],
      "execution_count": 22,
      "outputs": [
        {
          "output_type": "display_data",
          "data": {
            "image/png": "[encoded data removed]",
            "text/plain": [
              "<Figure size 432x288 with 1 Axes>"
            ]
          },
          "metadata": {
            "tags": [],
            "needs_background": "light"
          }
        },
        {
          "output_type": "display_data",
          "data": {
            "image/png": "[encoded data removed]",
            "text/plain": [
              "<Figure size 432x288 with 1 Axes>"
            ]
          },
          "metadata": {
            "tags": [],
            "needs_background": "light"
          }
        }
      ]
    },
    {
      "cell_type": "markdown",
      "metadata": {
        "id": "md32MqYCE8Kg"
      },
      "source": [
        "#### Create the Jacobian"
      ]
    },
    {
      "cell_type": "markdown",
      "metadata": {
        "id": "-W0ZEkPdFMhZ"
      },
      "source": [
        "Turn constraint equations into a vector"
      ]
    },
    {
      "cell_type": "code",
      "metadata": {
        "id": "352EErkOE-Yv"
      },
      "source": [
        "eq_d = sympy.Matrix(eq_d)"
      ],
      "execution_count": 23,
      "outputs": []
    },
    {
      "cell_type": "markdown",
      "metadata": {
        "id": "CyQZ_y2SFOiH"
      },
      "source": [
        "Turn qi and qd into sympy vectors"
      ]
    },
    {
      "cell_type": "code",
      "metadata": {
        "id": "LMk2AaZPFQc4"
      },
      "source": [
        "qi = sympy.Matrix([qY_d])\n",
        "qd = sympy.Matrix([qO_d,qG_d,qR_d,qB_d])"
      ],
      "execution_count": 24,
      "outputs": []
    },
    {
      "cell_type": "markdown",
      "metadata": {
        "id": "xb9tehG8Fgod"
      },
      "source": [
        "take partial derivative of constraints with respect to independent and dependent variables:"
      ]
    },
    {
      "cell_type": "code",
      "metadata": {
        "colab": {
          "base_uri": "https://localhost:8080/"
        },
        "id": "QJJ4dFlLFipD",
        "outputId": "e6d23cd5-2edf-42ad-ddcf-09257a35ee76"
      },
      "source": [
        "AA = eq_d.jacobian(qi)\n",
        "BB = eq_d.jacobian(qd)\n",
        "print(\"B matrix is not square, it has dimensions of:\", BB.shape)"
      ],
      "execution_count": 25,
      "outputs": [
        {
          "output_type": "stream",
          "text": [
            "B matrix is not square, it has dimensions of: (8, 4)\n"
          ],
          "name": "stdout"
        }
      ]
    },
    {
      "cell_type": "markdown",
      "metadata": {
        "id": "tRIdjvP8Fk-K"
      },
      "source": [
        "Solve for internal input/output Jacobian"
      ]
    },
    {
      "cell_type": "code",
      "metadata": {
        "id": "CpZ-FFp6Fm08"
      },
      "source": [
        "# Cannot take inverse of B since it is not square\n",
        "# In class Dr. Aukes mentioned that you could use a guess and check method for finding the jacobian at a certain position (rather than the symbolic, configuration dependent Jacobian)\n",
        "#J = -BB.pinv()*AA # Maybe try taking pseudo-inverse for B?\n",
        "#J.simplify()"
      ],
      "execution_count": 26,
      "outputs": []
    }
  ]
}