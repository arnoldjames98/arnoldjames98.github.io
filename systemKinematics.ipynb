{
  "nbformat": 4,
  "nbformat_minor": 0,
  "metadata": {
    "colab": {
      "name": "systemKinematics.ipynb",
      "provenance": [],
      "collapsed_sections": [],
      "toc_visible": true,
      "include_colab_link": true
    },
    "kernelspec": {
      "name": "python3",
      "display_name": "Python 3"
    }
  },
  "cells": [
    {
      "cell_type": "markdown",
      "metadata": {
        "id": "view-in-github",
        "colab_type": "text"
      },
      "source": [
        "<a href=\"https://colab.research.google.com/github/arnoldjames98/arnoldjames98.github.io/blob/main/systemKinematics.ipynb\" target=\"_parent\"><img src=\"https://colab.research.google.com/assets/colab-badge.svg\" alt=\"Open In Colab\"/></a>"
      ]
    },
    {
      "cell_type": "markdown",
      "metadata": {
        "id": "1Hf_2b0SpFxN"
      },
      "source": [
        "# [Biodegradable Crab Leg Mechanism](https://arnoldjames98.github.io/)\n",
        "# System Kinematics"
      ]
    },
    {
      "cell_type": "markdown",
      "metadata": {
        "id": "8TlQ2kW0Hemw"
      },
      "source": [
        "### 1. Create a figure of your system kinematics."
      ]
    },
    {
      "cell_type": "markdown",
      "metadata": {
        "id": "QqnvY0htH6x2"
      },
      "source": [
        "We decided to create two figures. The first shows the reference frames and cooresponding state variables used to represent the mechanism. The second shows all the geometric constraints of the mechanism and is followed by a table with the relevant information.\n",
        "\n",
        "![Mechanism Drawing - Lengths](https://raw.githubusercontent.com/arnoldjames98/arnoldjames98.github.io/main/images/assignment3/frames.png) \n",
        "\n",
        "![Mechanism Drawing - Frames](https://raw.githubusercontent.com/arnoldjames98/arnoldjames98.github.io/main/images/assignment3/lengths.png)\n",
        "\n",
        "| Length | Rigid Body | Measurement (cm)\n",
        "| --- | --- | --- |\n",
        "| L10 | Yellow | 3 |\n",
        "| L02 | Purple | 6.89 |\n",
        "| L42 | Purple | 9.73 |\n",
        "| L40 | Purple | 7.37 |\n",
        "| L31 | Red | 6.6 |\n",
        "| L61 | Red | 12.36 | \n",
        "| L63 | Red | 5.84 |\n",
        "| L54 | Green | 5.79 |\n",
        "| L32 | Orange | 3.59 |\n",
        "| L56 | Blue | 10.04 |\n",
        "| L5E | Blue | 19.40 |\n",
        "| LE6 | Blue | 10.04 |\n"
      ]
    },
    {
      "cell_type": "markdown",
      "metadata": {
        "id": "L6QhoGUzIHa-"
      },
      "source": [
        "### 2. Make the device in paper or cardboard. You need an up-to-date model if it has changed from your individual assignments. The paper model should dimensionally match your code."
      ]
    },
    {
      "cell_type": "markdown",
      "metadata": {
        "id": "d639MEzFIMEF"
      },
      "source": [
        "A prototype of the mechansim using foldable joints was created based on the dimensions from the table in the previous section. Note that two layers are required to prevent interference in the foldable mechanism.\n",
        "![Mechanism Drawing](https://raw.githubusercontent.com/arnoldjames98/arnoldjames98.github.io/main/images/assignment3/CardboardPaper1.1.jpg)\n",
        "![Mechanism Drawing](https://raw.githubusercontent.com/arnoldjames98/arnoldjames98.github.io/main/images/assignment3/CardboardPaper2.1.jpg)"
      ]
    },
    {
      "cell_type": "markdown",
      "metadata": {
        "id": "ON9Q4k5vIUPI"
      },
      "source": [
        "### 3. Using a pynamics-based script, develop a kinematic model for your device."
      ]
    },
    {
      "cell_type": "markdown",
      "metadata": {
        "id": "y0Y2bmVKH0pY"
      },
      "source": [
        "Show plots inline and ensure that pynamics is installed."
      ]
    },
    {
      "cell_type": "code",
      "metadata": {
        "colab": {
          "base_uri": "https://localhost:8080/"
        },
        "id": "J0V7O1PJfai7",
        "outputId": "5516972a-86b3-4dc8-b133-d16b87776abe"
      },
      "source": [
        "%matplotlib inline\n",
        "!pip install pynamics"
      ],
      "execution_count": null,
      "outputs": [
        {
          "output_type": "stream",
          "text": [
            "Requirement already satisfied: pynamics in /usr/local/lib/python3.6/dist-packages (0.0.8)\n",
            "Requirement already satisfied: sympy in /usr/local/lib/python3.6/dist-packages (from pynamics) (1.1.1)\n",
            "Requirement already satisfied: scipy in /usr/local/lib/python3.6/dist-packages (from pynamics) (1.4.1)\n",
            "Requirement already satisfied: matplotlib in /usr/local/lib/python3.6/dist-packages (from pynamics) (3.2.2)\n",
            "Requirement already satisfied: numpy in /usr/local/lib/python3.6/dist-packages (from pynamics) (1.19.5)\n",
            "Requirement already satisfied: mpmath>=0.19 in /usr/local/lib/python3.6/dist-packages (from sympy->pynamics) (1.1.0)\n",
            "Requirement already satisfied: kiwisolver>=1.0.1 in /usr/local/lib/python3.6/dist-packages (from matplotlib->pynamics) (1.3.1)\n",
            "Requirement already satisfied: pyparsing!=2.0.4,!=2.1.2,!=2.1.6,>=2.0.1 in /usr/local/lib/python3.6/dist-packages (from matplotlib->pynamics) (2.4.7)\n",
            "Requirement already satisfied: cycler>=0.10 in /usr/local/lib/python3.6/dist-packages (from matplotlib->pynamics) (0.10.0)\n",
            "Requirement already satisfied: python-dateutil>=2.1 in /usr/local/lib/python3.6/dist-packages (from matplotlib->pynamics) (2.8.1)\n",
            "Requirement already satisfied: six in /usr/local/lib/python3.6/dist-packages (from cycler>=0.10->matplotlib->pynamics) (1.15.0)\n"
          ],
          "name": "stdout"
        }
      ]
    },
    {
      "cell_type": "markdown",
      "metadata": {
        "id": "1DAWJ9GZf5PF"
      },
      "source": [
        "Import all required packages. Packages related to dynamics are commented out since they are not needed for this assignment, but will be used in the future."
      ]
    },
    {
      "cell_type": "code",
      "metadata": {
        "id": "X3oEPY4Of7Bb"
      },
      "source": [
        "import pynamics\n",
        "from pynamics.frame import Frame\n",
        "from pynamics.variable_types import Differentiable,Constant\n",
        "from pynamics.system import System\n",
        "#from pynamics.body import Body\n",
        "#from pynamics.dyadic import Dyadic\n",
        "from pynamics.output import Output,PointsOutput\n",
        "#from pynamics.particle import Particle\n",
        "import pynamics.integration\n",
        "import sympy\n",
        "import numpy\n",
        "import matplotlib.pyplot as plt\n",
        "plt.ion()\n",
        "from math import pi\n",
        "#from pynamics.constraint import Constraint\n",
        "import scipy.optimize"
      ],
      "execution_count": null,
      "outputs": []
    },
    {
      "cell_type": "markdown",
      "metadata": {
        "id": "MjMPn0LYhA7l"
      },
      "source": [
        "Create a pynamics system where the mechanism is located."
      ]
    },
    {
      "cell_type": "code",
      "metadata": {
        "id": "8Qs29wgyhAmp"
      },
      "source": [
        "system = System()\n",
        "pynamics.set_system(__name__,system)"
      ],
      "execution_count": null,
      "outputs": []
    },
    {
      "cell_type": "markdown",
      "metadata": {
        "id": "F6l_ZP-ii2G8"
      },
      "source": [
        "Declare all length constants."
      ]
    },
    {
      "cell_type": "code",
      "metadata": {
        "id": "YBp7C4K1i6vq"
      },
      "source": [
        "# From Loop Closure Eq. #1\n",
        "l_10 = Constant(3,'l_10',system)\n",
        "l_31 = Constant(6.6,'l_31',system)\n",
        "l_32 = Constant(3.59,'l_32',system)\n",
        "l_02 = Constant(6.8877,'l_02',system)\n",
        "\n",
        "# From Loop Closure Eq. #2\n",
        "#l_10 already is included in Eq. 1\n",
        "l_61 = Constant(12.363,'l_61',system)\n",
        "l_56 = Constant(10.04,'l_56',system)\n",
        "l_54 = Constant(5.79,'l_54',system)\n",
        "l_40 = Constant(7.3736,'l_54',system)\n",
        "\n",
        "# From Loop Closure Eq. #3\n",
        "#l_32 already is included in Eq. 1\n",
        "#l_54 already is included in Eq. 2\n",
        "#l_56 already is included in Eq. 2\n",
        "l_63 = Constant(5.84,'l_63',system)\n",
        "l_42 = Constant(9.73,'l_42',system)\n",
        "\n",
        "# End effector\n",
        "l_E6 = Constant(10.04,'l_E6',system)\n",
        "l_5E = Constant(19.396,'l_5E',system)\n",
        "\n",
        "# Consider adding the constant angle constraints in the future"
      ],
      "execution_count": null,
      "outputs": []
    },
    {
      "cell_type": "markdown",
      "metadata": {
        "id": "lMQqg-SuDwcn"
      },
      "source": [
        "Create the differentiable state variables, cooresponding to the joint angles (we might not need all of these depending on how we do the constraints)"
      ]
    },
    {
      "cell_type": "code",
      "metadata": {
        "id": "3TOiNwM0lfJ-"
      },
      "source": [
        "# Note: All angles are measured CCW\n",
        "\n",
        "# Input state variable (angle of crank on yellow link)\n",
        "qY,qY_d,qY_dd = Differentiable('qY',system) # Yellow input link, measured from base frame coordinates\n",
        "\n",
        "# Other state variables (angles of the four undefined links)\n",
        "# Note that the purple link is ground so is fully defined\n",
        "qO,qO_d,qO_dd = Differentiable('qO',system) # Orange link w.r.t base frame\n",
        "qG,qG_d,qG_dd = Differentiable('qG',system) # Green link w.r.t base frame\n",
        "\n",
        "# Links defined w.r.t non-ground link (not connected to ground)\n",
        "qR,qR_d,qR_dd = Differentiable('qR',system) # Red link w.r.t yellow link frame\n",
        "qB,qB_d,qB_dd = Differentiable('qB',system) # Blue link w.r.t green link frame"
      ],
      "execution_count": null,
      "outputs": []
    },
    {
      "cell_type": "markdown",
      "metadata": {
        "id": "eJkP_EQQEgSA"
      },
      "source": [
        "Initial guess for starting positions"
      ]
    },
    {
      "cell_type": "code",
      "metadata": {
        "id": "XSI4Kk7mEf3f"
      },
      "source": [
        "# TODO: We can measure the angles on our directly from our figure to make some guesses\n",
        "initialvalues = {}\n",
        "# Yellow link w.r.t base\n",
        "initialvalues[qY]=130*pi/180 #130*pi/180 (positive) is the input for which I estimated the other angles\n",
        "initialvalues[qY_d]=0\n",
        "\n",
        "# Orange link w.r.t base (measure angle from the standard horizontal x-axis, the shape of the purple ground link is not needed here)\n",
        "initialvalues[qO]=130*pi/180\n",
        "initialvalues[qO_d]=0\n",
        "\n",
        "# Green link w.r.t base (measure angle from the standard horizontal x-axis, the shape of the purple ground link is not needed here)\n",
        "initialvalues[qG]=160*pi/180\n",
        "initialvalues[qG_d]=0\n",
        "\n",
        "# Red link w.r.t yellow link frame\n",
        "initialvalues[qR]=30*pi/180\n",
        "initialvalues[qR_d]=0\n",
        "\n",
        "# Blue link w.r.t green link frame\n",
        "initialvalues[qB]=60*pi/180\n",
        "initialvalues[qB_d]=0"
      ],
      "execution_count": null,
      "outputs": []
    },
    {
      "cell_type": "markdown",
      "metadata": {
        "id": "K-DNvEcrEriC"
      },
      "source": [
        "Retrieve state variables in the order they are stored in the system"
      ]
    },
    {
      "cell_type": "code",
      "metadata": {
        "id": "EE4gfIU6EvhW"
      },
      "source": [
        "# Not sure if we need this, but it's included in the tutorial\n",
        "statevariables = system.get_state_variables()"
      ],
      "execution_count": null,
      "outputs": []
    },
    {
      "cell_type": "markdown",
      "metadata": {
        "id": "VWDDxqrKE9EY"
      },
      "source": [
        "Create the main reference frames, with one cooresponding to each rigid link\n",
        "**Need to update the figure in this notebook, for now refer to first slide of google slides**"
      ]
    },
    {
      "cell_type": "code",
      "metadata": {
        "id": "bGV3_X6jFEO1"
      },
      "source": [
        "N = Frame('N') # Purple (ground) link\n",
        "\n",
        "# Defined w.r.t to ground\n",
        "Y = Frame('Y') # Yellow\n",
        "O = Frame('O') # Orange\n",
        "G = Frame('G') # Green\n",
        "\n",
        "# Defined w.r.t to other links \n",
        "# Note that both are directed towards p6\n",
        "# Important since this is how the angle representing the link is defined\n",
        "R = Frame('R') # Red w.r.t yellow\n",
        "B = Frame('B') # Blue w.r.t green\n",
        "\n",
        "# Helpful additional frames for triangular links\n",
        "# These frames define the constant angles within the triangular joints\n",
        "R_to_p3 = Frame('R_to_p3') # Red w.r.t yellow (+ constant degrees to align x-axis with p3)\n",
        "B_to_pE = Frame('B_to_pE') # Blue w.r.t green (+ constant degrees to align x-axis with pE)\n",
        "B_plus_180 = Frame('B_plus_180') # Blue with x axis in opposite direction\n",
        "R_from_p3 = Frame('R_from_p3') # Red rotated so that it can point from p3 to p6 (CW rotation)\n",
        "B_from_p6 = Frame('B_from_p6') # Blue rotated so it can go from p6 to pE"
      ],
      "execution_count": null,
      "outputs": []
    },
    {
      "cell_type": "markdown",
      "metadata": {
        "id": "koIsFu8CHSkC"
      },
      "source": [
        "Declare N as the Newtonian (fixed) frame"
      ]
    },
    {
      "cell_type": "code",
      "metadata": {
        "id": "qfSch5hKHW_d"
      },
      "source": [
        "system.set_newtonian(N)"
      ],
      "execution_count": null,
      "outputs": []
    },
    {
      "cell_type": "markdown",
      "metadata": {
        "id": "uPFgFvOB-Fcr"
      },
      "source": [
        "Rotate frames about their z-axes so they align with the correct rigid link."
      ]
    },
    {
      "cell_type": "code",
      "metadata": {
        "id": "adOePE3kIxfm"
      },
      "source": [
        "# Frames cooresponding to joint angles\n",
        "Y.rotate_fixed_axis_directed(N,[0,0,1],qY,system) # Yellow\n",
        "O.rotate_fixed_axis_directed(N,[0,0,1],qO,system) # Orange\n",
        "G.rotate_fixed_axis_directed(N,[0,0,1],qG,system) # Green\n",
        "R.rotate_fixed_axis_directed(Y,[0,0,1],qR,system) # Red w.r.t yellow\n",
        "B.rotate_fixed_axis_directed(G,[0,0,1],qB,system) # Blue w.r.t green\n",
        "\n",
        "# Helpful frames for triangular joints\n",
        "# 6.007 degrees from B frame to align axis with p3\n",
        "R_to_p3.rotate_fixed_axis_directed(Y,[0,0,1],qR+6.007*pi/180,system) # Red w.r.t yellow\n",
        "# 15 degrees from B frame to align axis with pE\n",
        "B_to_pE.rotate_fixed_axis_directed(G,[0,0,1],qB+15*pi/180,system) # Blue w.r.t green\n",
        "# B plus 180 (this comes in handy later when defining a vector in the opposite direction)\n",
        "B_plus_180.rotate_fixed_axis_directed(G,[0,0,1],qB+180*pi/180,system) # Blue reversed\n",
        "# R - 5.84 degrees (CW rotation) from p3 to p6\n",
        "R_from_p3.rotate_fixed_axis_directed(Y,[0,0,1],qR-12.8*pi/180,system) # Red w.r.t yellow\n",
        "# Rotate B frame 30 degrees CCW to go from p6 to pE\n",
        "B_from_p6.rotate_fixed_axis_directed(G,[0,0,1],qB+30*pi/180,system)"
      ],
      "execution_count": null,
      "outputs": []
    },
    {
      "cell_type": "markdown",
      "metadata": {
        "id": "kbZAlQ5KJXn3"
      },
      "source": [
        "Define vectors for each of the joint locations.\n",
        "*Note: Not all vectors here are necessary for the chosen loop closure equations, but are kept here since they could be useful in future assignments.*"
      ]
    },
    {
      "cell_type": "code",
      "metadata": {
        "id": "DBYH_O_iuDrX"
      },
      "source": [
        "# Vectors representing the joint locations w.r.t N frame\n",
        "# Fixed points on pruple (ground) link\n",
        "p0 = 0*N.x # P0 is at the origin (shifted by -10, -10 units from figure we are basing our units off of)\n",
        "p2 = -6.6*N.x - 1.97*N.y # Coordinates given\n",
        "p4 = -2.6*N.x + 6.9*N.y # Coordinates given\n",
        "\n",
        "# Note that for all other points, they are still w.r.t N frame, but they can be defined from different directions/pathways\n",
        "# Defining the same point from different directions/pathways is needed for constraints\n",
        "# Points directly connected to ground\n",
        "p1_from_p0 = p0 + l_10*Y.x\n",
        "p3_from_p2 = p2 + l_32*O.x\n",
        "p5_from_p4 = p4 + l_54*G.x\n",
        "\n",
        "# Additional points (Consider alternative defnitions of these)\n",
        "p6_from_p1 = p1_from_p0 + l_61*R.x\n",
        "pE_from_p5 = p5_from_p4 + l_5E*B_to_pE.x # 15 degrees CCW from B frame x axis\n",
        "\n",
        "# Alternate pathways to points (used to make LHS and RHS of loop equations defined differently)\n",
        "p3_from_p1 = p1_from_p0 + l_31*R_to_p3.x # 6.007 degrees (CCW) from R frame x axis\n",
        "p5_from_p6 = p6_from_p1 + l_56*B_plus_180.x # 180 degress (CCW) from B frame x axis\n",
        "p6_from_p3 = p3_from_p2 + l_63*R_from_p3.x # -5.84 degress (CW) from R frame x axis\n",
        "pE_from_p6 = p6_from_p3 + l_E6*B_from_p6.x\n",
        "\n",
        "# List of points to that will be used for plotting \n",
        "# Doesn't matter which version of points like p1 we use since they will be constrained to be equal\n",
        "points = [p0, p1_from_p0, p2, p3_from_p2, p4, p5_from_p4, p6_from_p1, pE_from_p6]"
      ],
      "execution_count": null,
      "outputs": []
    },
    {
      "cell_type": "markdown",
      "metadata": {
        "id": "RXqi9OEh6G2w"
      },
      "source": [
        "Create a list of initial values ini0 in the order of the system’s state variables"
      ]
    },
    {
      "cell_type": "code",
      "metadata": {
        "id": "I7ViuiMz6GQt"
      },
      "source": [
        "statevariables = system.get_state_variables()\n",
        "ini0 = [initialvalues[item] for item in statevariables]"
      ],
      "execution_count": null,
      "outputs": []
    },
    {
      "cell_type": "markdown",
      "metadata": {
        "id": "AtXXhIQl6u-_"
      },
      "source": [
        "Create all the vector equation constraints (e.g., loop closure equations, rigid link constraints, etc.)\n",
        "\n",
        "We indentified that two loop closure equations that will be used to constrain the system. \n",
        "\n",
        "![Loop Closure Equation 1](https://raw.githubusercontent.com/arnoldjames98/arnoldjames98.github.io/main/images/assignment3/eq1.png)\n",
        "![Loop Closure Equation 2](https://raw.githubusercontent.com/arnoldjames98/arnoldjames98.github.io/main/images/assignment3/eq2.png)"
      ]
    },
    {
      "cell_type": "code",
      "metadata": {
        "id": "Vp_iVBS77Ag4"
      },
      "source": [
        "# Loop closure equations (constraint to ensure all loops are equal to zero)\n",
        "# Equation 1 (R02 + R10 + R31 = R32)\n",
        "loopClosure1 = p3_from_p1 - p3_from_p2\n",
        "#print(\"p3_from_p2:\", p3_from_p2)\n",
        "#print(\"p3_from_p1:\", p3_from_p1)\n",
        "#print(\"loopClosure1\", loopClosure1)\n",
        "\n",
        "# Equation 2 (R10 + R61 + R56 = R40 + R54)\n",
        "loopClosure2 = p5_from_p4 - p5_from_p6\n",
        "#print(\"p5_from_p4:\", p5_from_p4)\n",
        "#print(\"p5_from_p6:\", p5_from_p6)\n",
        "#print(\"loopClosure2\", loopClosure2)"
      ],
      "execution_count": null,
      "outputs": []
    },
    {
      "cell_type": "markdown",
      "metadata": {
        "id": "HtZSu4Cs8q06"
      },
      "source": [
        "Convert the vector constraints into scalar equations that can be solved"
      ]
    },
    {
      "cell_type": "code",
      "metadata": {
        "colab": {
          "base_uri": "https://localhost:8080/"
        },
        "id": "p0LDrwDm8yCO",
        "outputId": "6e98eba5-62d1-42c5-de2f-c7e0a21ffaba"
      },
      "source": [
        "eq = [] # Initialize\n",
        "\n",
        "# Loop closure equations\n",
        "eq.append((loopClosure1).dot(N.x))\n",
        "eq.append((loopClosure1).dot(N.y))\n",
        "\n",
        "eq.append((loopClosure2).dot(N.x))\n",
        "eq.append((loopClosure2).dot(N.y))\n",
        "\n",
        "# Show the equations\n",
        "print(eq)\n",
        "\n",
        "# Take the derivatives\n",
        "eq_d=[(system.derivative(item)) for item in eq]\n",
        "\n",
        "# Show the derivatives\n",
        "print(eq_d)"
      ],
      "execution_count": null,
      "outputs": [
        {
          "output_type": "stream",
          "text": [
            "[l_10*cos(qY) - l_31*sin(qY)*sin(qR + 0.104841928167299) + l_31*cos(qY)*cos(qR + 0.104841928167299) - l_32*cos(qO) + 6.6, l_10*sin(qY) + l_31*sin(qY)*cos(qR + 0.104841928167299) + l_31*sin(qR + 0.104841928167299)*cos(qY) - l_32*sin(qO) + 1.97, -l_10*cos(qY) + l_54*cos(qG) + l_56*sin(qG)*sin(qB + 3.14159265358979) - l_56*cos(qG)*cos(qB + 3.14159265358979) + l_61*sin(qR)*sin(qY) - l_61*cos(qR)*cos(qY) - 2.6, -l_10*sin(qY) + l_54*sin(qG) - l_56*sin(qG)*cos(qB + 3.14159265358979) - l_56*sin(qB + 3.14159265358979)*cos(qG) - l_61*sin(qR)*cos(qY) - l_61*sin(qY)*cos(qR) + 6.9]\n",
            "[l_32*qO_d*sin(qO) + qR_d*(-l_31*sin(qY)*cos(qR + 0.104841928167299) - l_31*sin(qR + 0.104841928167299)*cos(qY)) + qY_d*(-l_10*sin(qY) - l_31*sin(qY)*cos(qR + 0.104841928167299) - l_31*sin(qR + 0.104841928167299)*cos(qY)), -l_32*qO_d*cos(qO) + qR_d*(-l_31*sin(qY)*sin(qR + 0.104841928167299) + l_31*cos(qY)*cos(qR + 0.104841928167299)) + qY_d*(l_10*cos(qY) - l_31*sin(qY)*sin(qR + 0.104841928167299) + l_31*cos(qY)*cos(qR + 0.104841928167299)), qB_d*(l_56*sin(qG)*cos(qB + 3.14159265358979) + l_56*sin(qB + 3.14159265358979)*cos(qG)) + qG_d*(-l_54*sin(qG) + l_56*sin(qG)*cos(qB + 3.14159265358979) + l_56*sin(qB + 3.14159265358979)*cos(qG)) + qR_d*(l_61*sin(qR)*cos(qY) + l_61*sin(qY)*cos(qR)) + qY_d*(l_10*sin(qY) + l_61*sin(qR)*cos(qY) + l_61*sin(qY)*cos(qR)), qB_d*(l_56*sin(qG)*sin(qB + 3.14159265358979) - l_56*cos(qG)*cos(qB + 3.14159265358979)) + qG_d*(l_54*cos(qG) + l_56*sin(qG)*sin(qB + 3.14159265358979) - l_56*cos(qG)*cos(qB + 3.14159265358979)) + qR_d*(l_61*sin(qR)*sin(qY) - l_61*cos(qR)*cos(qY)) + qY_d*(-l_10*cos(qY) + l_61*sin(qR)*sin(qY) - l_61*cos(qR)*cos(qY))]\n"
          ],
          "name": "stdout"
        }
      ]
    },
    {
      "cell_type": "markdown",
      "metadata": {
        "id": "1gS80XYOGJY-"
      },
      "source": [
        "identify independent and dependent variables"
      ]
    },
    {
      "cell_type": "code",
      "metadata": {
        "id": "JWUd1D4vRWm0"
      },
      "source": [
        "qi = [qY] # Yellow link is the input\n",
        "qd = [qO, qG, qR, qB] # All other links are dependent on the input"
      ],
      "execution_count": null,
      "outputs": []
    },
    {
      "cell_type": "markdown",
      "metadata": {
        "id": "bmQoKsuNGX3j"
      },
      "source": [
        "For dependent variables, create an initial guess and create a copy of symbolic constants dictionary and add the initial value of qi to it"
      ]
    },
    {
      "cell_type": "code",
      "metadata": {
        "id": "0I7urC06RXAB"
      },
      "source": [
        "constants = system.constant_values.copy()\n",
        "defined = dict([(item,initialvalues[item]) for item in qi])\n",
        "constants.update(defined)"
      ],
      "execution_count": null,
      "outputs": []
    },
    {
      "cell_type": "markdown",
      "metadata": {
        "id": "Z4qzT1OYGa8e"
      },
      "source": [
        "Substitute constants in equation"
      ]
    },
    {
      "cell_type": "code",
      "metadata": {
        "id": "aZXhaFkNR4xY",
        "colab": {
          "base_uri": "https://localhost:8080/"
        },
        "outputId": "f0907cc2-f310-4918-fe2d-62edcef11cf6"
      },
      "source": [
        "eq = [item.subs(constants) for item in eq]\n",
        "print(eq)"
      ],
      "execution_count": null,
      "outputs": [
        {
          "output_type": "stream",
          "text": [
            "[-5.05589332458525*sin(qR + 0.104841928167299) - 3.59*cos(qO) - 4.24239822393116*cos(qR + 0.104841928167299) + 4.67163717094038, -3.59*sin(qO) - 4.24239822393116*sin(qR + 0.104841928167299) + 5.05589332458525*cos(qR + 0.104841928167299) + 4.26813332935693, 10.04*sin(qG)*sin(qB + 3.14159265358979) + 9.47060745027992*sin(qR) - 10.04*cos(qG)*cos(qB + 3.14159265358979) + 7.3736*cos(qG) + 7.94678321855469*cos(qR) - 0.671637170940382, -10.04*sin(qG)*cos(qB + 3.14159265358979) + 7.3736*sin(qG) + 7.94678321855469*sin(qR) - 10.04*sin(qB + 3.14159265358979)*cos(qG) - 9.47060745027992*cos(qR) + 4.60186667064307]\n"
          ],
          "name": "stdout"
        }
      ]
    },
    {
      "cell_type": "markdown",
      "metadata": {
        "id": "cAFptUfGGieG"
      },
      "source": [
        "convert to numpy array\n",
        "\n",
        "sum the error"
      ]
    },
    {
      "cell_type": "code",
      "metadata": {
        "id": "W-lOPQi6R6Ix"
      },
      "source": [
        "error = (numpy.array(eq)**2).sum()\n"
      ],
      "execution_count": null,
      "outputs": []
    },
    {
      "cell_type": "markdown",
      "metadata": {
        "id": "AUhSh0TOKZQH"
      },
      "source": [
        "### 4. Select or solve for a valid initial condition that represents the system in the middle of a typical gait, when it is both moving and when forces are being applied to it (or to the world by it)"
      ]
    },
    {
      "cell_type": "markdown",
      "metadata": {
        "id": "H6QzTe9IGlO8"
      },
      "source": [
        "Convert to a function that scipy can use. Sympy has a “labmdify” function that evaluates an expression, but scipy needs a slightly different format."
      ]
    },
    {
      "cell_type": "code",
      "metadata": {
        "id": "1xR2xTkqR8Jf"
      },
      "source": [
        "f = sympy.lambdify(qd,error)\n",
        "\n",
        "def function(args):\n",
        "    return f(*args)"
      ],
      "execution_count": null,
      "outputs": []
    },
    {
      "cell_type": "markdown",
      "metadata": {
        "id": "4LH3VfVZGsPA"
      },
      "source": [
        "Take the derivative of the equations to linearize with regard to the velocity variables"
      ]
    },
    {
      "cell_type": "code",
      "metadata": {
        "id": "jnu2eFHXR9UX",
        "colab": {
          "base_uri": "https://localhost:8080/"
        },
        "outputId": "ae0da0dd-fcda-4eb5-865d-b85a7c425bd2"
      },
      "source": [
        "guess = [initialvalues[item] for item in qd]\n",
        "\n",
        "result = scipy.optimize.minimize(function,guess)\n",
        "if result.fun>1e-3:\n",
        "    raise(Exception(\"out of tolerance\"))\n",
        "print(\"Tolerance:\", result.fun)\n",
        "\n",
        "ini = []\n",
        "\n",
        "for item in system.get_state_variables():\n",
        "    if item in qd:\n",
        "        ini.append(result.x[qd.index(item)])\n",
        "    else:\n",
        "        ini.append(initialvalues[item])\n",
        "\n",
        "points = PointsOutput(points, constant_values=system.constant_values)\n",
        "points.calc(numpy.array([ini0,ini]))"
      ],
      "execution_count": null,
      "outputs": [
        {
          "output_type": "stream",
          "text": [
            "2021-02-20 06:34:39,882 - pynamics.output - INFO - calculating outputs\n",
            "2021-02-20 06:34:39,884 - pynamics.output - INFO - done calculating outputs\n"
          ],
          "name": "stderr"
        },
        {
          "output_type": "stream",
          "text": [
            "Tolerance: 1.8692749976283435e-13\n"
          ],
          "name": "stdout"
        },
        {
          "output_type": "execute_result",
          "data": {
            "text/plain": [
              "array([[[  0.        ,   0.        ],\n",
              "        [ -1.92836283,   2.29813333],\n",
              "        [ -6.6       ,  -1.97      ],\n",
              "        [ -8.90760752,   0.78009955],\n",
              "        [ -2.6       ,   6.9       ],\n",
              "        [ -9.52891751,   9.42191973],\n",
              "        [-13.5457827 ,   6.52652836],\n",
              "        [-17.25039872,  -5.49083841]],\n",
              "\n",
              "       [[  0.        ,   0.        ],\n",
              "        [ -1.92836283,   2.29813333],\n",
              "        [ -6.6       ,  -1.97      ],\n",
              "        [ -8.42286323,   1.12277701],\n",
              "        [ -2.6       ,   6.9       ],\n",
              "        [ -9.25061921,  10.0842175 ],\n",
              "        [-14.25734781,   1.38167361],\n",
              "        [-14.18266071,  -8.04908442]]])"
            ]
          },
          "metadata": {
            "tags": []
          },
          "execution_count": 49
        }
      ]
    },
    {
      "cell_type": "markdown",
      "metadata": {
        "id": "Nt1w5yyaKivQ"
      },
      "source": [
        "### 5. Plot the system in this position."
      ]
    },
    {
      "cell_type": "markdown",
      "metadata": {
        "id": "kmYPVcIdPh9G"
      },
      "source": [
        "Create a plot of the optimized points defining the mechanism."
      ]
    },
    {
      "cell_type": "code",
      "metadata": {
        "id": "Hp_MYE2rSDAi",
        "colab": {
          "base_uri": "https://localhost:8080/",
          "height": 1000
        },
        "outputId": "f3d6da25-7d65-4ff3-efa4-04df6c5dd6c6"
      },
      "source": [
        "# Figure when inputting the guesses for intial joint angles\n",
        "plt.figure(dpi=150)\n",
        "# Blue link\n",
        "plt.fill([points.y[0][7,0], points.y[0][6,0], points.y[0][5,0]], [points.y[0][7,1], points.y[0][6,1], points.y[0][5,1]], facecolor='blue', edgecolor=\"black\",linewidth=2, alpha=0.6)\n",
        "# Purple link\n",
        "plt.fill([points.y[0][0,0], points.y[0][2,0], points.y[0][4,0]], [points.y[0][0,1], points.y[0][2,1], points.y[0][4,1]], facecolor='purple', edgecolor=\"black\",linewidth=2, alpha=0.6)\n",
        "# Red link\n",
        "plt.fill([points.y[0][1,0], points.y[0][3,0], points.y[0][6,0]], [points.y[0][1,1], points.y[0][3,1], points.y[0][6,1]], facecolor='red', edgecolor=\"black\",linewidth=2, alpha=0.6)\n",
        "# Orange link\n",
        "plt.fill([points.y[0][2,0], points.y[0][3,0]], [points.y[0][2,1], points.y[0][3,1]], edgecolor=\"orange\",linewidth=6, alpha=0.8)\n",
        "# Green link\n",
        "plt.fill([points.y[0][4,0], points.y[0][5,0]], [points.y[0][4,1], points.y[0][5,1]], edgecolor=\"green\",linewidth=6, alpha=0.8)\n",
        "# Yello link\n",
        "plt.fill([points.y[0][0,0], points.y[0][1,0]], [points.y[0][0,1], points.y[0][1,1]], edgecolor=\"yellow\",linewidth=6, alpha=0.8)\n",
        "\n",
        "# Make the plot readable\n",
        "plt.title('Approximation of Mechanism from Initial Conditions')\n",
        "plt.xlabel('x (cm)')\n",
        "plt.ylabel('y (cm)')\n",
        "\n",
        "plt.grid()\n",
        "plt.axis('scaled')\n",
        "plt.show()\n",
        "\n",
        "\n",
        "# Figure for the correct joint angles optimized from the guessed initial conditions\n",
        "plt.figure(dpi=150)\n",
        "# Blue link\n",
        "plt.fill([points.y[1][7,0], points.y[1][6,0], points.y[1][5,0]], [points.y[1][7,1], points.y[1][6,1], points.y[1][5,1]], facecolor='blue', edgecolor=\"black\",linewidth=2, alpha=0.6)\n",
        "# Purple link\n",
        "plt.fill([points.y[1][0,0], points.y[1][2,0], points.y[1][4,0]], [points.y[1][0,1], points.y[1][2,1], points.y[1][4,1]], facecolor='purple', edgecolor=\"black\",linewidth=2, alpha=0.6)\n",
        "# Red link\n",
        "plt.fill([points.y[1][1,0], points.y[1][3,0], points.y[1][6,0]], [points.y[1][1,1], points.y[1][3,1], points.y[1][6,1]], facecolor='red', edgecolor=\"black\",linewidth=2, alpha=0.6)\n",
        "# Orange link\n",
        "plt.fill([points.y[1][2,0], points.y[1][3,0]], [points.y[1][2,1], points.y[1][3,1]], edgecolor=\"orange\",linewidth=6, alpha=0.8)\n",
        "# Green link\n",
        "plt.fill([points.y[1][4,0], points.y[1][5,0]], [points.y[1][4,1], points.y[1][5,1]], edgecolor=\"green\",linewidth=6, alpha=0.8)\n",
        "# Yello link\n",
        "plt.fill([points.y[1][0,0], points.y[1][1,0]], [points.y[1][0,1], points.y[1][1,1]], edgecolor=\"yellow\",linewidth=6, alpha=0.8)\n",
        "\n",
        "plt.title('Optimized Figure Based on Kinematic Constraints')\n",
        "plt.xlabel('x (cm)')\n",
        "plt.ylabel('y (cm)')\n",
        "plt.grid()\n",
        "plt.axis('scaled')\n",
        "plt.show()"
      ],
      "execution_count": null,
      "outputs": [
        {
          "output_type": "display_data",
          "data": {
            "image/png": "[encoded data removed]",
            "text/plain": [
              "<Figure size 900x600 with 1 Axes>"
            ]
          },
          "metadata": {
            "tags": [],
            "needs_background": "light"
          }
        },
        {
          "output_type": "display_data",
          "data": {
            "image/png": "[encoded data removed]",
            "text/plain": [
              "<Figure size 900x600 with 1 Axes>"
            ]
          },
          "metadata": {
            "tags": [],
            "needs_background": "light"
          }
        }
      ]
    },
    {
      "cell_type": "markdown",
      "metadata": {
        "id": "md32MqYCE8Kg"
      },
      "source": [
        "#### 3.6-7 Create the Jacobian"
      ]
    },
    {
      "cell_type": "markdown",
      "metadata": {
        "id": "-W0ZEkPdFMhZ"
      },
      "source": [
        "Turn constraint equations into a vector"
      ]
    },
    {
      "cell_type": "code",
      "metadata": {
        "id": "352EErkOE-Yv",
        "colab": {
          "base_uri": "https://localhost:8080/"
        },
        "outputId": "a9859909-a4a2-417f-c652-27e204171ac6"
      },
      "source": [
        "eq_d = sympy.Matrix(eq_d)\n",
        "print(eq_d)"
      ],
      "execution_count": null,
      "outputs": [
        {
          "output_type": "stream",
          "text": [
            "Matrix([[l_32*qO_d*sin(qO) + qR_d*(-l_31*sin(qY)*cos(qR + 0.104841928167299) - l_31*sin(qR + 0.104841928167299)*cos(qY)) + qY_d*(-l_10*sin(qY) - l_31*sin(qY)*cos(qR + 0.104841928167299) - l_31*sin(qR + 0.104841928167299)*cos(qY))], [-l_32*qO_d*cos(qO) + qR_d*(-l_31*sin(qY)*sin(qR + 0.104841928167299) + l_31*cos(qY)*cos(qR + 0.104841928167299)) + qY_d*(l_10*cos(qY) - l_31*sin(qY)*sin(qR + 0.104841928167299) + l_31*cos(qY)*cos(qR + 0.104841928167299))], [qB_d*(l_56*sin(qG)*cos(qB + 3.14159265358979) + l_56*sin(qB + 3.14159265358979)*cos(qG)) + qG_d*(-l_54*sin(qG) + l_56*sin(qG)*cos(qB + 3.14159265358979) + l_56*sin(qB + 3.14159265358979)*cos(qG)) + qR_d*(l_61*sin(qR)*cos(qY) + l_61*sin(qY)*cos(qR)) + qY_d*(l_10*sin(qY) + l_61*sin(qR)*cos(qY) + l_61*sin(qY)*cos(qR))], [qB_d*(l_56*sin(qG)*sin(qB + 3.14159265358979) - l_56*cos(qG)*cos(qB + 3.14159265358979)) + qG_d*(l_54*cos(qG) + l_56*sin(qG)*sin(qB + 3.14159265358979) - l_56*cos(qG)*cos(qB + 3.14159265358979)) + qR_d*(l_61*sin(qR)*sin(qY) - l_61*cos(qR)*cos(qY)) + qY_d*(-l_10*cos(qY) + l_61*sin(qR)*sin(qY) - l_61*cos(qR)*cos(qY))]])\n"
          ],
          "name": "stdout"
        }
      ]
    },
    {
      "cell_type": "markdown",
      "metadata": {
        "id": "CyQZ_y2SFOiH"
      },
      "source": [
        "Turn qi and qd into sympy vectors"
      ]
    },
    {
      "cell_type": "code",
      "metadata": {
        "id": "LMk2AaZPFQc4"
      },
      "source": [
        "qi = sympy.Matrix([qY_d])\n",
        "qd = sympy.Matrix([qO_d,qG_d,qR_d,qB_d])"
      ],
      "execution_count": null,
      "outputs": []
    },
    {
      "cell_type": "markdown",
      "metadata": {
        "id": "xb9tehG8Fgod"
      },
      "source": [
        "take partial derivative of constraints with respect to independent and dependent variables:"
      ]
    },
    {
      "cell_type": "code",
      "metadata": {
        "id": "QJJ4dFlLFipD"
      },
      "source": [
        "AA = eq_d.jacobian(qi)\n",
        "BB = eq_d.jacobian(qd)"
      ],
      "execution_count": null,
      "outputs": []
    },
    {
      "cell_type": "markdown",
      "metadata": {
        "id": "tRIdjvP8Fk-K"
      },
      "source": [
        "Solve for internal input/output Jacobian"
      ]
    },
    {
      "cell_type": "code",
      "metadata": {
        "id": "CpZ-FFp6Fm08",
        "colab": {
          "base_uri": "https://localhost:8080/"
        },
        "outputId": "a0eb43fb-8402-4fbc-caf2-d2b4f89e9585"
      },
      "source": [
        "J = -BB.inv()*AA\n",
        "print(J)"
      ],
      "execution_count": null,
      "outputs": [
        {
          "output_type": "stream",
          "text": [
            "Matrix([[-(-l_31*sin(qY)*sin(qR + 0.104841928167299) + l_31*cos(qY)*cos(qR + 0.104841928167299))*(-l_10*sin(qY) - l_31*sin(qY)*cos(qR + 0.104841928167299) - l_31*sin(qR + 0.104841928167299)*cos(qY))/(l_32*(-l_31*sin(qY)*sin(qR + 0.104841928167299) + l_31*cos(qY)*cos(qR + 0.104841928167299))*sin(qO) + l_32*(-l_31*sin(qY)*cos(qR + 0.104841928167299) - l_31*sin(qR + 0.104841928167299)*cos(qY))*cos(qO)) + (-l_31*sin(qY)*cos(qR + 0.104841928167299) - l_31*sin(qR + 0.104841928167299)*cos(qY))*(l_10*cos(qY) - l_31*sin(qY)*sin(qR + 0.104841928167299) + l_31*cos(qY)*cos(qR + 0.104841928167299))/(l_32*(-l_31*sin(qY)*sin(qR + 0.104841928167299) + l_31*cos(qY)*cos(qR + 0.104841928167299))*sin(qO) + l_32*(-l_31*sin(qY)*cos(qR + 0.104841928167299) - l_31*sin(qR + 0.104841928167299)*cos(qY))*cos(qO))], [-(((l_56*sin(qG)*sin(qB + 3.14159265358979) - l_56*cos(qG)*cos(qB + 3.14159265358979))*(-l_54*sin(qG) + l_56*sin(qG)*cos(qB + 3.14159265358979) + l_56*sin(qB + 3.14159265358979)*cos(qG)) - (l_56*sin(qG)*cos(qB + 3.14159265358979) + l_56*sin(qB + 3.14159265358979)*cos(qG))*(l_54*cos(qG) + l_56*sin(qG)*sin(qB + 3.14159265358979) - l_56*cos(qG)*cos(qB + 3.14159265358979)))*(l_32*(-l_31*sin(qY)*sin(qR + 0.104841928167299) + l_31*cos(qY)*cos(qR + 0.104841928167299))*sin(qO) + l_32*(-l_31*sin(qY)*cos(qR + 0.104841928167299) - l_31*sin(qR + 0.104841928167299)*cos(qY))*cos(qO))**2 - (l_32*(-l_31*sin(qY)*sin(qR + 0.104841928167299) + l_31*cos(qY)*cos(qR + 0.104841928167299))*sin(qO) + l_32*(-l_31*sin(qY)*cos(qR + 0.104841928167299) - l_31*sin(qR + 0.104841928167299)*cos(qY))*cos(qO))**2*(l_56*sin(qG)*cos(qB + 3.14159265358979) + l_56*sin(qB + 3.14159265358979)*cos(qG))*(-l_54*cos(qG) - l_56*sin(qG)*sin(qB + 3.14159265358979) + l_56*cos(qG)*cos(qB + 3.14159265358979)))*(l_10*sin(qY) + l_61*sin(qR)*cos(qY) + l_61*sin(qY)*cos(qR))/(((l_56*sin(qG)*sin(qB + 3.14159265358979) - l_56*cos(qG)*cos(qB + 3.14159265358979))*(-l_54*sin(qG) + l_56*sin(qG)*cos(qB + 3.14159265358979) + l_56*sin(qB + 3.14159265358979)*cos(qG)) - (l_56*sin(qG)*cos(qB + 3.14159265358979) + l_56*sin(qB + 3.14159265358979)*cos(qG))*(l_54*cos(qG) + l_56*sin(qG)*sin(qB + 3.14159265358979) - l_56*cos(qG)*cos(qB + 3.14159265358979)))*(l_32*(-l_31*sin(qY)*sin(qR + 0.104841928167299) + l_31*cos(qY)*cos(qR + 0.104841928167299))*sin(qO) + l_32*(-l_31*sin(qY)*cos(qR + 0.104841928167299) - l_31*sin(qR + 0.104841928167299)*cos(qY))*cos(qO))**2*(-l_54*sin(qG) + l_56*sin(qG)*cos(qB + 3.14159265358979) + l_56*sin(qB + 3.14159265358979)*cos(qG))) + (l_56*sin(qG)*cos(qB + 3.14159265358979) + l_56*sin(qB + 3.14159265358979)*cos(qG))*(-l_10*cos(qY) + l_61*sin(qR)*sin(qY) - l_61*cos(qR)*cos(qY))/((l_56*sin(qG)*sin(qB + 3.14159265358979) - l_56*cos(qG)*cos(qB + 3.14159265358979))*(-l_54*sin(qG) + l_56*sin(qG)*cos(qB + 3.14159265358979) + l_56*sin(qB + 3.14159265358979)*cos(qG)) - (l_56*sin(qG)*cos(qB + 3.14159265358979) + l_56*sin(qB + 3.14159265358979)*cos(qG))*(l_54*cos(qG) + l_56*sin(qG)*sin(qB + 3.14159265358979) - l_56*cos(qG)*cos(qB + 3.14159265358979))) - (-l_32*((l_56*sin(qG)*sin(qB + 3.14159265358979) - l_56*cos(qG)*cos(qB + 3.14159265358979))*(-l_54*sin(qG) + l_56*sin(qG)*cos(qB + 3.14159265358979) + l_56*sin(qB + 3.14159265358979)*cos(qG)) - (l_56*sin(qG)*cos(qB + 3.14159265358979) + l_56*sin(qB + 3.14159265358979)*cos(qG))*(l_54*cos(qG) + l_56*sin(qG)*sin(qB + 3.14159265358979) - l_56*cos(qG)*cos(qB + 3.14159265358979)))*(l_32*(-l_31*sin(qY)*sin(qR + 0.104841928167299) + l_31*cos(qY)*cos(qR + 0.104841928167299))*sin(qO) + l_32*(-l_31*sin(qY)*cos(qR + 0.104841928167299) - l_31*sin(qR + 0.104841928167299)*cos(qY))*cos(qO))*(l_61*sin(qR)*cos(qY) + l_61*sin(qY)*cos(qR))*sin(qO) + l_32*((l_61*sin(qR)*sin(qY) - l_61*cos(qR)*cos(qY))*(-l_54*sin(qG) + l_56*sin(qG)*cos(qB + 3.14159265358979) + l_56*sin(qB + 3.14159265358979)*cos(qG)) - (l_61*sin(qR)*cos(qY) + l_61*sin(qY)*cos(qR))*(l_54*cos(qG) + l_56*sin(qG)*sin(qB + 3.14159265358979) - l_56*cos(qG)*cos(qB + 3.14159265358979)))*(l_32*(-l_31*sin(qY)*sin(qR + 0.104841928167299) + l_31*cos(qY)*cos(qR + 0.104841928167299))*sin(qO) + l_32*(-l_31*sin(qY)*cos(qR + 0.104841928167299) - l_31*sin(qR + 0.104841928167299)*cos(qY))*cos(qO))*(l_56*sin(qG)*cos(qB + 3.14159265358979) + l_56*sin(qB + 3.14159265358979)*cos(qG))*sin(qO))*(l_10*cos(qY) - l_31*sin(qY)*sin(qR + 0.104841928167299) + l_31*cos(qY)*cos(qR + 0.104841928167299))/(((l_56*sin(qG)*sin(qB + 3.14159265358979) - l_56*cos(qG)*cos(qB + 3.14159265358979))*(-l_54*sin(qG) + l_56*sin(qG)*cos(qB + 3.14159265358979) + l_56*sin(qB + 3.14159265358979)*cos(qG)) - (l_56*sin(qG)*cos(qB + 3.14159265358979) + l_56*sin(qB + 3.14159265358979)*cos(qG))*(l_54*cos(qG) + l_56*sin(qG)*sin(qB + 3.14159265358979) - l_56*cos(qG)*cos(qB + 3.14159265358979)))*(l_32*(-l_31*sin(qY)*sin(qR + 0.104841928167299) + l_31*cos(qY)*cos(qR + 0.104841928167299))*sin(qO) + l_32*(-l_31*sin(qY)*cos(qR + 0.104841928167299) - l_31*sin(qR + 0.104841928167299)*cos(qY))*cos(qO))**2*(-l_54*sin(qG) + l_56*sin(qG)*cos(qB + 3.14159265358979) + l_56*sin(qB + 3.14159265358979)*cos(qG))) - (-l_32*((l_56*sin(qG)*sin(qB + 3.14159265358979) - l_56*cos(qG)*cos(qB + 3.14159265358979))*(-l_54*sin(qG) + l_56*sin(qG)*cos(qB + 3.14159265358979) + l_56*sin(qB + 3.14159265358979)*cos(qG)) - (l_56*sin(qG)*cos(qB + 3.14159265358979) + l_56*sin(qB + 3.14159265358979)*cos(qG))*(l_54*cos(qG) + l_56*sin(qG)*sin(qB + 3.14159265358979) - l_56*cos(qG)*cos(qB + 3.14159265358979)))*(l_32*(-l_31*sin(qY)*sin(qR + 0.104841928167299) + l_31*cos(qY)*cos(qR + 0.104841928167299))*sin(qO) + l_32*(-l_31*sin(qY)*cos(qR + 0.104841928167299) - l_31*sin(qR + 0.104841928167299)*cos(qY))*cos(qO))*(l_61*sin(qR)*cos(qY) + l_61*sin(qY)*cos(qR))*cos(qO) + l_32*((l_61*sin(qR)*sin(qY) - l_61*cos(qR)*cos(qY))*(-l_54*sin(qG) + l_56*sin(qG)*cos(qB + 3.14159265358979) + l_56*sin(qB + 3.14159265358979)*cos(qG)) - (l_61*sin(qR)*cos(qY) + l_61*sin(qY)*cos(qR))*(l_54*cos(qG) + l_56*sin(qG)*sin(qB + 3.14159265358979) - l_56*cos(qG)*cos(qB + 3.14159265358979)))*(l_32*(-l_31*sin(qY)*sin(qR + 0.104841928167299) + l_31*cos(qY)*cos(qR + 0.104841928167299))*sin(qO) + l_32*(-l_31*sin(qY)*cos(qR + 0.104841928167299) - l_31*sin(qR + 0.104841928167299)*cos(qY))*cos(qO))*(l_56*sin(qG)*cos(qB + 3.14159265358979) + l_56*sin(qB + 3.14159265358979)*cos(qG))*cos(qO))*(-l_10*sin(qY) - l_31*sin(qY)*cos(qR + 0.104841928167299) - l_31*sin(qR + 0.104841928167299)*cos(qY))/(((l_56*sin(qG)*sin(qB + 3.14159265358979) - l_56*cos(qG)*cos(qB + 3.14159265358979))*(-l_54*sin(qG) + l_56*sin(qG)*cos(qB + 3.14159265358979) + l_56*sin(qB + 3.14159265358979)*cos(qG)) - (l_56*sin(qG)*cos(qB + 3.14159265358979) + l_56*sin(qB + 3.14159265358979)*cos(qG))*(l_54*cos(qG) + l_56*sin(qG)*sin(qB + 3.14159265358979) - l_56*cos(qG)*cos(qB + 3.14159265358979)))*(l_32*(-l_31*sin(qY)*sin(qR + 0.104841928167299) + l_31*cos(qY)*cos(qR + 0.104841928167299))*sin(qO) + l_32*(-l_31*sin(qY)*cos(qR + 0.104841928167299) - l_31*sin(qR + 0.104841928167299)*cos(qY))*cos(qO))**2*(-l_54*sin(qG) + l_56*sin(qG)*cos(qB + 3.14159265358979) + l_56*sin(qB + 3.14159265358979)*cos(qG)))], [-l_32*(-l_10*sin(qY) - l_31*sin(qY)*cos(qR + 0.104841928167299) - l_31*sin(qR + 0.104841928167299)*cos(qY))*cos(qO)/(l_32*(-l_31*sin(qY)*sin(qR + 0.104841928167299) + l_31*cos(qY)*cos(qR + 0.104841928167299))*sin(qO) + l_32*(-l_31*sin(qY)*cos(qR + 0.104841928167299) - l_31*sin(qR + 0.104841928167299)*cos(qY))*cos(qO)) - l_32*(l_10*cos(qY) - l_31*sin(qY)*sin(qR + 0.104841928167299) + l_31*cos(qY)*cos(qR + 0.104841928167299))*sin(qO)/(l_32*(-l_31*sin(qY)*sin(qR + 0.104841928167299) + l_31*cos(qY)*cos(qR + 0.104841928167299))*sin(qO) + l_32*(-l_31*sin(qY)*cos(qR + 0.104841928167299) - l_31*sin(qR + 0.104841928167299)*cos(qY))*cos(qO))], [l_32*((l_61*sin(qR)*sin(qY) - l_61*cos(qR)*cos(qY))*(-l_54*sin(qG) + l_56*sin(qG)*cos(qB + 3.14159265358979) + l_56*sin(qB + 3.14159265358979)*cos(qG)) - (l_61*sin(qR)*cos(qY) + l_61*sin(qY)*cos(qR))*(l_54*cos(qG) + l_56*sin(qG)*sin(qB + 3.14159265358979) - l_56*cos(qG)*cos(qB + 3.14159265358979)))*(-l_10*sin(qY) - l_31*sin(qY)*cos(qR + 0.104841928167299) - l_31*sin(qR + 0.104841928167299)*cos(qY))*cos(qO)/(((l_56*sin(qG)*sin(qB + 3.14159265358979) - l_56*cos(qG)*cos(qB + 3.14159265358979))*(-l_54*sin(qG) + l_56*sin(qG)*cos(qB + 3.14159265358979) + l_56*sin(qB + 3.14159265358979)*cos(qG)) - (l_56*sin(qG)*cos(qB + 3.14159265358979) + l_56*sin(qB + 3.14159265358979)*cos(qG))*(l_54*cos(qG) + l_56*sin(qG)*sin(qB + 3.14159265358979) - l_56*cos(qG)*cos(qB + 3.14159265358979)))*(l_32*(-l_31*sin(qY)*sin(qR + 0.104841928167299) + l_31*cos(qY)*cos(qR + 0.104841928167299))*sin(qO) + l_32*(-l_31*sin(qY)*cos(qR + 0.104841928167299) - l_31*sin(qR + 0.104841928167299)*cos(qY))*cos(qO))) + l_32*((l_61*sin(qR)*sin(qY) - l_61*cos(qR)*cos(qY))*(-l_54*sin(qG) + l_56*sin(qG)*cos(qB + 3.14159265358979) + l_56*sin(qB + 3.14159265358979)*cos(qG)) - (l_61*sin(qR)*cos(qY) + l_61*sin(qY)*cos(qR))*(l_54*cos(qG) + l_56*sin(qG)*sin(qB + 3.14159265358979) - l_56*cos(qG)*cos(qB + 3.14159265358979)))*(l_10*cos(qY) - l_31*sin(qY)*sin(qR + 0.104841928167299) + l_31*cos(qY)*cos(qR + 0.104841928167299))*sin(qO)/(((l_56*sin(qG)*sin(qB + 3.14159265358979) - l_56*cos(qG)*cos(qB + 3.14159265358979))*(-l_54*sin(qG) + l_56*sin(qG)*cos(qB + 3.14159265358979) + l_56*sin(qB + 3.14159265358979)*cos(qG)) - (l_56*sin(qG)*cos(qB + 3.14159265358979) + l_56*sin(qB + 3.14159265358979)*cos(qG))*(l_54*cos(qG) + l_56*sin(qG)*sin(qB + 3.14159265358979) - l_56*cos(qG)*cos(qB + 3.14159265358979)))*(l_32*(-l_31*sin(qY)*sin(qR + 0.104841928167299) + l_31*cos(qY)*cos(qR + 0.104841928167299))*sin(qO) + l_32*(-l_31*sin(qY)*cos(qR + 0.104841928167299) - l_31*sin(qR + 0.104841928167299)*cos(qY))*cos(qO))) - (l_10*sin(qY) + l_61*sin(qR)*cos(qY) + l_61*sin(qY)*cos(qR))*(-l_54*cos(qG) - l_56*sin(qG)*sin(qB + 3.14159265358979) + l_56*cos(qG)*cos(qB + 3.14159265358979))/((l_56*sin(qG)*sin(qB + 3.14159265358979) - l_56*cos(qG)*cos(qB + 3.14159265358979))*(-l_54*sin(qG) + l_56*sin(qG)*cos(qB + 3.14159265358979) + l_56*sin(qB + 3.14159265358979)*cos(qG)) - (l_56*sin(qG)*cos(qB + 3.14159265358979) + l_56*sin(qB + 3.14159265358979)*cos(qG))*(l_54*cos(qG) + l_56*sin(qG)*sin(qB + 3.14159265358979) - l_56*cos(qG)*cos(qB + 3.14159265358979))) - (-l_10*cos(qY) + l_61*sin(qR)*sin(qY) - l_61*cos(qR)*cos(qY))*(-l_54*sin(qG) + l_56*sin(qG)*cos(qB + 3.14159265358979) + l_56*sin(qB + 3.14159265358979)*cos(qG))/((l_56*sin(qG)*sin(qB + 3.14159265358979) - l_56*cos(qG)*cos(qB + 3.14159265358979))*(-l_54*sin(qG) + l_56*sin(qG)*cos(qB + 3.14159265358979) + l_56*sin(qB + 3.14159265358979)*cos(qG)) - (l_56*sin(qG)*cos(qB + 3.14159265358979) + l_56*sin(qB + 3.14159265358979)*cos(qG))*(l_54*cos(qG) + l_56*sin(qG)*sin(qB + 3.14159265358979) - l_56*cos(qG)*cos(qB + 3.14159265358979)))]])\n"
          ],
          "name": "stdout"
        }
      ]
    },
    {
      "cell_type": "markdown",
      "metadata": {
        "id": "y8hV64mzoJuX"
      },
      "source": [
        "### 6. From your biomechanics-based specifications, define one or more force vector estimates (one for each end effector) that the system should be expected to experience. Consider including, based on your research\n",
        "\n",
        "\n",
        "\n",
        "*   the force of gravity exerted by the mass of a “payload” or the main body of the robot.\n",
        "*   the acceleration the system experiences during a typical gait\n",
        "*   ground reaction forces measured from biomechanics studies.\n",
        "\n",
        "\n"
      ]
    },
    {
      "cell_type": "markdown",
      "metadata": {
        "id": "6_LVobpzrwFl"
      },
      "source": [
        "The force of gravity excerted by the main body of the robot is going to be less than 0.94 N depending on the size of the ghost crab. The acceleration the system experiences is usually around 3.12 m/s^2. The ground reaction forces are around the values 0.234 N."
      ]
    },
    {
      "cell_type": "markdown",
      "metadata": {
        "id": "Cz-LO245LI2C"
      },
      "source": [
        "### 7. Calculate the force or torque required at the input to satisfy the end-effector force requirements"
      ]
    },
    {
      "cell_type": "code",
      "metadata": {
        "id": "HZVIR8RAce3F",
        "colab": {
          "base_uri": "https://localhost:8080/"
        },
        "outputId": "f3c87182-0633-459a-b3b4-b3d9edb2d52f"
      },
      "source": [
        "# The state variables (qY, qO, qG, qR, qB) from the optimized plot\n",
        "#print(ini[0:5])\n",
        "from sympy import lambdify\n",
        "\n",
        "# Inputs to the Jacobian\n",
        "configuration = (qY, qO, qG, qR, qB)\n",
        "\n",
        "# A function representing the Jacobian with state variables as inputs\n",
        "J_func = lambdify(configuration, J.subs(system.constant_values), modules='numpy')\n",
        "\n",
        "# Input the state variables for the current conditions\n",
        "J_specific = J_func(*ini[0:5])\n",
        "\n",
        "# Show the specific J for the given state variables and constant lengths\n",
        "#J_specific\n",
        "\n",
        "# Using reaction force and converting to torque at q_B\n",
        "perpDistance = (points.y[1][7,0] - points.y[1][5,0])*0.01\n",
        "torque_b = (0.234)*(perpDistance)\n",
        "\n",
        "# Create a vector representing the torque felt at the B frame joint\n",
        "torqueVector = numpy.array([0,0,0,torque_b])\n",
        "\n",
        "# Flatten the array so a dot product can be taken easily\n",
        "J_specific_flat = J_specific.flatten()\n",
        "\n",
        "# Finally, calculate the required torque at the input\n",
        "inputTorque = J_specific_flat.dot(torqueVector)\n",
        "print(\"Required Input Torque:\", inputTorque, \"N⋅m\")"
      ],
      "execution_count": null,
      "outputs": [
        {
          "output_type": "stream",
          "text": [
            "Required Input Torque: 0.005136119649194768 N⋅m\n"
          ],
          "name": "stdout"
        }
      ]
    },
    {
      "cell_type": "markdown",
      "metadata": {
        "id": "pG5tdILqbQA-"
      },
      "source": [
        "To calculate the torque required to satisfy the end-effector force requirements, we used the ground reaction force and multplied by its length. To find the force, we multpilied the jacobian transposed to a 4x1 vector that shows torque as its last element. The calculated force turned out to be 0.005N.m"
      ]
    },
    {
      "cell_type": "markdown",
      "metadata": {
        "id": "Xw5_0HaGLQEI"
      },
      "source": [
        "### 8. Estimate the velocity of the end-effector in this configuration. Using the Jacobian, calculate the speed required by the input(s) to achieve that output motion."
      ]
    },
    {
      "cell_type": "code",
      "metadata": {
        "id": "jOD78BPwLWoK"
      },
      "source": [
        "# Solving for the dependent variables qd \n",
        "# Creates an expression dependent in the state variables and the speed of the input (derivative of qY)\n",
        "qd_givenInput = J*qi\n",
        "\n",
        "# Create a dictionary to replace all the state variables\n",
        "subs = dict([(ii,jj) for ii,jj in zip(qd,qd_givenInput)])\n",
        "\n",
        "# Selecting the end effector\n",
        "p_E = pE_from_p5\n",
        "v_E = pE_from_p5.time_derivative()\n",
        "\n",
        "# Substitue in the subs dictionary\n",
        "v_E = v_E.subs(subs)\n",
        "\n",
        "# Pull the x and y components of the end effector speed in the N frame\n",
        "# Then, you just need qY_d (speed of input) and state variables (based on the configuration) to get the velocity of the end effector\n",
        "vx_E = v_E.dot(N.x)\n",
        "vy_E = v_E.dot(N.y)"
      ],
      "execution_count": null,
      "outputs": []
    },
    {
      "cell_type": "markdown",
      "metadata": {
        "id": "Y-8w_7khgnUv"
      },
      "source": [
        "Now an estimates of `vx_E` and `vy_E` is needed in order to solve for the speed of the input: `qY_d`.\n",
        "From the biomechanics assignment"
      ]
    },
    {
      "cell_type": "code",
      "metadata": {
        "id": "zwv6iV9igzft",
        "colab": {
          "base_uri": "https://localhost:8080/"
        },
        "outputId": "220da506-983d-471b-efb5-8f1813eab19c"
      },
      "source": [
        "vx_E_estimated = 0 # \n",
        "vy_E_estimated = 28.39 # \n",
        "\n",
        "# Now, need vx_E and vy_E to only be functions of qY_d\n",
        "vx_E_subs = vx_E.subs(system.constant_values)\n",
        "vy_E_subs = vy_E.subs(system.constant_values)\n",
        "\n",
        "# Now, we have experessions that are only functions of the speed of the input\n",
        "vx_E_subs2 = vx_E_subs.subs({qY:ini[0], qO:ini[1], qG:ini[2], qR:ini[3], qB:ini[4]})\n",
        "print(vx_E_subs2)\n",
        "vy_E_subs2 = vy_E_subs.subs({qY:ini[0], qO:ini[1], qG:ini[2], qR:ini[3], qB:ini[4]})\n",
        "print(vy_E_subs2)\n",
        "\n",
        "# Pull the factor being multiplied by qY_d\n",
        "qY_d_factor1 = float(vx_E_subs2.subs({qY_d :1}))\n",
        "qY_d_factor2 = float(vy_E_subs2.subs({qY_d :1}))\n",
        "\n",
        "# Using only the y term since it is assumed that the velocity primarily downwards the moment the leg hits the ground\n",
        "qY_d_found = vy_E_estimated / qY_d_factor2"
      ],
      "execution_count": null,
      "outputs": [
        {
          "output_type": "stream",
          "text": [
            "-4.10744777237637*qY_d\n",
            "-0.946608595070641*qY_d\n"
          ],
          "name": "stdout"
        }
      ]
    },
    {
      "cell_type": "markdown",
      "metadata": {
        "id": "mphB2mhkLW7N"
      },
      "source": [
        "### 9. Finally, using the two estimates about force and speed at the input, compute the required power in this configuration."
      ]
    },
    {
      "cell_type": "markdown",
      "metadata": {
        "id": "AUS0jdkPfxqS"
      },
      "source": [
        "The equations for power required at the input is P=τω. Therefore, the solutions of part 7 and 8 can be multiplied to find the power. However, the units of these values must be taken into account."
      ]
    },
    {
      "cell_type": "code",
      "metadata": {
        "id": "VODOaC6ugVSF",
        "colab": {
          "base_uri": "https://localhost:8080/"
        },
        "outputId": "32cdf2fc-8955-4517-8606-78da81215521"
      },
      "source": [
        "P = inputTorque*qY_d_found\n",
        "print(\"Power:\", P, \"W\")"
      ],
      "execution_count": null,
      "outputs": [
        {
          "output_type": "stream",
          "text": [
            "Power: 65.10973607390267 W\n"
          ],
          "name": "stdout"
        }
      ]
    },
    {
      "cell_type": "markdown",
      "metadata": {
        "id": "-HA7jIkDrwPf"
      },
      "source": [
        "\n",
        "\n",
        "---\n",
        "\n",
        "\n",
        "## Discussion"
      ]
    },
    {
      "cell_type": "markdown",
      "metadata": {
        "id": "xjjJ6OxJrwTQ"
      },
      "source": [
        "### 1. How many degrees of freedom does your device have? How many motors? If the answer is not the same, what determines the state of the remaining degrees of freedom? How did you arrive at that number?"
      ]
    },
    {
      "cell_type": "markdown",
      "metadata": {
        "id": "W0C4FI5psA9A"
      },
      "source": [
        "Our device is a 1 degree of freedom (DOF) mechanism, since the location of the end-effector (and any point on the device) is completely determined by the angle value of the input. While each of the joints each have 1-DOF of rotational motion, the mechanism is designed so that the movement of the mechanism is constrained in such a way that these DOFs do not each require their own actuation to move the end-effector. Therefore, only a single motor is required control the device. As referenced throughout this assignment, the input is the rotation of the yellow link w.r.t to the base frame (denoted as qY), and the single motor will be required at this link. Since the mechanism as the same number of DOFs as motors that are required, there is no ambiguity in how the position of the end-effector will be determined.\n",
        "\n"
      ]
    },
    {
      "cell_type": "markdown",
      "metadata": {
        "id": "hck_wqZQr5r7"
      },
      "source": [
        "### 2. If your mechanism has more than one degree of freedom, please describe how those multiple degrees of freedom will work together to create a locomotory gait or useful motion. What is your plan for synchonizing, especially if passive energy storage?"
      ]
    },
    {
      "cell_type": "markdown",
      "metadata": {
        "id": "7rWwZDUDsBX6"
      },
      "source": [
        "Since our device only has a single DOF, the locomotion of our robot will be fully determined by this DOF. The mechanism described in this assignment only represents a single leg of our crab robot, but multiple of these mechanisms can be connected to a single motor shaft at different values of qY to allow for multiple legs, each with 1 fully-defined DOF.\n"
      ]
    },
    {
      "cell_type": "markdown",
      "metadata": {
        "id": "ZOnlNIYer7h_"
      },
      "source": [
        "### 3. How did you estimate your expected end-effector forces?\n"
      ]
    },
    {
      "cell_type": "markdown",
      "metadata": {
        "id": "pOZivarIsB6a"
      },
      "source": [
        "From the [*Biomechanics Background and Initial Specifications*](https://arnoldjames98.github.io/assignment2) assignment, it was calculated, through a measured acceleration, that the force excerted at the end-effector is 0.234 N. This was calculated using Newton's second law which derives the equation F=ma. This equation was used to convert the end-effector acceleration into the end-effector force. \n"
      ]
    },
    {
      "cell_type": "markdown",
      "metadata": {
        "id": "iNfeD6nJr7zh"
      },
      "source": [
        "### 4. How did you estimate your expected end-effector speeds\n"
      ]
    },
    {
      "cell_type": "markdown",
      "metadata": {
        "id": "s46ZaN2LsCYt"
      },
      "source": [
        "We estimated our end effector speeds through the use of our [*Biomechanics Background and Initial Specifications*](https://arnoldjames98.github.io/assignment2) values. The stride length, speed of the crab, and mass were used to estimate the x and y values of the velocity of the mechanism at the end effector, as well as the force exerted at the end effector. Through finding the values of the forces in the x and y-direction, we were able to solve for the input speed.\n"
      ]
    }
  ]
}