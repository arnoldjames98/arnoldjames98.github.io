{
  "nbformat": 4,
  "nbformat_minor": 0,
  "metadata": {
    "colab": {
      "name": "systemKinematics.ipynb",
      "provenance": [],
      "collapsed_sections": [],
      "authorship_tag": "ABX9TyNsJ0vWpeYytZ5V5sNp9Dy7",
      "include_colab_link": true
    },
    "kernelspec": {
      "name": "python3",
      "display_name": "Python 3"
    }
  },
  "cells": [
    {
      "cell_type": "markdown",
      "metadata": {
        "id": "view-in-github",
        "colab_type": "text"
      },
      "source": [
        "<a href=\"https://colab.research.google.com/github/arnoldjames98/arnoldjames98.github.io/blob/main/systemKinematics.ipynb\" target=\"_parent\"><img src=\"https://colab.research.google.com/assets/colab-badge.svg\" alt=\"Open In Colab\"/></a>"
      ]
    },
    {
      "cell_type": "markdown",
      "metadata": {
        "id": "1Hf_2b0SpFxN"
      },
      "source": [
        "# [Biodegradable Seed Spreading Robot](https://arnoldjames98.github.io/)\n",
        "# System Kinematics"
      ]
    },
    {
      "cell_type": "markdown",
      "metadata": {
        "id": "8TlQ2kW0Hemw"
      },
      "source": [
        "### 1. Create a figure (either in python, in a vector-based drawing program like inkscape or illustrator, or as a solidworks rendering) of your system kinematics."
      ]
    },
    {
      "cell_type": "markdown",
      "metadata": {
        "id": "QqnvY0htH6x2"
      },
      "source": [
        "TODO: Describe figure and add correct measurements to table\n",
        "\n",
        "![Mechanism Drawing](https://raw.githubusercontent.com/arnoldjames98/arnoldjames98.github.io/main/images/assignment3/mechanism.png)\n",
        "\n",
        "| Length | Rigid Body | Measurement (cm)\n",
        "| --- | --- | --- |\n",
        "| L10 | Yellow | 2 |\n",
        "| L02 | Purple | 2 |\n",
        "| L42 | Purple | 2 |\n",
        "| L40 | Purple | 2 |\n",
        "| L31 | Red | 2 |\n",
        "| L61 | Red | 2 |\n",
        "| L63 | Red | 2 |\n",
        "| L54 | Green | 2 |\n",
        "| L32 | Orange | 2 |\n",
        "| L56 | Blue | 2 |\n",
        "| L5E | Blue | 2 |\n",
        "| LE6 | Blue | 2 |\n"
      ]
    },
    {
      "cell_type": "markdown",
      "metadata": {
        "id": "L6QhoGUzIHa-"
      },
      "source": [
        "### 2. Make the device in paper or cardboard. You need an up-to-date model if it has changed from your individual assignments. The paper model should dimensionally match your code."
      ]
    },
    {
      "cell_type": "markdown",
      "metadata": {
        "id": "d639MEzFIMEF"
      },
      "source": [
        "TODO: Upload image of device to github and add images here. May need to add a brief description too."
      ]
    },
    {
      "cell_type": "markdown",
      "metadata": {
        "id": "ON9Q4k5vIUPI"
      },
      "source": [
        "### 3. Using a pynamics-based script, develop a kinematic model for your device."
      ]
    },
    {
      "cell_type": "code",
      "metadata": {
        "colab": {
          "base_uri": "https://localhost:8080/"
        },
        "id": "J0V7O1PJfai7",
        "outputId": "628e9376-4856-4ec6-bb13-292213639a73"
      },
      "source": [
        "%matplotlib inline\n",
        "!pip install pynamics"
      ],
      "execution_count": 21,
      "outputs": [
        {
          "output_type": "stream",
          "text": [
            "Requirement already satisfied: pynamics in /usr/local/lib/python3.6/dist-packages (0.0.7)\n",
            "Requirement already satisfied: scipy in /usr/local/lib/python3.6/dist-packages (from pynamics) (1.4.1)\n",
            "Requirement already satisfied: sympy in /usr/local/lib/python3.6/dist-packages (from pynamics) (1.1.1)\n",
            "Requirement already satisfied: numpy in /usr/local/lib/python3.6/dist-packages (from pynamics) (1.19.5)\n",
            "Requirement already satisfied: matplotlib in /usr/local/lib/python3.6/dist-packages (from pynamics) (3.2.2)\n",
            "Requirement already satisfied: mpmath>=0.19 in /usr/local/lib/python3.6/dist-packages (from sympy->pynamics) (1.1.0)\n",
            "Requirement already satisfied: python-dateutil>=2.1 in /usr/local/lib/python3.6/dist-packages (from matplotlib->pynamics) (2.8.1)\n",
            "Requirement already satisfied: pyparsing!=2.0.4,!=2.1.2,!=2.1.6,>=2.0.1 in /usr/local/lib/python3.6/dist-packages (from matplotlib->pynamics) (2.4.7)\n",
            "Requirement already satisfied: cycler>=0.10 in /usr/local/lib/python3.6/dist-packages (from matplotlib->pynamics) (0.10.0)\n",
            "Requirement already satisfied: kiwisolver>=1.0.1 in /usr/local/lib/python3.6/dist-packages (from matplotlib->pynamics) (1.3.1)\n",
            "Requirement already satisfied: six>=1.5 in /usr/local/lib/python3.6/dist-packages (from python-dateutil>=2.1->matplotlib->pynamics) (1.15.0)\n"
          ],
          "name": "stdout"
        }
      ]
    },
    {
      "cell_type": "markdown",
      "metadata": {
        "id": "1DAWJ9GZf5PF"
      },
      "source": [
        "import all required packages"
      ]
    },
    {
      "cell_type": "code",
      "metadata": {
        "id": "X3oEPY4Of7Bb"
      },
      "source": [
        "import pynamics\n",
        "from pynamics.frame import Frame\n",
        "from pynamics.variable_types import Differentiable,Constant\n",
        "from pynamics.system import System\n",
        "#from pynamics.body import Body\n",
        "#from pynamics.dyadic import Dyadic\n",
        "from pynamics.output import Output,PointsOutput\n",
        "#from pynamics.particle import Particle\n",
        "import pynamics.integration\n",
        "import sympy\n",
        "import numpy\n",
        "import matplotlib.pyplot as plt\n",
        "plt.ion()\n",
        "from math import pi\n",
        "#from pynamics.constraint import Constraint\n",
        "import scipy.optimize"
      ],
      "execution_count": 22,
      "outputs": []
    },
    {
      "cell_type": "markdown",
      "metadata": {
        "id": "MjMPn0LYhA7l"
      },
      "source": [
        "Create a pynamics system"
      ]
    },
    {
      "cell_type": "code",
      "metadata": {
        "id": "8Qs29wgyhAmp"
      },
      "source": [
        "system = System()\n",
        "pynamics.set_system(__name__,system)"
      ],
      "execution_count": 23,
      "outputs": []
    },
    {
      "cell_type": "markdown",
      "metadata": {
        "id": "F6l_ZP-ii2G8"
      },
      "source": [
        "Declare all length constants"
      ]
    },
    {
      "cell_type": "code",
      "metadata": {
        "id": "YBp7C4K1i6vq"
      },
      "source": [
        "# TODO: Add correct measurements when defining length constants\n",
        "# We may also considering our angle constraints for the triangular links here\n",
        "\n",
        "# From Loop Closure Eq. #1\n",
        "l_10 = Constant(2,'l_10',system)\n",
        "l_31 = Constant(1.5,'l_31',system)\n",
        "l_32 = Constant(1,'l_32',system)\n",
        "l_02 = Constant(1,'l_02',system)\n",
        "\n",
        "# From Loop Closure Eq. #2\n",
        "#l_10 already is included in Eq. 1\n",
        "l_61 = Constant(2,'l_61',system)\n",
        "l_56 = Constant(2,'l_56',system)\n",
        "l_54 = Constant(2,'l_54',system)\n",
        "l_40 = Constant(2,'l_54',system)\n",
        "\n",
        "# From Loop Closure Eq. #3\n",
        "#l_32 already is included in Eq. 1\n",
        "#l_54 already is included in Eq. 2\n",
        "#l_56 already is included in Eq. 2\n",
        "l_63 = Constant(2,'l_63',system)\n",
        "l_42 = Constant(2,'l_42',system)\n",
        "\n",
        "# End effector\n",
        "l_E6 = Constant(2,'l_E6',system)"
      ],
      "execution_count": 24,
      "outputs": []
    },
    {
      "cell_type": "markdown",
      "metadata": {
        "id": "lMQqg-SuDwcn"
      },
      "source": [
        "Create the differentiable state variables, cooresponding to the joint angles (we might not need all of these depending on how we do the constraints)"
      ]
    },
    {
      "cell_type": "code",
      "metadata": {
        "id": "3TOiNwM0lfJ-"
      },
      "source": [
        "q0,q0_d,q0_dd = Differentiable('q0',system)\n",
        "q1,q1_d,q1_dd = Differentiable('q1',system)\n",
        "q2,q2_d,q2_dd = Differentiable('q2',system)\n",
        "q3,q3_d,q3_dd = Differentiable('q3',system)\n",
        "q4,q4_d,q4_dd = Differentiable('q4',system)\n",
        "q5,q5_d,q5_dd = Differentiable('q5',system)\n",
        "q6,q6_d,q6_dd = Differentiable('q6',system)"
      ],
      "execution_count": 25,
      "outputs": []
    },
    {
      "cell_type": "markdown",
      "metadata": {
        "id": "eJkP_EQQEgSA"
      },
      "source": [
        "Initial guess for starting positions"
      ]
    },
    {
      "cell_type": "code",
      "metadata": {
        "id": "XSI4Kk7mEf3f"
      },
      "source": [
        "# TODO: We can measure the angles on our figure to make some guesses"
      ],
      "execution_count": 26,
      "outputs": []
    },
    {
      "cell_type": "markdown",
      "metadata": {
        "id": "K-DNvEcrEriC"
      },
      "source": [
        "Retrieve state variables in the order they are stored in the system"
      ]
    },
    {
      "cell_type": "code",
      "metadata": {
        "id": "EE4gfIU6EvhW"
      },
      "source": [
        "# Not sure if we need this, but it's included in the tutorial\n",
        "statevariables = system.get_state_variables()"
      ],
      "execution_count": 27,
      "outputs": []
    },
    {
      "cell_type": "markdown",
      "metadata": {
        "id": "VWDDxqrKE9EY"
      },
      "source": [
        "Create the reference frames, with one cooresponding to each rigid link\n",
        "![Reference Frames](https://raw.githubusercontent.com/arnoldjames98/arnoldjames98.github.io/main/images/assignment3/refFrames.png)"
      ]
    },
    {
      "cell_type": "code",
      "metadata": {
        "id": "bGV3_X6jFEO1"
      },
      "source": [
        "N = Frame('N') # Purple link at p0 (ground)\n",
        "A = Frame('A') # Yellow link at p1\n",
        "B = Frame('B') # Green link at p5\n",
        "C = Frame('C') # Red link at p6\n",
        "D = Frame('D') # Orange link at p3\n",
        "E = Frame('E') # Blue link at pE (end-effector)"
      ],
      "execution_count": 28,
      "outputs": []
    },
    {
      "cell_type": "markdown",
      "metadata": {
        "id": "koIsFu8CHSkC"
      },
      "source": [
        "Declare N as the Newtonian (fixed) frame"
      ]
    },
    {
      "cell_type": "code",
      "metadata": {
        "id": "qfSch5hKHW_d"
      },
      "source": [
        "system.set_newtonian(N)"
      ],
      "execution_count": 29,
      "outputs": []
    },
    {
      "cell_type": "markdown",
      "metadata": {
        "id": "uPFgFvOB-Fcr"
      },
      "source": [
        "Rotate frames about their z-axes so they align with the correct rigid link."
      ]
    },
    {
      "cell_type": "code",
      "metadata": {
        "id": "adOePE3kIxfm"
      },
      "source": [
        "A.rotate_fixed_axis_directed(N,[0,0,1],q1,system)\n",
        "B.rotate_fixed_axis_directed(A,[0,0,1],q5,system)\n",
        "C.rotate_fixed_axis_directed(B,[0,0,1],q6,system)\n",
        "D.rotate_fixed_axis_directed(B,[0,0,1],q3,system)\n",
        "\n",
        "# The end effector frame is a bit different, so may need to reconsider this\n",
        "# For now it's the same as frame D\n",
        "E.rotate_fixed_axis_directed(B,[0,0,1],q3,system)"
      ],
      "execution_count": 30,
      "outputs": []
    },
    {
      "cell_type": "markdown",
      "metadata": {
        "id": "kbZAlQ5KJXn3"
      },
      "source": [
        "Define my rigid body kinematics"
      ]
    }
  ]
}