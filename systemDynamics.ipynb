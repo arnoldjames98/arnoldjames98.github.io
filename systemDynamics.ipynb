{
  "nbformat": 4,
  "nbformat_minor": 0,
  "metadata": {
    "colab": {
      "name": "systemDynamics.ipynb",
      "provenance": [],
      "collapsed_sections": [],
      "toc_visible": true,
      "include_colab_link": true
    },
    "kernelspec": {
      "name": "python3",
      "display_name": "Python 3"
    }
  },
  "cells": [
    {
      "cell_type": "markdown",
      "metadata": {
        "id": "view-in-github",
        "colab_type": "text"
      },
      "source": [
        "<a href=\"https://colab.research.google.com/github/arnoldjames98/arnoldjames98.github.io/blob/main/systemDynamics.ipynb\" target=\"_parent\"><img src=\"https://colab.research.google.com/assets/colab-badge.svg\" alt=\"Open In Colab\"/></a>"
      ]
    },
    {
      "cell_type": "markdown",
      "metadata": {
        "id": "1Hf_2b0SpFxN"
      },
      "source": [
        "# [Biodegradable Seed Spreading Robot](https://arnoldjames98.github.io/)\n",
        "# System Dynamics"
      ]
    },
    {
      "cell_type": "markdown",
      "metadata": {
        "id": "P5zuG1d52TCO"
      },
      "source": [
        "### 1. Scale: Ensure your system is using SI units. You should be specifying lengths in meters (so millimeters should be scaled down to the .001 range), forces in Newtons, and radians (not degrees), and masses in kg. You may make educated guesses about mass for now."
      ]
    },
    {
      "cell_type": "markdown",
      "metadata": {
        "id": "5x0TZDzm4TFZ"
      },
      "source": [
        "\n",
        "**Table I. Mechanism Lengths**\n",
        "\n",
        "| Length | Rigid Body | Measurement (m)\n",
        "| --- | --- | --- |\n",
        "| L10 | Yellow | 0.03 |\n",
        "| L02 | Purple | 0.0689 |\n",
        "| L42 | Purple | 0.0973 |\n",
        "| L40 | Purple | 0.0737 |\n",
        "| L31 | Red | 0.066 |\n",
        "| L61 | Red | 0.1236 | \n",
        "| L63 | Red | 0.0584 |\n",
        "| L54 | Green | 0.0579 |\n",
        "| L32 | Orange | 0.0359 |\n",
        "| L56 | Blue | 0.1004 |\n",
        "| L5E | Blue | 0.1940 |\n",
        "| LE6 | Blue | 0.1004 |\n",
        "\n",
        "**Table II. Mechanism Masses**\n",
        "\n",
        "| Rigid Body | Mass (kg)\n",
        "| --- | --- |\n",
        "| Yellow | 0 |\n",
        "| Purple | 0 |\n",
        "| Red | 0 |\n",
        "| Green | 0 |\n",
        "| Orange | 0 |\n",
        "| Blue | 0 |"
      ]
    },
    {
      "cell_type": "markdown",
      "metadata": {
        "id": "y0Y2bmVKH0pY"
      },
      "source": [
        "Show plots inline and ensure that pynamics is installed."
      ]
    },
    {
      "cell_type": "code",
      "metadata": {
        "colab": {
          "base_uri": "https://localhost:8080/"
        },
        "id": "J0V7O1PJfai7",
        "outputId": "019921f0-3554-4388-81a4-f81a351a642f"
      },
      "source": [
        "%matplotlib inline\n",
        "!pip install pynamics"
      ],
      "execution_count": 1,
      "outputs": [
        {
          "output_type": "stream",
          "text": [
            "Requirement already satisfied: pynamics in /usr/local/lib/python3.7/dist-packages (0.0.8)\n",
            "Requirement already satisfied: sympy in /usr/local/lib/python3.7/dist-packages (from pynamics) (1.1.1)\n",
            "Requirement already satisfied: matplotlib in /usr/local/lib/python3.7/dist-packages (from pynamics) (3.2.2)\n",
            "Requirement already satisfied: numpy in /usr/local/lib/python3.7/dist-packages (from pynamics) (1.19.5)\n",
            "Requirement already satisfied: scipy in /usr/local/lib/python3.7/dist-packages (from pynamics) (1.4.1)\n",
            "Requirement already satisfied: mpmath>=0.19 in /usr/local/lib/python3.7/dist-packages (from sympy->pynamics) (1.2.1)\n",
            "Requirement already satisfied: cycler>=0.10 in /usr/local/lib/python3.7/dist-packages (from matplotlib->pynamics) (0.10.0)\n",
            "Requirement already satisfied: pyparsing!=2.0.4,!=2.1.2,!=2.1.6,>=2.0.1 in /usr/local/lib/python3.7/dist-packages (from matplotlib->pynamics) (2.4.7)\n",
            "Requirement already satisfied: python-dateutil>=2.1 in /usr/local/lib/python3.7/dist-packages (from matplotlib->pynamics) (2.8.1)\n",
            "Requirement already satisfied: kiwisolver>=1.0.1 in /usr/local/lib/python3.7/dist-packages (from matplotlib->pynamics) (1.3.1)\n",
            "Requirement already satisfied: six in /usr/local/lib/python3.7/dist-packages (from cycler>=0.10->matplotlib->pynamics) (1.15.0)\n"
          ],
          "name": "stdout"
        }
      ]
    },
    {
      "cell_type": "markdown",
      "metadata": {
        "id": "1DAWJ9GZf5PF"
      },
      "source": [
        "Import all required packages. Packages related to dynamics are commented out since they are not needed for this assignment, but will be used in the future."
      ]
    },
    {
      "cell_type": "code",
      "metadata": {
        "id": "X3oEPY4Of7Bb"
      },
      "source": [
        "import pynamics\n",
        "from pynamics.frame import Frame\n",
        "from pynamics.variable_types import Differentiable,Constant\n",
        "from pynamics.system import System\n",
        "from pynamics.body import Body # New for this assignment\n",
        "from pynamics.dyadic import Dyadic # New for this assignment\n",
        "from pynamics.output import Output,PointsOutput\n",
        "from pynamics.particle import Particle # New for this assignment\n",
        "import pynamics.integration\n",
        "import sympy\n",
        "import numpy\n",
        "import matplotlib.pyplot as plt\n",
        "plt.ion()\n",
        "from math import pi\n",
        "from pynamics.constraint import Constraint # New for this assignment\n",
        "import scipy.optimize"
      ],
      "execution_count": 2,
      "outputs": []
    },
    {
      "cell_type": "markdown",
      "metadata": {
        "id": "MjMPn0LYhA7l"
      },
      "source": [
        "Create a pynamics system where the mechanism is located."
      ]
    },
    {
      "cell_type": "code",
      "metadata": {
        "id": "8Qs29wgyhAmp"
      },
      "source": [
        "system = System()\n",
        "pynamics.set_system(__name__,system)"
      ],
      "execution_count": 3,
      "outputs": []
    },
    {
      "cell_type": "markdown",
      "metadata": {
        "id": "F6l_ZP-ii2G8"
      },
      "source": [
        "Declare all length constants and ground coordinate locations."
      ]
    },
    {
      "cell_type": "code",
      "metadata": {
        "id": "YBp7C4K1i6vq"
      },
      "source": [
        "# All lengths converted to meters from the previous assignment\n",
        "# Put all meaured lengths in meters in a list so that if we chose to change these\n",
        "# in the future, they can all be scaled up or down with a single multiplier\n",
        "allLengths = [0.03, 0.066, 0.0359, 0.068877, 0.12363, 0.1004, 0.0579, 0.073736, \\\n",
        "              0.0584, 0.0973, 0.1004, 0.19396]\n",
        "\n",
        "groundCoords = [-0.066, -0.0197, -0.026, 0.069]\n",
        "\n",
        "lengthScale = 1 # Default is 1, means that the measurements in allLengths and groundCoords will be unchanged from above\n",
        "\n",
        "allLengths = allLengths*lengthScale\n",
        "groundCoords = groundCoords*lengthScale\n",
        "\n",
        "# From Loop Closure Eq. #1\n",
        "l_10 = Constant(allLengths[0],'l_10',system)\n",
        "l_31 = Constant(allLengths[1],'l_31',system)\n",
        "l_32 = Constant(allLengths[2],'l_32',system)\n",
        "l_02 = Constant(allLengths[3],'l_02',system)\n",
        "\n",
        "# From Loop Closure Eq. #2\n",
        "#l_10 already is included in Eq. 1\n",
        "l_61 = Constant(allLengths[4],'l_61',system)\n",
        "l_56 = Constant(allLengths[5],'l_56',system)\n",
        "l_54 = Constant(allLengths[6],'l_54',system)\n",
        "l_40 = Constant(allLengths[7],'l_54',system)\n",
        "\n",
        "# Other lengths\n",
        "l_63 = Constant(allLengths[8],'l_63',system)\n",
        "l_42 = Constant(allLengths[9],'l_42',system)\n",
        "\n",
        "# End effector\n",
        "l_E6 = Constant(allLengths[10],'l_E6',system)\n",
        "l_5E = Constant(allLengths[11],'l_5E',system)\n",
        "\n",
        "# Moved the coordinates of the ground link here since they need to be scaled\n",
        "# the same has lengths\n",
        "# Ground link coordinates\n",
        "p2_x = Constant(groundCoords[0],'p2_x',system)\n",
        "p2_y = Constant(groundCoords[1],'p2_y',system)\n",
        "p4_x = Constant(groundCoords[2],'p4_x',system)\n",
        "p4_y = Constant(groundCoords[3],'p4_y',system)\n",
        "\n",
        "# Consider adding the constant angle constraints in the future"
      ],
      "execution_count": 4,
      "outputs": []
    },
    {
      "cell_type": "markdown",
      "metadata": {
        "id": "PoEEHDPGTSJ9"
      },
      "source": [
        "Declare all masses of the links"
      ]
    },
    {
      "cell_type": "code",
      "metadata": {
        "id": "lbV5d52d4Tyq"
      },
      "source": [
        "# Found some masses by estimating the length/perimeters in m of the different links in Cree's prototype\n",
        "# This means the \"triangular links\" are not considered as rigid bodies, but inside just the sides matter\n",
        "# Note that the blue and red triangular links actually only include 2 of the three sides in Cree's prototype\n",
        "allMasses = [0.0300, 0.0359, 0.0579, 0.1244, 0.2004, 0.2399]\n",
        "\n",
        "# Assuming we use 300 g/m2 heavy cardstock and all links are about 0.02m width by the length\n",
        "# 0.3 kg / 0.02 m = 15 kg/m\n",
        "massScale = 15 # Converts the length/perimeter based mass estimates a more realistic value for cardstock\n",
        "allMasses = allMasses*massScale\n",
        "\n",
        "mY = Constant(allMasses[0],'mY',system) # Mass of yellow input link\n",
        "mO = Constant(allMasses[1],'mO',system) # Mass of orange link\n",
        "mG = Constant(allMasses[2],'mG',system) # Mass of green link\n",
        "mR = Constant(allMasses[3],'mR',system) # Mass of red link\n",
        "mB = Constant(allMasses[4],'mB',system) # Mass of blue link\n",
        "mP = Constant(allMasses[5],'mP',system) # Mass of purple groundlink"
      ],
      "execution_count": 5,
      "outputs": []
    },
    {
      "cell_type": "markdown",
      "metadata": {
        "id": "c-GAH4N9euCk"
      },
      "source": [
        "Define forces in Newtons"
      ]
    },
    {
      "cell_type": "code",
      "metadata": {
        "id": "nDvNqGTeeyRV"
      },
      "source": [
        "#TODO: I think we just need the ground reaction force here"
      ],
      "execution_count": null,
      "outputs": []
    },
    {
      "cell_type": "markdown",
      "metadata": {
        "id": "zmdt2e3_3Z0h"
      },
      "source": [
        "\n",
        "\n",
        "---\n",
        "\n",
        "\n",
        "### 2. Define Inertias: Add a center of mass and a particle or rigid body to each rotational frame. You may use particles for now if you are not sure of the inertial properties of your bodies, but you should plan on finding these values soon for any “payloads” or parts of your system that carry extra loads (other than the weight of paper)."
      ]
    },
    {
      "cell_type": "markdown",
      "metadata": {
        "id": "LW1x-36nbO7-"
      },
      "source": [
        "#### First, defining the inertias"
      ]
    },
    {
      "cell_type": "code",
      "metadata": {
        "id": "lU5vzWCObIVi"
      },
      "source": [
        "# Diagonal entries of the interia matricies\n",
        "# For rectangular links, I think something like: https://www.google.com/search?q=inertia+matrix+of+rectangle&source=lnms&tbm=isch&sa=X&ved=2ahUKEwiskPO74YHvAhXwITQIHa09C7QQ_AUoAXoECBMQAw&biw=1440&bih=764#imgrc=pdWYree46q8xbM\n",
        "# Where diagonal elements are (1/12 * mass * (lengthSideY^2 - lengthSideZ^2) for example\n",
        "# The triangular links are bit trickier. I think we can do it in SolidWorks\n",
        "# Note that the frames are defined in the sections below, but are important for \n",
        "# identifying which dimension is x (along frame), y (orthogonal to frame), or z (out of the page)\n",
        "\n",
        "# TODO: Update these diagonal intertia matrix elements based on the geometry of Cree's prototype\n",
        "\n",
        "# Inertia of yellow link (rectangle) w.r.t Y frame\n",
        "Ixx_Y = Constant(1,'Ixx_Y',system)\n",
        "Iyy_Y = Constant(1,'Iyy_Y',system)\n",
        "Izz_Y = Constant(1,'Izz_Y',system)\n",
        "\n",
        "# Inertia of orange link (rectangle)\n",
        "Ixx_O = Constant(1,'Ixx_O',system)\n",
        "Iyy_O = Constant(1,'Iyy_O',system)\n",
        "Izz_O = Constant(1,'Izz_O',system)\n",
        "\n",
        "# Inertia of green link (rectangle)\n",
        "Ixx_G = Constant(1,'Ixx_G',system)\n",
        "Iyy_G = Constant(1,'Iyy_G',system)\n",
        "Izz_G = Constant(1,'Izz_G',system)\n",
        "\n",
        "# Inertia of red link (two sides of triagle)\n",
        "Ixx_R = Constant(1,'Ixx_R',system)\n",
        "Iyy_R = Constant(1,'Iyy_R',system)\n",
        "Izz_R = Constant(1,'Izz_R',system)\n",
        "\n",
        "# Inertia of blue link (two sides of triagle)\n",
        "Ixx_B = Constant(1,'Ixx_B',system)\n",
        "Iyy_B = Constant(1,'Iyy_B',system)\n",
        "Izz_B = Constant(1,'Izz_B',system)\n",
        "\n",
        "# Inertia of purple link (three sides of triagle)\n",
        "Ixx_P = Constant(1,'Ixx_P',system)\n",
        "Iyy_P = Constant(1,'Iyy_P',system)\n",
        "Izz_P = Constant(1,'Izz_P',system)"
      ],
      "execution_count": 6,
      "outputs": []
    },
    {
      "cell_type": "markdown",
      "metadata": {
        "id": "HkEES4hBbSZ8"
      },
      "source": [
        "#### NOTE: Some additionally code from the kinematics assignment is needed to define the frames, since the center of masses require that the frames be defined."
      ]
    },
    {
      "cell_type": "markdown",
      "metadata": {
        "id": "lMQqg-SuDwcn"
      },
      "source": [
        "Create the differentiable state variables, cooresponding to the joint angles (we might not need all of these depending on how we do the constraints)"
      ]
    },
    {
      "cell_type": "code",
      "metadata": {
        "id": "3TOiNwM0lfJ-"
      },
      "source": [
        "# Note: All angles are measured CCW\n",
        "\n",
        "# Input state variable (angle of crank on yellow link)\n",
        "qY,qY_d,qY_dd = Differentiable('qY',system) # Yellow input link, measured from base frame coordinates\n",
        "\n",
        "# Other state variables (angles of the four undefined links)\n",
        "# Note that the purple link is ground so is fully defined\n",
        "qO,qO_d,qO_dd = Differentiable('qO',system) # Orange link w.r.t base frame\n",
        "qG,qG_d,qG_dd = Differentiable('qG',system) # Green link w.r.t base frame\n",
        "\n",
        "# Links defined w.r.t non-ground link (not connected to ground)\n",
        "qR,qR_d,qR_dd = Differentiable('qR',system) # Red link w.r.t yellow link frame\n",
        "qB,qB_d,qB_dd = Differentiable('qB',system) # Blue link w.r.t green link frame"
      ],
      "execution_count": 34,
      "outputs": []
    },
    {
      "cell_type": "markdown",
      "metadata": {
        "id": "eJkP_EQQEgSA"
      },
      "source": [
        "Initial guess for starting positions"
      ]
    },
    {
      "cell_type": "code",
      "metadata": {
        "id": "XSI4Kk7mEf3f"
      },
      "source": [
        "# TODO: We can measure the angles on our directly from our figure to make some guesses\n",
        "initialvalues = {}\n",
        "# Yellow link w.r.t base\n",
        "initialvalues[qY]=130*pi/180 #130*pi/180 (positive) is the input for which I estimated the other angles\n",
        "initialvalues[qY_d]=0\n",
        "\n",
        "# Orange link w.r.t base (measure angle from the standard horizontal x-axis, the shape of the purple ground link is not needed here)\n",
        "initialvalues[qO]=130*pi/180\n",
        "initialvalues[qO_d]=0\n",
        "\n",
        "# Green link w.r.t base (measure angle from the standard horizontal x-axis, the shape of the purple ground link is not needed here)\n",
        "initialvalues[qG]=160*pi/180\n",
        "initialvalues[qG_d]=0\n",
        "\n",
        "# Red link w.r.t yellow link frame\n",
        "initialvalues[qR]=30*pi/180\n",
        "initialvalues[qR_d]=0\n",
        "\n",
        "# Blue link w.r.t green link frame\n",
        "initialvalues[qB]=60*pi/180\n",
        "initialvalues[qB_d]=0"
      ],
      "execution_count": 35,
      "outputs": []
    },
    {
      "cell_type": "markdown",
      "metadata": {
        "id": "K-DNvEcrEriC"
      },
      "source": [
        "Retrieve state variables in the order they are stored in the system"
      ]
    },
    {
      "cell_type": "code",
      "metadata": {
        "id": "EE4gfIU6EvhW"
      },
      "source": [
        "# Not sure if we need this, but it's included in the tutorial\n",
        "statevariables = system.get_state_variables()"
      ],
      "execution_count": 36,
      "outputs": []
    },
    {
      "cell_type": "markdown",
      "metadata": {
        "id": "VWDDxqrKE9EY"
      },
      "source": [
        "Create the main reference frames, with one cooresponding to each rigid link"
      ]
    },
    {
      "cell_type": "code",
      "metadata": {
        "id": "bGV3_X6jFEO1"
      },
      "source": [
        "N = Frame('N') # Purple (ground) link\n",
        "\n",
        "# Defined w.r.t to ground\n",
        "Y = Frame('Y') # Yellow\n",
        "O = Frame('O') # Orange\n",
        "G = Frame('G') # Green\n",
        "\n",
        "# Defined w.r.t to other links \n",
        "# Note that both are directed towards p6\n",
        "# Important since this is how the angle representing the link is defined\n",
        "R = Frame('R') # Red w.r.t yellow\n",
        "B = Frame('B') # Blue w.r.t green\n",
        "\n",
        "# Helpful additional frames for triangular links\n",
        "# These frames define the constant angles within the triangular joints\n",
        "R_to_p3 = Frame('R_to_p3') # Red w.r.t yellow (+ constant degrees to align x-axis with p3)\n",
        "B_to_pE = Frame('B_to_pE') # Blue w.r.t green (+ constant degrees to align x-axis with pE)\n",
        "B_plus_180 = Frame('B_plus_180') # Blue with x axis in opposite direction\n",
        "R_from_p3 = Frame('R_from_p3') # Red rotated so that it can point from p3 to p6 (CW rotation)\n",
        "B_from_p6 = Frame('B_from_p6') # Blue rotated so it can go from p6 to pE"
      ],
      "execution_count": 37,
      "outputs": []
    },
    {
      "cell_type": "markdown",
      "metadata": {
        "id": "koIsFu8CHSkC"
      },
      "source": [
        "Declare N as the Newtonian (fixed) frame"
      ]
    },
    {
      "cell_type": "code",
      "metadata": {
        "id": "qfSch5hKHW_d"
      },
      "source": [
        "system.set_newtonian(N)"
      ],
      "execution_count": 38,
      "outputs": []
    },
    {
      "cell_type": "markdown",
      "metadata": {
        "id": "uPFgFvOB-Fcr"
      },
      "source": [
        "Rotate frames about their z-axes so they align with the correct rigid link."
      ]
    },
    {
      "cell_type": "code",
      "metadata": {
        "id": "adOePE3kIxfm"
      },
      "source": [
        "# Frames cooresponding to joint angles\n",
        "Y.rotate_fixed_axis_directed(N,[0,0,1],qY,system) # Yellow\n",
        "O.rotate_fixed_axis_directed(N,[0,0,1],qO,system) # Orange\n",
        "G.rotate_fixed_axis_directed(N,[0,0,1],qG,system) # Green\n",
        "R.rotate_fixed_axis_directed(Y,[0,0,1],qR,system) # Red w.r.t yellow\n",
        "B.rotate_fixed_axis_directed(G,[0,0,1],qB,system) # Blue w.r.t green\n",
        "\n",
        "# Helpful frames for triangular joints\n",
        "# 6.007 degrees from B frame to align axis with p3\n",
        "R_to_p3.rotate_fixed_axis_directed(Y,[0,0,1],qR+6.007*pi/180,system) # Red w.r.t yellow\n",
        "# 15 degrees from B frame to align axis with pE\n",
        "B_to_pE.rotate_fixed_axis_directed(G,[0,0,1],qB+15*pi/180,system) # Blue w.r.t green\n",
        "# B plus 180 (this comes in handy later when defining a vector in the opposite direction)\n",
        "B_plus_180.rotate_fixed_axis_directed(G,[0,0,1],qB+180*pi/180,system) # Blue reversed\n",
        "# R - 5.84 degrees (CW rotation) from p3 to p6\n",
        "R_from_p3.rotate_fixed_axis_directed(Y,[0,0,1],qR-12.8*pi/180,system) # Red w.r.t yellow\n",
        "# Rotate B frame 30 degrees CCW to go from p6 to pE\n",
        "B_from_p6.rotate_fixed_axis_directed(G,[0,0,1],qB+30*pi/180,system)"
      ],
      "execution_count": 39,
      "outputs": []
    },
    {
      "cell_type": "markdown",
      "metadata": {
        "id": "TKCgaZaMbgN_"
      },
      "source": [
        "#### Now with the frames defined, the **center of masses** can be considered"
      ]
    },
    {
      "cell_type": "code",
      "metadata": {
        "id": "5YT0vbK23gVe"
      },
      "source": [
        "#TODO\n",
        "\n",
        "# Center of mass for each link, requires information about frames\n",
        "# For the triangular links, we will need to consider both the x and y components\n",
        "# since the COM will not be located along any frame like for the straight joints where it is in the middle\n",
        "\n",
        "# These ones are easy: just in the middle of the length along the correct frame\n",
        "#cmY=\n",
        "#cmO=\n",
        "#cmG=\n",
        "\n",
        "# These ones need x and y components\n",
        "#cmR=\n",
        "#cmB=\n",
        "#cmP="
      ],
      "execution_count": 13,
      "outputs": []
    },
    {
      "cell_type": "markdown",
      "metadata": {
        "id": "RR2q7r6egIag"
      },
      "source": [
        "The next several lines compute the inertia dyadics of each body and define a rigid body on each frame."
      ]
    },
    {
      "cell_type": "code",
      "metadata": {
        "id": "Q-ot5DOzfy5I"
      },
      "source": [
        "# Define the intertia w.r.t to the appropriate frames\n",
        "IY = Dyadic.build(Y,Ixx_Y,Iyy_Y,Izz_Y)\n",
        "IO = Dyadic.build(O,Ixx_O,Iyy_O,Izz_O)\n",
        "IG = Dyadic.build(G,Ixx_G,Iyy_G,Izz_G)\n",
        "IR = Dyadic.build(R,Ixx_R,Iyy_R,Izz_R)\n",
        "IB = Dyadic.build(B,Ixx_B,Iyy_B,Izz_B)\n",
        "IP = Dyadic.build(N,Ixx_P,Iyy_P,Izz_P) # Purple link is in Newtonian frame\n",
        "\n",
        "# TODO: Define the bodies that describe the mass/inertial properties of each link\n",
        "BodyY = Body('BodyY',Y,cmY,mY,IY,system)\n",
        "#BodyO = ....\n",
        "\n",
        "# An alternative approach is to represent each mass as a particle at a certain point\n",
        "#BodyC = Particle(pCcm,mC,'ParticleC',system)"
      ],
      "execution_count": null,
      "outputs": []
    },
    {
      "cell_type": "markdown",
      "metadata": {
        "id": "ajShORSr3g2_"
      },
      "source": [
        "\n",
        "\n",
        "---\n",
        "\n",
        "\n",
        "### 3. Add Forces: Add the acceleration due to gravity. Add rotational springs in the joints (using k=0 is ok for now) and a damper to at least one rotational joint. You do not need to add external motor/spring forces but you should start planning to collect that data."
      ]
    },
    {
      "cell_type": "code",
      "metadata": {
        "id": "s4M6_L3y3kp8"
      },
      "source": [
        "# THIS SECTION IS NOT DONE, SOME PARTS PASTED FROM TRIPLE PENDULUM EXAMPLE\n",
        "\n",
        "# Gravity\n",
        "g = Constant(9.81,'g',system)\n",
        "\n",
        "# TODO: We will probably need to add more of these variables specific to certain joints\n",
        "# These may also need to be moved to another section\n",
        "b = Constant(1e1,'b',system) # Damping\n",
        "k = Constant(1e1,'k',system) # Stiffness\n",
        "\n",
        "# Stiffness equilibrium (where joint naturally wants to be) for each joint\n",
        "# It seems like \n",
        "# We will need to update the angles with ones that make sense based on how the paper joints are folded\n",
        "preloadY = Constant(0*pi/180,'preload0',system)\n",
        "preloadO = Constant(0*pi/180,'preload1',system)\n",
        "preloadG = Constant(0*pi/180,'preload2',system)\n",
        "preloadR = Constant(0*pi/180,'preload3',system)\n",
        "preloadB = Constant(0*pi/180,'preload4',system)\n",
        "\n",
        "# Question: The frames for this part are confusing\n",
        "# For example, should the force on qY be in the Y frame or N frame?\n",
        "# Also, need to define angular velocities to do this part\n",
        "#system.add_spring_force1(k,(qY-preloadY)*N.z,ANGULARVELOCITY) \n",
        "# TODO: Finish this\n"
      ],
      "execution_count": 14,
      "outputs": []
    },
    {
      "cell_type": "markdown",
      "metadata": {
        "id": "8HFn7pc53lJS"
      },
      "source": [
        "\n",
        "\n",
        "---\n",
        "\n",
        "\n",
        "### 4. Constraints: Keep mechanism constraints in, but follow the pendulum example of double-differentiating all constraint equations.\n",
        "*   If you defined your mechanism as unattached to the Newtonian frame, add enough constraints so that it is fully attached to ground (for now). you will be eventually removing these constraints.\n"
      ]
    },
    {
      "cell_type": "markdown",
      "metadata": {
        "id": "kbZAlQ5KJXn3"
      },
      "source": [
        "Define vectors for each of the joint locations.\n",
        "*Note: Not all vectors here are necessary for the chosen loop closure equations, but are kept here since they could be useful in future assignments.*"
      ]
    },
    {
      "cell_type": "code",
      "metadata": {
        "id": "DBYH_O_iuDrX"
      },
      "source": [
        "# Vectors representing the joint locations w.r.t N frame\n",
        "# Fixed points on purple (ground) link\n",
        "p0 = 0*N.x # P0 is at the origin\n",
        "p2 = p2_x*N.x + p2_y*N.y # Coordinates given (in meters)\n",
        "p4 = p4_x*N.x + p4_y*N.y # Coordinates given (in meters)\n",
        "\n",
        "# Note that for all other points, they are still w.r.t N frame, but they can be defined from different directions/pathways\n",
        "# Defining the same point from different directions/pathways is needed for constraints\n",
        "# Points directly connected to ground\n",
        "p1_from_p0 = p0 + l_10*Y.x\n",
        "p3_from_p2 = p2 + l_32*O.x\n",
        "p5_from_p4 = p4 + l_54*G.x\n",
        "\n",
        "# Additional points (Consider alternative defnitions of these)\n",
        "p6_from_p1 = p1_from_p0 + l_61*R.x\n",
        "pE_from_p5 = p5_from_p4 + l_5E*B_to_pE.x # 15 degrees CCW from B frame x axis\n",
        "\n",
        "# Alternate pathways to points (used to make LHS and RHS of loop equations defined differently)\n",
        "p3_from_p1 = p1_from_p0 + l_31*R_to_p3.x # 6.007 degrees (CCW) from R frame x axis\n",
        "p5_from_p6 = p6_from_p1 + l_56*B_plus_180.x # 180 degress (CCW) from B frame x axis\n",
        "p6_from_p3 = p3_from_p2 + l_63*R_from_p3.x # -5.84 degress (CW) from R frame x axis\n",
        "pE_from_p6 = p6_from_p3 + l_E6*B_from_p6.x\n",
        "\n",
        "# List of points to that will be used for plotting \n",
        "# Doesn't matter which version of points like p1 we use since they will be constrained to be equal\n",
        "points = [p0, p1_from_p0, p2, p3_from_p2, p4, p5_from_p4, p6_from_p1, pE_from_p6]"
      ],
      "execution_count": 15,
      "outputs": []
    },
    {
      "cell_type": "markdown",
      "metadata": {
        "id": "RXqi9OEh6G2w"
      },
      "source": [
        "Create a list of initial values ini0 in the order of the system’s state variables"
      ]
    },
    {
      "cell_type": "code",
      "metadata": {
        "id": "I7ViuiMz6GQt"
      },
      "source": [
        "statevariables = system.get_state_variables()\n",
        "ini0 = [initialvalues[item] for item in statevariables]"
      ],
      "execution_count": 16,
      "outputs": []
    },
    {
      "cell_type": "markdown",
      "metadata": {
        "id": "AtXXhIQl6u-_"
      },
      "source": [
        "Create all the vector equation constraints (e.g., loop closure equations, rigid link constraints, etc.)"
      ]
    },
    {
      "cell_type": "code",
      "metadata": {
        "id": "Vp_iVBS77Ag4"
      },
      "source": [
        "# Loop closure equations (constraint to ensure all loops are equal to zero)\n",
        "# Equation 1 (R02 + R10 + R31 = R32)\n",
        "loopClosure1 = p3_from_p1 - p3_from_p2\n",
        "\n",
        "# Equation 2 (R10 + R61 + R56 = R40 + R54)\n",
        "loopClosure2 = p5_from_p4 - p5_from_p6"
      ],
      "execution_count": 17,
      "outputs": []
    },
    {
      "cell_type": "markdown",
      "metadata": {
        "id": "HtZSu4Cs8q06"
      },
      "source": [
        "Convert the vector constraints into scalar equations that can be solved"
      ]
    },
    {
      "cell_type": "code",
      "metadata": {
        "colab": {
          "base_uri": "https://localhost:8080/"
        },
        "id": "p0LDrwDm8yCO",
        "outputId": "8a621376-c66f-45fe-b736-8cc5a779a5a1"
      },
      "source": [
        "eq = [] # Initialize\n",
        "\n",
        "# Loop closure equations\n",
        "eq.append((loopClosure1).dot(N.x))\n",
        "eq.append((loopClosure1).dot(N.y))\n",
        "\n",
        "eq.append((loopClosure2).dot(N.x))\n",
        "eq.append((loopClosure2).dot(N.y))\n",
        "\n",
        "# Show the equations\n",
        "print(eq)\n",
        "\n",
        "# Take the derivatives\n",
        "eq_d=[(system.derivative(item)) for item in eq]\n",
        "eq_dd=[(system.derivative(item)) for item in eq_d] # Added for this assignment\n",
        "\n",
        "# Show the derivatives\n",
        "print(eq_d)"
      ],
      "execution_count": 18,
      "outputs": [
        {
          "output_type": "stream",
          "text": [
            "[l_10*cos(qY) - l_31*sin(qY)*sin(qR + 0.104841928167299) + l_31*cos(qY)*cos(qR + 0.104841928167299) - l_32*cos(qO) - p2_x, l_10*sin(qY) + l_31*sin(qY)*cos(qR + 0.104841928167299) + l_31*sin(qR + 0.104841928167299)*cos(qY) - l_32*sin(qO) - p2_y, -l_10*cos(qY) + l_54*cos(qG) + l_56*sin(qG)*sin(qB + 3.14159265358979) - l_56*cos(qG)*cos(qB + 3.14159265358979) + l_61*sin(qR)*sin(qY) - l_61*cos(qR)*cos(qY) + p4_x, -l_10*sin(qY) + l_54*sin(qG) - l_56*sin(qG)*cos(qB + 3.14159265358979) - l_56*sin(qB + 3.14159265358979)*cos(qG) - l_61*sin(qR)*cos(qY) - l_61*sin(qY)*cos(qR) + p4_y]\n",
            "[l_32*qO_d*sin(qO) + qR_d*(-l_31*sin(qY)*cos(qR + 0.104841928167299) - l_31*sin(qR + 0.104841928167299)*cos(qY)) + qY_d*(-l_10*sin(qY) - l_31*sin(qY)*cos(qR + 0.104841928167299) - l_31*sin(qR + 0.104841928167299)*cos(qY)), -l_32*qO_d*cos(qO) + qR_d*(-l_31*sin(qY)*sin(qR + 0.104841928167299) + l_31*cos(qY)*cos(qR + 0.104841928167299)) + qY_d*(l_10*cos(qY) - l_31*sin(qY)*sin(qR + 0.104841928167299) + l_31*cos(qY)*cos(qR + 0.104841928167299)), qB_d*(l_56*sin(qG)*cos(qB + 3.14159265358979) + l_56*sin(qB + 3.14159265358979)*cos(qG)) + qG_d*(-l_54*sin(qG) + l_56*sin(qG)*cos(qB + 3.14159265358979) + l_56*sin(qB + 3.14159265358979)*cos(qG)) + qR_d*(l_61*sin(qR)*cos(qY) + l_61*sin(qY)*cos(qR)) + qY_d*(l_10*sin(qY) + l_61*sin(qR)*cos(qY) + l_61*sin(qY)*cos(qR)), qB_d*(l_56*sin(qG)*sin(qB + 3.14159265358979) - l_56*cos(qG)*cos(qB + 3.14159265358979)) + qG_d*(l_54*cos(qG) + l_56*sin(qG)*sin(qB + 3.14159265358979) - l_56*cos(qG)*cos(qB + 3.14159265358979)) + qR_d*(l_61*sin(qR)*sin(qY) - l_61*cos(qR)*cos(qY)) + qY_d*(-l_10*cos(qY) + l_61*sin(qR)*sin(qY) - l_61*cos(qR)*cos(qY))]\n"
          ],
          "name": "stdout"
        }
      ]
    },
    {
      "cell_type": "markdown",
      "metadata": {
        "id": "pPgQ3pII3zF9"
      },
      "source": [
        "\n",
        "\n",
        "---\n",
        "\n",
        "\n",
        "### 5. Solution: Add the code from the bottom of the pendulum example for solving for f=ma, integrating, plotting, and animating. Run the code to see your results. It should look similar to the pendulum example with constraints added, as in like a rag-doll or floppy"
      ]
    },
    {
      "cell_type": "code",
      "metadata": {
        "id": "uRAN2JqV34Zq"
      },
      "source": [
        "# TODO\n",
        "#f,ma = system.getdynamics()"
      ],
      "execution_count": 14,
      "outputs": []
    },
    {
      "cell_type": "markdown",
      "metadata": {
        "id": "vye3WcN0349n"
      },
      "source": [
        "\n",
        "\n",
        "---\n",
        "\n",
        "\n",
        "### 6. Tuning: Now adjust the damper value `b` to something nonzero, that over 10s shows that the system is settling."
      ]
    },
    {
      "cell_type": "code",
      "metadata": {
        "id": "-RT-cLln4CFo"
      },
      "source": [
        ""
      ],
      "execution_count": 14,
      "outputs": []
    },
    {
      "cell_type": "markdown",
      "metadata": {
        "id": "JwaxqNub4Af4"
      },
      "source": [
        "\n",
        "\n",
        "---\n",
        "\n",
        "\n",
        "### 7. (Optional): Adjust joint stiffness values so that your system looks more realistic."
      ]
    },
    {
      "cell_type": "code",
      "metadata": {
        "id": "wHeCbdRb4FpX"
      },
      "source": [
        ""
      ],
      "execution_count": 14,
      "outputs": []
    },
    {
      "cell_type": "markdown",
      "metadata": {
        "id": "temVVRvp4GTn"
      },
      "source": [
        "\n",
        "\n",
        "---\n",
        "\n",
        "\n",
        "# ALL THE CODE BELOW IS FROM THE PREVIOUS ASSIGNMENT. MOVE SECTIONS UP AS NEEDED"
      ]
    },
    {
      "cell_type": "markdown",
      "metadata": {
        "id": "1gS80XYOGJY-"
      },
      "source": [
        "identify independent and dependent variables"
      ]
    },
    {
      "cell_type": "code",
      "metadata": {
        "id": "JWUd1D4vRWm0"
      },
      "source": [
        "qi = [qY] # Yellow link is the input\r\n",
        "qd = [qO, qG, qR, qB] # All other links are dependent on the input"
      ],
      "execution_count": 19,
      "outputs": []
    },
    {
      "cell_type": "markdown",
      "metadata": {
        "id": "bmQoKsuNGX3j"
      },
      "source": [
        "For dependent variables, create an initial guess and create a copy of symbolic constants dictionary and add the initial value of qi to it"
      ]
    },
    {
      "cell_type": "code",
      "metadata": {
        "id": "0I7urC06RXAB"
      },
      "source": [
        "constants = system.constant_values.copy()\r\n",
        "defined = dict([(item,initialvalues[item]) for item in qi])\r\n",
        "constants.update(defined)"
      ],
      "execution_count": 20,
      "outputs": []
    },
    {
      "cell_type": "markdown",
      "metadata": {
        "id": "Z4qzT1OYGa8e"
      },
      "source": [
        "Substitute constants in equation"
      ]
    },
    {
      "cell_type": "code",
      "metadata": {
        "id": "aZXhaFkNR4xY",
        "colab": {
          "base_uri": "https://localhost:8080/"
        },
        "outputId": "ff3051f5-97f6-4819-b22b-222ae2f9f8c8"
      },
      "source": [
        "eq = [item.subs(constants) for item in eq]\r\n",
        "print(eq)"
      ],
      "execution_count": 21,
      "outputs": [
        {
          "output_type": "stream",
          "text": [
            "[-0.0505589332458526*sin(qR + 0.104841928167299) - 0.0359*cos(qO) - 0.0424239822393116*cos(qR + 0.104841928167299) + 0.0467163717094038, -0.0359*sin(qO) - 0.0424239822393116*sin(qR + 0.104841928167299) + 0.0505589332458526*cos(qR + 0.104841928167299) + 0.0426813332935693, 0.1004*sin(qG)*sin(qB + 3.14159265358979) + 0.0947060745027992*sin(qR) - 0.1004*cos(qG)*cos(qB + 3.14159265358979) + 0.073736*cos(qG) + 0.0794678321855469*cos(qR) - 0.00671637170940382, -0.1004*sin(qG)*cos(qB + 3.14159265358979) + 0.073736*sin(qG) + 0.0794678321855469*sin(qR) - 0.1004*sin(qB + 3.14159265358979)*cos(qG) - 0.0947060745027992*cos(qR) + 0.0460186667064307]\n"
          ],
          "name": "stdout"
        }
      ]
    },
    {
      "cell_type": "markdown",
      "metadata": {
        "id": "cAFptUfGGieG"
      },
      "source": [
        "convert to numpy array\n",
        "\n",
        "sum the error"
      ]
    },
    {
      "cell_type": "code",
      "metadata": {
        "id": "W-lOPQi6R6Ix"
      },
      "source": [
        "error = (numpy.array(eq)**2).sum()\r\n"
      ],
      "execution_count": 22,
      "outputs": []
    },
    {
      "cell_type": "markdown",
      "metadata": {
        "id": "AUhSh0TOKZQH"
      },
      "source": [
        "### 4. Select or solve for a valid initial condition that represents the system in the middle of a typical gait, when it is both moving and when forces are being applied to it (or to the world by it)"
      ]
    },
    {
      "cell_type": "markdown",
      "metadata": {
        "id": "H6QzTe9IGlO8"
      },
      "source": [
        "Convert to a function that scipy can use. Sympy has a “labmdify” function that evaluates an expression, but scipy needs a slightly different format."
      ]
    },
    {
      "cell_type": "code",
      "metadata": {
        "id": "1xR2xTkqR8Jf"
      },
      "source": [
        "f = sympy.lambdify(qd,error)\r\n",
        "\r\n",
        "def function(args):\r\n",
        "    return f(*args)"
      ],
      "execution_count": 23,
      "outputs": []
    },
    {
      "cell_type": "markdown",
      "metadata": {
        "id": "4LH3VfVZGsPA"
      },
      "source": [
        "Take the derivative of the equations to linearize with regard to the velocity variables"
      ]
    },
    {
      "cell_type": "code",
      "metadata": {
        "id": "jnu2eFHXR9UX",
        "colab": {
          "base_uri": "https://localhost:8080/"
        },
        "outputId": "01882681-b20d-4ee0-c328-1f0d6dd06597"
      },
      "source": [
        "guess = [initialvalues[item] for item in qd]\r\n",
        "\r\n",
        "result = scipy.optimize.minimize(function,guess)\r\n",
        "if result.fun>1e-3:\r\n",
        "    raise(Exception(\"out of tolerance\"))\r\n",
        "print(\"Tolerance:\", result.fun)\r\n",
        "\r\n",
        "ini = []\r\n",
        "\r\n",
        "for item in system.get_state_variables():\r\n",
        "    if item in qd:\r\n",
        "        ini.append(result.x[qd.index(item)])\r\n",
        "    else:\r\n",
        "        ini.append(initialvalues[item])\r\n",
        "\r\n",
        "points = PointsOutput(points, constant_values=system.constant_values)\r\n",
        "points.calc(numpy.array([ini0,ini]))"
      ],
      "execution_count": 24,
      "outputs": [
        {
          "output_type": "stream",
          "text": [
            "2021-02-24 05:18:20,638 - pynamics.output - INFO - calculating outputs\n",
            "2021-02-24 05:18:20,640 - pynamics.output - INFO - done calculating outputs\n"
          ],
          "name": "stderr"
        },
        {
          "output_type": "stream",
          "text": [
            "Tolerance: 3.5171053889687647e-09\n"
          ],
          "name": "stdout"
        },
        {
          "output_type": "execute_result",
          "data": {
            "text/plain": [
              "array([[[ 0.        ,  0.        ],\n",
              "        [-0.01928363,  0.02298133],\n",
              "        [-0.066     , -0.0197    ],\n",
              "        [-0.08907608,  0.007801  ],\n",
              "        [-0.026     ,  0.069     ],\n",
              "        [-0.09528918,  0.0942192 ],\n",
              "        [-0.13545783,  0.06526528],\n",
              "        [-0.17250399, -0.05490838]],\n",
              "\n",
              "       [[ 0.        ,  0.        ],\n",
              "        [-0.01928363,  0.02298133],\n",
              "        [-0.066     , -0.0197    ],\n",
              "        [-0.08418034,  0.01125618],\n",
              "        [-0.026     ,  0.069     ],\n",
              "        [-0.09251286,  0.10082825],\n",
              "        [-0.14257361,  0.0138185 ],\n",
              "        [-0.14179173, -0.08046163]]])"
            ]
          },
          "metadata": {
            "tags": []
          },
          "execution_count": 24
        }
      ]
    },
    {
      "cell_type": "markdown",
      "metadata": {
        "id": "Nt1w5yyaKivQ"
      },
      "source": [
        "### 5. Plot the system in this position."
      ]
    },
    {
      "cell_type": "markdown",
      "metadata": {
        "id": "kmYPVcIdPh9G"
      },
      "source": [
        "Create a plot of the optimized points defining the mechanism."
      ]
    },
    {
      "cell_type": "code",
      "metadata": {
        "id": "Hp_MYE2rSDAi",
        "colab": {
          "base_uri": "https://localhost:8080/",
          "height": 1000
        },
        "outputId": "ceb1f70b-0afb-4d10-d63e-bf40b22f8584"
      },
      "source": [
        "# Figure when inputting the guesses for intial joint angles\n",
        "plt.figure(dpi=150)\n",
        "# Blue link\n",
        "plt.fill([points.y[0][7,0], points.y[0][6,0], points.y[0][5,0]], [points.y[0][7,1], points.y[0][6,1], points.y[0][5,1]], facecolor='blue', edgecolor=\"black\",linewidth=2, alpha=0.6)\n",
        "# Purple link\n",
        "plt.fill([points.y[0][0,0], points.y[0][2,0], points.y[0][4,0]], [points.y[0][0,1], points.y[0][2,1], points.y[0][4,1]], facecolor='purple', edgecolor=\"black\",linewidth=2, alpha=0.6)\n",
        "# Red link\n",
        "plt.fill([points.y[0][1,0], points.y[0][3,0], points.y[0][6,0]], [points.y[0][1,1], points.y[0][3,1], points.y[0][6,1]], facecolor='red', edgecolor=\"black\",linewidth=2, alpha=0.6)\n",
        "# Orange link\n",
        "plt.fill([points.y[0][2,0], points.y[0][3,0]], [points.y[0][2,1], points.y[0][3,1]], edgecolor=\"orange\",linewidth=6, alpha=0.8)\n",
        "# Green link\n",
        "plt.fill([points.y[0][4,0], points.y[0][5,0]], [points.y[0][4,1], points.y[0][5,1]], edgecolor=\"green\",linewidth=6, alpha=0.8)\n",
        "# Yello link\n",
        "plt.fill([points.y[0][0,0], points.y[0][1,0]], [points.y[0][0,1], points.y[0][1,1]], edgecolor=\"yellow\",linewidth=6, alpha=0.8)\n",
        "\n",
        "# Make the plot readable\n",
        "plt.title('Approximation of Mechanism from Initial Conditions')\n",
        "plt.xlabel('x (m)')\n",
        "plt.ylabel('y (m)')\n",
        "\n",
        "plt.grid()\n",
        "plt.axis('scaled')\n",
        "plt.show()\n",
        "\n",
        "\n",
        "# Figure for the correct joint angles optimized from the guessed initial conditions\n",
        "plt.figure(dpi=150)\n",
        "# Blue link\n",
        "plt.fill([points.y[1][7,0], points.y[1][6,0], points.y[1][5,0]], [points.y[1][7,1], points.y[1][6,1], points.y[1][5,1]], facecolor='blue', edgecolor=\"black\",linewidth=2, alpha=0.6)\n",
        "# Purple link\n",
        "plt.fill([points.y[1][0,0], points.y[1][2,0], points.y[1][4,0]], [points.y[1][0,1], points.y[1][2,1], points.y[1][4,1]], facecolor='purple', edgecolor=\"black\",linewidth=2, alpha=0.6)\n",
        "# Red link\n",
        "plt.fill([points.y[1][1,0], points.y[1][3,0], points.y[1][6,0]], [points.y[1][1,1], points.y[1][3,1], points.y[1][6,1]], facecolor='red', edgecolor=\"black\",linewidth=2, alpha=0.6)\n",
        "# Orange link\n",
        "plt.fill([points.y[1][2,0], points.y[1][3,0]], [points.y[1][2,1], points.y[1][3,1]], edgecolor=\"orange\",linewidth=6, alpha=0.8)\n",
        "# Green link\n",
        "plt.fill([points.y[1][4,0], points.y[1][5,0]], [points.y[1][4,1], points.y[1][5,1]], edgecolor=\"green\",linewidth=6, alpha=0.8)\n",
        "# Yello link\n",
        "plt.fill([points.y[1][0,0], points.y[1][1,0]], [points.y[1][0,1], points.y[1][1,1]], edgecolor=\"yellow\",linewidth=6, alpha=0.8)\n",
        "\n",
        "plt.title('Optimized Figure Based on Kinematic Constraints')\n",
        "plt.xlabel('x (m)')\n",
        "plt.ylabel('y (m)')\n",
        "plt.grid()\n",
        "plt.axis('scaled')\n",
        "plt.show()"
      ],
      "execution_count": 25,
      "outputs": [
        {
          "output_type": "display_data",
          "data": {
            "image/png": "[encoded data removed]",
            "text/plain": [
              "<Figure size 900x600 with 1 Axes>"
            ]
          },
          "metadata": {
            "tags": [],
            "needs_background": "light"
          }
        },
        {
          "output_type": "display_data",
          "data": {
            "image/png": "[encoded data removed]",
            "text/plain": [
              "<Figure size 900x600 with 1 Axes>"
            ]
          },
          "metadata": {
            "tags": [],
            "needs_background": "light"
          }
        }
      ]
    },
    {
      "cell_type": "markdown",
      "metadata": {
        "id": "md32MqYCE8Kg"
      },
      "source": [
        "#### 3.6-7 Create the Jacobian"
      ]
    },
    {
      "cell_type": "markdown",
      "metadata": {
        "id": "-W0ZEkPdFMhZ"
      },
      "source": [
        "Turn constraint equations into a vector"
      ]
    },
    {
      "cell_type": "code",
      "metadata": {
        "id": "352EErkOE-Yv",
        "colab": {
          "base_uri": "https://localhost:8080/"
        },
        "outputId": "e76ac228-0c70-45b8-8085-4453bc4b6089"
      },
      "source": [
        "eq_d = sympy.Matrix(eq_d)\r\n",
        "print(eq_d)"
      ],
      "execution_count": 26,
      "outputs": [
        {
          "output_type": "stream",
          "text": [
            "Matrix([[l_32*qO_d*sin(qO) + qR_d*(-l_31*sin(qY)*cos(qR + 0.104841928167299) - l_31*sin(qR + 0.104841928167299)*cos(qY)) + qY_d*(-l_10*sin(qY) - l_31*sin(qY)*cos(qR + 0.104841928167299) - l_31*sin(qR + 0.104841928167299)*cos(qY))], [-l_32*qO_d*cos(qO) + qR_d*(-l_31*sin(qY)*sin(qR + 0.104841928167299) + l_31*cos(qY)*cos(qR + 0.104841928167299)) + qY_d*(l_10*cos(qY) - l_31*sin(qY)*sin(qR + 0.104841928167299) + l_31*cos(qY)*cos(qR + 0.104841928167299))], [qB_d*(l_56*sin(qG)*cos(qB + 3.14159265358979) + l_56*sin(qB + 3.14159265358979)*cos(qG)) + qG_d*(-l_54*sin(qG) + l_56*sin(qG)*cos(qB + 3.14159265358979) + l_56*sin(qB + 3.14159265358979)*cos(qG)) + qR_d*(l_61*sin(qR)*cos(qY) + l_61*sin(qY)*cos(qR)) + qY_d*(l_10*sin(qY) + l_61*sin(qR)*cos(qY) + l_61*sin(qY)*cos(qR))], [qB_d*(l_56*sin(qG)*sin(qB + 3.14159265358979) - l_56*cos(qG)*cos(qB + 3.14159265358979)) + qG_d*(l_54*cos(qG) + l_56*sin(qG)*sin(qB + 3.14159265358979) - l_56*cos(qG)*cos(qB + 3.14159265358979)) + qR_d*(l_61*sin(qR)*sin(qY) - l_61*cos(qR)*cos(qY)) + qY_d*(-l_10*cos(qY) + l_61*sin(qR)*sin(qY) - l_61*cos(qR)*cos(qY))]])\n"
          ],
          "name": "stdout"
        }
      ]
    },
    {
      "cell_type": "markdown",
      "metadata": {
        "id": "CyQZ_y2SFOiH"
      },
      "source": [
        "Turn qi and qd into sympy vectors"
      ]
    },
    {
      "cell_type": "code",
      "metadata": {
        "id": "LMk2AaZPFQc4"
      },
      "source": [
        "qi = sympy.Matrix([qY_d])\n",
        "qd = sympy.Matrix([qO_d,qG_d,qR_d,qB_d])"
      ],
      "execution_count": 27,
      "outputs": []
    }
  ]
}