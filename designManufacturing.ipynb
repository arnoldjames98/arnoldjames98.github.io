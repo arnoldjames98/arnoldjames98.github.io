{
  "nbformat": 4,
  "nbformat_minor": 0,
  "metadata": {
    "colab": {
      "name": "designManufacturing.ipynb",
      "provenance": [],
      "collapsed_sections": [],
      "authorship_tag": "ABX9TyMP5+NokyZ9nuB/QILX2NnL",
      "include_colab_link": true
    },
    "kernelspec": {
      "name": "python3",
      "display_name": "Python 3"
    },
    "language_info": {
      "name": "python"
    }
  },
  "cells": [
    {
      "cell_type": "markdown",
      "metadata": {
        "id": "view-in-github",
        "colab_type": "text"
      },
      "source": [
        "<a href=\"https://colab.research.google.com/github/arnoldjames98/arnoldjames98.github.io/blob/main/designManufacturing.ipynb\" target=\"_parent\"><img src=\"https://colab.research.google.com/assets/colab-badge.svg\" alt=\"Open In Colab\"/></a>"
      ]
    },
    {
      "cell_type": "markdown",
      "metadata": {
        "id": "1D13gi1PBCF-"
      },
      "source": [
        "# [Biodegradable Seed Spreading Robot](https://arnoldjames98.github.io/)\n",
        "# Design and Manufacturing Workflow"
      ]
    },
    {
      "cell_type": "markdown",
      "metadata": {
        "id": "nz0M8WarWkka"
      },
      "source": [
        "Imports from https://egr557.github.io/modules/manufacturing/generated/full-workflow/full-workflow.html"
      ]
    },
    {
      "cell_type": "code",
      "metadata": {
        "colab": {
          "base_uri": "https://localhost:8080/"
        },
        "id": "tniZucO0XuLz",
        "outputId": "e34ce189-3020-47d4-ce17-b1db07aa62ec"
      },
      "source": [
        "!pip install foldable_robotics\n",
        "!pip install idealab_tools\n",
        "!pip install PyQt5\n",
        "!pip install pyqtgraph\n",
        "!pip install -U PyYAML"
      ],
      "execution_count": null,
      "outputs": [
        {
          "output_type": "stream",
          "text": [
            "Collecting foldable_robotics\n",
            "  Downloading https://files.pythonhosted.org/packages/5d/af/a1cef62e833cca7060da3f1f25dd2f7b6afc7a9a3735862dcc12ff73b644/foldable_robotics-0.0.29-py2.py3-none-any.whl\n",
            "Requirement already satisfied: numpy in /usr/local/lib/python3.7/dist-packages (from foldable_robotics) (1.19.5)\n",
            "Requirement already satisfied: shapely in /usr/local/lib/python3.7/dist-packages (from foldable_robotics) (1.7.1)\n",
            "Collecting pypoly2tri\n",
            "  Downloading https://files.pythonhosted.org/packages/11/33/079f13c72507fb2015e990f463f1766a756be1563a7e370e948dd2cbaafb/pypoly2tri-0.0.3-py2.py3-none-any.whl\n",
            "Requirement already satisfied: pyyaml in /usr/local/lib/python3.7/dist-packages (from foldable_robotics) (3.13)\n",
            "Collecting idealab-tools\n",
            "  Downloading https://files.pythonhosted.org/packages/c7/00/d34a536ff276a23e347e903ad52d14625d87411dff587d87fbeff33fbef2/idealab_tools-0.0.22-py2.py3-none-any.whl\n",
            "Requirement already satisfied: matplotlib in /usr/local/lib/python3.7/dist-packages (from foldable_robotics) (3.2.2)\n",
            "Collecting ezdxf\n",
            "\u001b[?25l  Downloading https://files.pythonhosted.org/packages/6e/49/d3e70c3c6274b59bc9e548edb257e65b832e4f7983dff9a911c20dc22c32/ezdxf-0.16-cp37-cp37m-manylinux2010_x86_64.whl (2.1MB)\n",
            "\u001b[K     |████████████████████████████████| 2.2MB 14.2MB/s \n",
            "\u001b[?25hRequirement already satisfied: imageio in /usr/local/lib/python3.7/dist-packages (from idealab-tools->foldable_robotics) (2.4.1)\n",
            "Requirement already satisfied: python-dateutil>=2.1 in /usr/local/lib/python3.7/dist-packages (from matplotlib->foldable_robotics) (2.8.1)\n",
            "Requirement already satisfied: pyparsing!=2.0.4,!=2.1.2,!=2.1.6,>=2.0.1 in /usr/local/lib/python3.7/dist-packages (from matplotlib->foldable_robotics) (2.4.7)\n",
            "Requirement already satisfied: cycler>=0.10 in /usr/local/lib/python3.7/dist-packages (from matplotlib->foldable_robotics) (0.10.0)\n",
            "Requirement already satisfied: kiwisolver>=1.0.1 in /usr/local/lib/python3.7/dist-packages (from matplotlib->foldable_robotics) (1.3.1)\n",
            "Requirement already satisfied: pillow in /usr/local/lib/python3.7/dist-packages (from imageio->idealab-tools->foldable_robotics) (7.1.2)\n",
            "Requirement already satisfied: six>=1.5 in /usr/local/lib/python3.7/dist-packages (from python-dateutil>=2.1->matplotlib->foldable_robotics) (1.15.0)\n",
            "Installing collected packages: pypoly2tri, idealab-tools, ezdxf, foldable-robotics\n",
            "Successfully installed ezdxf-0.16 foldable-robotics-0.0.29 idealab-tools-0.0.22 pypoly2tri-0.0.3\n",
            "Requirement already satisfied: idealab_tools in /usr/local/lib/python3.7/dist-packages (0.0.22)\n",
            "Requirement already satisfied: imageio in /usr/local/lib/python3.7/dist-packages (from idealab_tools) (2.4.1)\n",
            "Requirement already satisfied: pillow in /usr/local/lib/python3.7/dist-packages (from imageio->idealab_tools) (7.1.2)\n",
            "Requirement already satisfied: numpy in /usr/local/lib/python3.7/dist-packages (from imageio->idealab_tools) (1.19.5)\n",
            "Collecting PyQt5\n",
            "\u001b[?25l  Downloading https://files.pythonhosted.org/packages/ed/62/cd9f10702c75b242f82da858668fba0cda04cda92133244d3d1555e530b4/PyQt5-5.15.4-cp36.cp37.cp38.cp39-abi3-manylinux2014_x86_64.whl (8.3MB)\n",
            "\u001b[K     |████████████████████████████████| 8.3MB 7.3MB/s \n",
            "\u001b[?25hCollecting PyQt5-Qt5>=5.15\n",
            "\u001b[?25l  Downloading https://files.pythonhosted.org/packages/83/d4/241a6a518d0bcf0a9fcdcbad5edfed18d43e884317eab8d5230a2b27e206/PyQt5_Qt5-5.15.2-py3-none-manylinux2014_x86_64.whl (59.9MB)\n",
            "\u001b[K     |████████████████████████████████| 59.9MB 113kB/s \n",
            "\u001b[?25hCollecting PyQt5-sip<13,>=12.8\n",
            "\u001b[?25l  Downloading https://files.pythonhosted.org/packages/31/24/f887203677955ba4d5d4efe9176ac7ed2bf84efce8c243ab91e63183ad9e/PyQt5_sip-12.8.1-cp37-cp37m-manylinux1_x86_64.whl (283kB)\n",
            "\u001b[K     |████████████████████████████████| 286kB 25.0MB/s \n",
            "\u001b[?25hInstalling collected packages: PyQt5-Qt5, PyQt5-sip, PyQt5\n",
            "Successfully installed PyQt5-5.15.4 PyQt5-Qt5-5.15.2 PyQt5-sip-12.8.1\n",
            "Collecting pyqtgraph\n",
            "\u001b[?25l  Downloading https://files.pythonhosted.org/packages/f5/2f/60e8749bf264ecc5cdedec7b9230c165c54fb42601bbd9eca955127d1d12/pyqtgraph-0.12.0-py3-none-any.whl (829kB)\n",
            "\u001b[K     |████████████████████████████████| 829kB 9.1MB/s \n",
            "\u001b[?25hRequirement already satisfied: numpy>=1.17.0 in /usr/local/lib/python3.7/dist-packages (from pyqtgraph) (1.19.5)\n",
            "Installing collected packages: pyqtgraph\n",
            "Successfully installed pyqtgraph-0.12.0\n",
            "Collecting PyYAML\n",
            "\u001b[?25l  Downloading https://files.pythonhosted.org/packages/7a/a5/393c087efdc78091afa2af9f1378762f9821c9c1d7a22c5753fb5ac5f97a/PyYAML-5.4.1-cp37-cp37m-manylinux1_x86_64.whl (636kB)\n",
            "\u001b[K     |████████████████████████████████| 645kB 8.8MB/s \n",
            "\u001b[?25hInstalling collected packages: PyYAML\n",
            "  Found existing installation: PyYAML 3.13\n",
            "    Uninstalling PyYAML-3.13:\n",
            "      Successfully uninstalled PyYAML-3.13\n",
            "Successfully installed PyYAML-5.4.1\n"
          ],
          "name": "stdout"
        }
      ]
    },
    {
      "cell_type": "code",
      "metadata": {
        "id": "OpVG28MQVPGA"
      },
      "source": [
        "%matplotlib inline\n",
        "import foldable_robotics\n",
        "import foldable_robotics.dxf \n",
        "import numpy\n",
        "import shapely.geometry as sg\n",
        "from foldable_robotics.layer import Layer\n",
        "from foldable_robotics.laminate import Laminate\n",
        "import foldable_robotics.manufacturing\n",
        "import foldable_robotics.parts.castellated_hinge1\n",
        "import idealab_tools.plot_tris\n",
        "from math import pi, sin,cos,tan\n",
        "import idealab_tools.text_to_polygons\n",
        "foldable_robotics.display_height=200\n",
        "foldable_robotics.line_width=.5\n",
        "\n",
        "from foldable_robotics.layer import Layer\n",
        "from foldable_robotics.laminate import Laminate\n",
        "import foldable_robotics\n",
        "import foldable_robotics.dxf \n",
        "import foldable_robotics.manufacturing\n",
        "import foldable_robotics.parts.castellated_hinge1\n",
        "foldable_robotics.display_height=200\n",
        "foldable_robotics.line_width=.5\n",
        "#import workflow_support as ws\n",
        "\n",
        "import os\n",
        "import foldable_robotics.solidworks_support"
      ],
      "execution_count": null,
      "outputs": []
    },
    {
      "cell_type": "markdown",
      "metadata": {
        "id": "rnLvTpb1WfWn"
      },
      "source": [
        "Functions from https://egr557.github.io/modules/manufacturing/generated/full-workflow/full-workflow.html"
      ]
    },
    {
      "cell_type": "code",
      "metadata": {
        "id": "4N4Re8mRWUms"
      },
      "source": [
        "def get_bodies(filename, layername, num_layers):\n",
        "    body = foldable_robotics.dxf.read_lwpolylines(filename,layer=layername, arc_approx = 10)\n",
        "\n",
        "    bodies = [Layer(sg.Polygon(item)) for item in body]\n",
        "    body = bodies.pop(0)\n",
        "    for item in bodies:\n",
        "        body ^= item\n",
        "    body = body.to_laminate(num_layers)\n",
        "    return body\n",
        "def get_hinge_lines(filename,layername):\n",
        "    hinge_lines1 = foldable_robotics.dxf.read_lines(filename,layer=layername)\n",
        "    hinge_lines2 = foldable_robotics.dxf.read_lwpolylines(filename,layer=layername)\n",
        "    hinge_lines3 = []\n",
        "    for points in hinge_lines2:\n",
        "        hinge_lines3.append(points[:2])\n",
        "    hinge_lines = hinge_lines1 +hinge_lines3\n",
        "    return hinge_lines\n",
        "def hinge_lines_to_hinges(hinge_lines,hinge):\n",
        "    lam = Layer().to_laminate(len(hinge))\n",
        "    all_hinges = []    \n",
        "    for p3,p4 in hinge_lines:\n",
        "        all_hinges.append(hinge.map_line_stretch((0,0),(1,0),p3,p4))\n",
        "    all_hinges = lam.unary_union(*all_hinges)\n",
        "    return all_hinges\n",
        "        \n",
        "def get_cuts(filename,layername,thickness,num_layers):\n",
        "    cut_lines = foldable_robotics.dxf.read_lines(filename,layer=layername)\n",
        "    cut_lines += foldable_robotics.dxf.read_lwpolylines(filename,layer=layername, arc_approx = 10)\n",
        "    \n",
        "    cuts = []\n",
        "    for item in cut_lines:\n",
        "        cuts.append(Layer(sg.LineString(item)))\n",
        "    cuts = Layer().unary_union(*cuts)\n",
        "    cuts<<=thickness/2\n",
        "    cuts = cuts.to_laminate(num_layers)\n",
        "    return cuts    \n",
        "def get_holes(filename, layername,num_layers):\n",
        "    holes = foldable_robotics.dxf.read_circles(filename,layer='holes')\n",
        "    \n",
        "    holes2 = []\n",
        "    for center, radius in holes:\n",
        "        holes2.append(sg.Point(*center).buffer(radius))\n",
        "    holes_layer = Layer(*holes2)\n",
        "    holes_lam = holes_layer.to_laminate(num_layers)  \n",
        "    return holes_lam\n",
        "def hinge_width_calculator(desired_degrees,thickness):\n",
        "    theta = (180-desired_degrees)*pi/180\n",
        "    w=thickness/tan(theta)\n",
        "    return w\n",
        "def polys_to_layer(l1):\n",
        "    l1 = [sg.Polygon(item) for item in l1]\n",
        "    l11 = Layer(l1.pop(0))\n",
        "    for item in l1:\n",
        "        l11 ^= Layer(item)\n",
        "    return l11\n",
        "    \n",
        "def output_pdf(filename,design2,x,y,layers_separate = True):\n",
        "    design2 = design2.translate(x,y)\n",
        "    design2=design2.scale(1/25.4,1/25.4)\n",
        "    design2=design2.scale(foldable_robotics.pdf.ppi,foldable_robotics.pdf.ppi)\n",
        "    if isinstance(design2,Laminate):\n",
        "        if not layers_separate:\n",
        "            p=foldable_robotics.pdf.Page(filename+'.pdf')\n",
        "            for d in design2:\n",
        "    #        d = design2[0]\n",
        "                for item in d.exteriors()+d.interiors():\n",
        "                    p.draw_poly(item)\n",
        "            p.close()\n",
        "        else:\n",
        "            for ii,d in enumerate(design2):\n",
        "                p=foldable_robotics.pdf.Page(filename+'{0:03f}.pdf'.format(ii))\n",
        "                for item in d.exteriors()+d.interiors():\n",
        "                    p.draw_poly(item)\n",
        "                p.close()\n",
        "\n",
        "    elif isinstance(design2,Layer):\n",
        "        p=foldable_robotics.pdf.Page(filename+'.pdf')\n",
        "        for item in design2.exteriors()+design2.interiors():\n",
        "            p.draw_poly(item)\n",
        "        p.close()\n",
        "        \n",
        "def build_layer_numbers(num_layers, text_size = None, prop=None):\n",
        "    text_size = text_size or 1\n",
        "    prop = prop or {'family':'Arial','size':text_size}\n",
        "    layer_ids = []\n",
        "    for ii in range(num_layers): \n",
        "    \n",
        "        l = idealab_tools.text_to_polygons.text_to_polygons('Layer '+str(ii),prop=prop)\n",
        "        layer_ids.append(l)\n",
        "    \n",
        "    layer_ids = [polys_to_layer(item) for item in layer_ids]\n",
        "    layer_id = Laminate(*layer_ids)\n",
        "    return layer_id\n",
        "def build_web(design2,keepout,support_width,jig_diameter,jig_hole_spacing,is_adhesive):\n",
        "    num_layers = len(design2)\n",
        "\n",
        "    layer_id = build_layer_numbers(num_layers,text_size=jig_diameter)\n",
        "\n",
        "    design_outer = foldable_robotics.manufacturing.unary_union(design2)\n",
        "    bb1= (design_outer<<jig_hole_spacing/2).bounding_box()\n",
        "    (x1,y1),p2 = bb1.bounding_box_coords()\n",
        "    w,h = bb1.get_dimensions()\n",
        "    w2 = round(w/jig_hole_spacing)*jig_hole_spacing\n",
        "    h2 = round(h/jig_hole_spacing)*jig_hole_spacing\n",
        "    \n",
        "    points = []\n",
        "    points.append(sg.Point(x1,y1))\n",
        "    points.append(sg.Point(x1+w2,y1))\n",
        "    points.append(sg.Point(x1,y1+h2))\n",
        "    points.append(sg.Point(x1+w2,y1+h2))\n",
        "    \n",
        "    layer_id = layer_id.translate(x1+jig_diameter,y1-jig_diameter/2)\n",
        "    placement_holes2 = Layer(*points)\n",
        "    placement_holes2<<=(jig_diameter/2)\n",
        "    sheet = (placement_holes2<<10).bounding_box()\n",
        "    placement_holes2=placement_holes2.to_laminate(num_layers)\n",
        "    sheet=sheet.to_laminate(num_layers)\n",
        "    \n",
        "    removable_scrap = calculate_removable_scrap(design2,sheet,support_width,is_adhesive)\n",
        "    \n",
        "    web = (removable_scrap-placement_holes2)-layer_id\n",
        "    return web,sheet\n",
        "    \n",
        "def calculate_removable_scrap(design,sheet,width,is_adhesive):\n",
        "    '''this computes all removable scrap given a sheet, a design, and a clearance width'''\n",
        "    all_scrap = sheet-design\n",
        "\n",
        "    ru = foldable_robotics.manufacturing.not_removable_up(design,is_adhesive)\n",
        "    rd = foldable_robotics.manufacturing.not_removable_down(design,is_adhesive)\n",
        "    \n",
        "    removable_scrap_up = all_scrap-(ru<<width)\n",
        "    removable_scrap_down = all_scrap-(rd<<width)\n",
        "\n",
        "    removable_scrap = removable_scrap_up|removable_scrap_down\n",
        "    return removable_scrap"
      ],
      "execution_count": null,
      "outputs": []
    },
    {
      "cell_type": "markdown",
      "metadata": {
        "id": "AWazBt8wW6Ps"
      },
      "source": [
        "Import the .yaml file"
      ]
    },
    {
      "cell_type": "code",
      "metadata": {
        "id": "m-nRd0FCW8VA"
      },
      "source": [
        "#user_path = os.path.abspath(os.path.expanduser(‘~’)) user_path\n",
        "\n",
        "#folder = '../../../_cad/spherical_example/'\n",
        "input_filename = '/content/singleLegDrawing - Sheet1_Drawing View1.yml'\n",
        "output_file_name = 'design.dxf'"
      ],
      "execution_count": null,
      "outputs": []
    },
    {
      "cell_type": "code",
      "metadata": {
        "colab": {
          "base_uri": "https://localhost:8080/"
        },
        "id": "qkONzLH6YoMf",
        "outputId": "e46f1657-5e98-4866-bff5-77edeeb420dc"
      },
      "source": [
        "round_digits = 3\n",
        "prescale=1000\n",
        "jig_diameter = 5\n",
        "support_width = 1\n",
        "kerf = .05\n",
        "jig_hole_spacing=20\n",
        "is_adhesive = [False,True,False,True,False]\n",
        "arc_approx = 10\n",
        "foldable_robotics.solidworks_support.process(input_filename,output_file_name,prescale,round_digits)"
      ],
      "execution_count": null,
      "outputs": [
        {
          "output_type": "execute_result",
          "data": {
            "text/plain": [
              "(<foldable_robotics.layer.Layer at 0x7f3d45481a10>,\n",
              " <foldable_robotics.layer.Layer at 0x7f3d46408150>,\n",
              " [<foldable_robotics.solidworks_support.Component at 0x7f3d44fd5650>,\n",
              "  <foldable_robotics.solidworks_support.Component at 0x7f3d44fd5590>,\n",
              "  <foldable_robotics.solidworks_support.Component at 0x7f3d44fd5290>,\n",
              "  <foldable_robotics.solidworks_support.Component at 0x7f3d44fd5810>,\n",
              "  <foldable_robotics.solidworks_support.Component at 0x7f3d44fd5450>,\n",
              "  <foldable_robotics.solidworks_support.Component at 0x7f3d44fd5150>,\n",
              "  <foldable_robotics.solidworks_support.Component at 0x7f3d44fd5c90>,\n",
              "  <foldable_robotics.solidworks_support.Component at 0x7f3d44fd5b10>,\n",
              "  <foldable_robotics.solidworks_support.Component at 0x7f3d44fd5d10>,\n",
              "  <foldable_robotics.solidworks_support.Component at 0x7f3d44fd5690>,\n",
              "  <foldable_robotics.solidworks_support.Component at 0x7f3d44fd5bd0>])"
            ]
          },
          "metadata": {
            "tags": []
          },
          "execution_count": 95
        }
      ]
    },
    {
      "cell_type": "code",
      "metadata": {
        "colab": {
          "base_uri": "https://localhost:8080/",
          "height": 265
        },
        "id": "g5bQtqR7aqhL",
        "outputId": "a50c44f4-e852-4c8e-9add-501614fe52dd"
      },
      "source": [
        "hinge = foldable_robotics.parts.castellated_hinge1.generate()\n",
        "w=hinge_width_calculator(150,1.1)\n",
        "hinge = hinge.scale(1,w)\n",
        "hinge.plot()"
      ],
      "execution_count": null,
      "outputs": [
        {
          "output_type": "display_data",
          "data": {
            "image/png": "[encoded data removed]",
            "text/plain": [
              "<Figure size 432x288 with 1 Axes>"
            ]
          },
          "metadata": {
            "tags": [],
            "needs_background": "light"
          }
        }
      ]
    },
    {
      "cell_type": "code",
      "metadata": {
        "id": "M0rouHQNeeWc",
        "colab": {
          "base_uri": "https://localhost:8080/",
          "height": 35
        },
        "outputId": "e259b9a7-f18f-43c2-a681-50a4b20a527e"
      },
      "source": [
        "output_file_name"
      ],
      "execution_count": null,
      "outputs": [
        {
          "output_type": "execute_result",
          "data": {
            "application/vnd.google.colaboratory.intrinsic+json": {
              "type": "string"
            },
            "text/plain": [
              "'design.dxf'"
            ]
          },
          "metadata": {
            "tags": []
          },
          "execution_count": 97
        }
      ]
    },
    {
      "cell_type": "code",
      "metadata": {
        "colab": {
          "base_uri": "https://localhost:8080/",
          "height": 265
        },
        "id": "2m523Y1_awks",
        "outputId": "357f8201-23f3-4eda-8715-e646a0d81d39"
      },
      "source": [
        "NUMLAYERS = len(hinge)\n",
        "body = get_bodies(output_file_name,'body',NUMLAYERS)\n",
        "body = foldable_robotics.manufacturing.cleanup(body,.01)\n",
        "body.plot()"
      ],
      "execution_count": null,
      "outputs": [
        {
          "output_type": "display_data",
          "data": {
            "image/png": "[encoded data removed]",
            "text/plain": [
              "<Figure size 432x288 with 1 Axes>"
            ]
          },
          "metadata": {
            "tags": [],
            "needs_background": "light"
          }
        }
      ]
    },
    {
      "cell_type": "code",
      "metadata": {
        "colab": {
          "base_uri": "https://localhost:8080/",
          "height": 265
        },
        "id": "WTI3jBPca1Jd",
        "outputId": "30ee4182-12a5-4489-c517-6f2bf9f111aa"
      },
      "source": [
        "joint_lines= get_hinge_lines(output_file_name,'joints')\n",
        "joints = hinge_lines_to_hinges(joint_lines,hinge)\n",
        "joints = foldable_robotics.manufacturing.cleanup(joints,.02)\n",
        "joints.plot()"
      ],
      "execution_count": null,
      "outputs": [
        {
          "output_type": "display_data",
          "data": {
            "image/png": "[encoded data removed]",
            "text/plain": [
              "<Figure size 432x288 with 1 Axes>"
            ]
          },
          "metadata": {
            "tags": [],
            "needs_background": "light"
          }
        }
      ]
    },
    {
      "cell_type": "code",
      "metadata": {
        "colab": {
          "base_uri": "https://localhost:8080/",
          "height": 51
        },
        "id": "x06WA336a6TA",
        "outputId": "bae2ee38-e5fd-45cf-ae6f-81d4f18c1ced"
      },
      "source": [
        "cuts = get_cuts(output_file_name,'cuts',.02,NUMLAYERS)\n",
        "#cuts.plot()\n",
        "holes = get_holes(output_file_name,'holes',NUMLAYERS)\n",
        "#holes.plot()\n",
        "hole,dummy = foldable_robotics.manufacturing.calc_hole(joint_lines,w)\n",
        "hole = hole.to_laminate(NUMLAYERS)\n",
        "hole<<=.2\n",
        "hole.plot()"
      ],
      "execution_count": null,
      "outputs": [
        {
          "output_type": "stream",
          "text": [
            "('zero-size array to reduction operation minimum which has no identity',)\n"
          ],
          "name": "stdout"
        },
        {
          "output_type": "display_data",
          "data": {
            "text/plain": [
              "<Figure size 432x288 with 0 Axes>"
            ]
          },
          "metadata": {
            "tags": []
          }
        }
      ]
    },
    {
      "cell_type": "code",
      "metadata": {
        "colab": {
          "base_uri": "https://localhost:8080/",
          "height": 265
        },
        "id": "kqaAB3ZGbBhJ",
        "outputId": "1997e6fd-ec58-4eec-a42c-9df4882f8e77"
      },
      "source": [
        "design2 = body- hole - joints - cuts - holes\n",
        "design2.plot()"
      ],
      "execution_count": null,
      "outputs": [
        {
          "output_type": "display_data",
          "data": {
            "image/png": "[encoded data removed]",
            "text/plain": [
              "<Figure size 432x288 with 1 Axes>"
            ]
          },
          "metadata": {
            "tags": [],
            "needs_background": "light"
          }
        }
      ]
    },
    {
      "cell_type": "code",
      "metadata": {
        "colab": {
          "base_uri": "https://localhost:8080/",
          "height": 265
        },
        "id": "NwMapk4rbK3U",
        "outputId": "b440cff9-e48f-474c-e5ca-1a954f7dce2f"
      },
      "source": [
        "keepout =  foldable_robotics.manufacturing.keepout_laser(design2)\n",
        "keepout.plot()"
      ],
      "execution_count": null,
      "outputs": [
        {
          "output_type": "display_data",
          "data": {
            "image/png": "[encoded data removed]",
            "text/plain": [
              "<Figure size 432x288 with 1 Axes>"
            ]
          },
          "metadata": {
            "tags": [],
            "needs_background": "light"
          }
        }
      ]
    },
    {
      "cell_type": "code",
      "metadata": {
        "colab": {
          "base_uri": "https://localhost:8080/",
          "height": 341
        },
        "id": "goxgtrSRbNGZ",
        "outputId": "4de57321-eee6-439c-b93b-0d5d5effa51d"
      },
      "source": [
        "web,sheet=build_web(design2,keepout,support_width,jig_diameter,jig_hole_spacing,is_adhesive)\n",
        "web.plot()"
      ],
      "execution_count": null,
      "outputs": [
        {
          "output_type": "stream",
          "text": [
            "findfont: Font family ['Arial'] not found. Falling back to DejaVu Sans.\n"
          ],
          "name": "stderr"
        },
        {
          "output_type": "error",
          "ename": "KeyboardInterrupt",
          "evalue": "ignored",
          "traceback": [
            "\u001b[0;31m---------------------------------------------------------------------------\u001b[0m",
            "\u001b[0;31mKeyboardInterrupt\u001b[0m                         Traceback (most recent call last)",
            "\u001b[0;32m<ipython-input-56-de39590ec6d9>\u001b[0m in \u001b[0;36m<module>\u001b[0;34m()\u001b[0m\n\u001b[0;32m----> 1\u001b[0;31m \u001b[0mweb\u001b[0m\u001b[0;34m,\u001b[0m\u001b[0msheet\u001b[0m\u001b[0;34m=\u001b[0m\u001b[0mbuild_web\u001b[0m\u001b[0;34m(\u001b[0m\u001b[0mdesign2\u001b[0m\u001b[0;34m,\u001b[0m\u001b[0mkeepout\u001b[0m\u001b[0;34m,\u001b[0m\u001b[0msupport_width\u001b[0m\u001b[0;34m,\u001b[0m\u001b[0mjig_diameter\u001b[0m\u001b[0;34m,\u001b[0m\u001b[0mjig_hole_spacing\u001b[0m\u001b[0;34m,\u001b[0m\u001b[0mis_adhesive\u001b[0m\u001b[0;34m)\u001b[0m\u001b[0;34m\u001b[0m\u001b[0;34m\u001b[0m\u001b[0m\n\u001b[0m\u001b[1;32m      2\u001b[0m \u001b[0mweb\u001b[0m\u001b[0;34m.\u001b[0m\u001b[0mplot\u001b[0m\u001b[0;34m(\u001b[0m\u001b[0;34m)\u001b[0m\u001b[0;34m\u001b[0m\u001b[0;34m\u001b[0m\u001b[0m\n",
            "\u001b[0;32m<ipython-input-3-80b03a63baa2>\u001b[0m in \u001b[0;36mbuild_web\u001b[0;34m(design2, keepout, support_width, jig_diameter, jig_hole_spacing, is_adhesive)\u001b[0m\n\u001b[1;32m    117\u001b[0m     \u001b[0msheet\u001b[0m\u001b[0;34m=\u001b[0m\u001b[0msheet\u001b[0m\u001b[0;34m.\u001b[0m\u001b[0mto_laminate\u001b[0m\u001b[0;34m(\u001b[0m\u001b[0mnum_layers\u001b[0m\u001b[0;34m)\u001b[0m\u001b[0;34m\u001b[0m\u001b[0;34m\u001b[0m\u001b[0m\n\u001b[1;32m    118\u001b[0m \u001b[0;34m\u001b[0m\u001b[0m\n\u001b[0;32m--> 119\u001b[0;31m     \u001b[0mremovable_scrap\u001b[0m \u001b[0;34m=\u001b[0m \u001b[0mcalculate_removable_scrap\u001b[0m\u001b[0;34m(\u001b[0m\u001b[0mdesign2\u001b[0m\u001b[0;34m,\u001b[0m\u001b[0msheet\u001b[0m\u001b[0;34m,\u001b[0m\u001b[0msupport_width\u001b[0m\u001b[0;34m,\u001b[0m\u001b[0mis_adhesive\u001b[0m\u001b[0;34m)\u001b[0m\u001b[0;34m\u001b[0m\u001b[0;34m\u001b[0m\u001b[0m\n\u001b[0m\u001b[1;32m    120\u001b[0m \u001b[0;34m\u001b[0m\u001b[0m\n\u001b[1;32m    121\u001b[0m     \u001b[0mweb\u001b[0m \u001b[0;34m=\u001b[0m \u001b[0;34m(\u001b[0m\u001b[0mremovable_scrap\u001b[0m\u001b[0;34m-\u001b[0m\u001b[0mplacement_holes2\u001b[0m\u001b[0;34m)\u001b[0m\u001b[0;34m-\u001b[0m\u001b[0mlayer_id\u001b[0m\u001b[0;34m\u001b[0m\u001b[0;34m\u001b[0m\u001b[0m\n",
            "\u001b[0;32m<ipython-input-3-80b03a63baa2>\u001b[0m in \u001b[0;36mcalculate_removable_scrap\u001b[0;34m(design, sheet, width, is_adhesive)\u001b[0m\n\u001b[1;32m    130\u001b[0m \u001b[0;34m\u001b[0m\u001b[0m\n\u001b[1;32m    131\u001b[0m     \u001b[0mremovable_scrap_up\u001b[0m \u001b[0;34m=\u001b[0m \u001b[0mall_scrap\u001b[0m\u001b[0;34m-\u001b[0m\u001b[0;34m(\u001b[0m\u001b[0mru\u001b[0m\u001b[0;34m<<\u001b[0m\u001b[0mwidth\u001b[0m\u001b[0;34m)\u001b[0m\u001b[0;34m\u001b[0m\u001b[0;34m\u001b[0m\u001b[0m\n\u001b[0;32m--> 132\u001b[0;31m     \u001b[0mremovable_scrap_down\u001b[0m \u001b[0;34m=\u001b[0m \u001b[0mall_scrap\u001b[0m\u001b[0;34m-\u001b[0m\u001b[0;34m(\u001b[0m\u001b[0mrd\u001b[0m\u001b[0;34m<<\u001b[0m\u001b[0mwidth\u001b[0m\u001b[0;34m)\u001b[0m\u001b[0;34m\u001b[0m\u001b[0;34m\u001b[0m\u001b[0m\n\u001b[0m\u001b[1;32m    133\u001b[0m \u001b[0;34m\u001b[0m\u001b[0m\n\u001b[1;32m    134\u001b[0m     \u001b[0mremovable_scrap\u001b[0m \u001b[0;34m=\u001b[0m \u001b[0mremovable_scrap_up\u001b[0m\u001b[0;34m|\u001b[0m\u001b[0mremovable_scrap_down\u001b[0m\u001b[0;34m\u001b[0m\u001b[0;34m\u001b[0m\u001b[0m\n",
            "\u001b[0;32m/usr/local/lib/python3.7/dist-packages/foldable_robotics/class_algebra.py\u001b[0m in \u001b[0;36m__sub__\u001b[0;34m(self, other)\u001b[0m\n\u001b[1;32m     15\u001b[0m     \u001b[0;32mdef\u001b[0m \u001b[0m__sub__\u001b[0m\u001b[0;34m(\u001b[0m\u001b[0mself\u001b[0m\u001b[0;34m,\u001b[0m\u001b[0mother\u001b[0m\u001b[0;34m)\u001b[0m\u001b[0;34m:\u001b[0m\u001b[0;34m\u001b[0m\u001b[0;34m\u001b[0m\u001b[0m\n\u001b[1;32m     16\u001b[0m         \u001b[0;34m'''Subtract one object from another'''\u001b[0m\u001b[0;34m\u001b[0m\u001b[0;34m\u001b[0m\u001b[0m\n\u001b[0;32m---> 17\u001b[0;31m         \u001b[0;32mreturn\u001b[0m \u001b[0mself\u001b[0m\u001b[0;34m.\u001b[0m\u001b[0mdifference\u001b[0m\u001b[0;34m(\u001b[0m\u001b[0mother\u001b[0m\u001b[0;34m)\u001b[0m\u001b[0;34m\u001b[0m\u001b[0;34m\u001b[0m\u001b[0m\n\u001b[0m\u001b[1;32m     18\u001b[0m \u001b[0;34m\u001b[0m\u001b[0m\n\u001b[1;32m     19\u001b[0m     \u001b[0;32mdef\u001b[0m \u001b[0m__and__\u001b[0m\u001b[0;34m(\u001b[0m\u001b[0mself\u001b[0m\u001b[0;34m,\u001b[0m\u001b[0mother\u001b[0m\u001b[0;34m)\u001b[0m\u001b[0;34m:\u001b[0m\u001b[0;34m\u001b[0m\u001b[0;34m\u001b[0m\u001b[0m\n",
            "\u001b[0;32m/usr/local/lib/python3.7/dist-packages/foldable_robotics/laminate.py\u001b[0m in \u001b[0;36mdifference\u001b[0;34m(self, other)\u001b[0m\n\u001b[1;32m    240\u001b[0m         \u001b[0;34m:\u001b[0m\u001b[0mrtype\u001b[0m\u001b[0;34m:\u001b[0m \u001b[0mLaminate\u001b[0m\u001b[0;34m\u001b[0m\u001b[0;34m\u001b[0m\u001b[0m\n\u001b[1;32m    241\u001b[0m         '''\n\u001b[0;32m--> 242\u001b[0;31m         \u001b[0;32mreturn\u001b[0m \u001b[0mself\u001b[0m\u001b[0;34m.\u001b[0m\u001b[0mbinary_operation\u001b[0m\u001b[0;34m(\u001b[0m\u001b[0;34m'difference'\u001b[0m\u001b[0;34m,\u001b[0m\u001b[0mother\u001b[0m\u001b[0;34m)\u001b[0m\u001b[0;34m\u001b[0m\u001b[0;34m\u001b[0m\u001b[0m\n\u001b[0m\u001b[1;32m    243\u001b[0m \u001b[0;34m\u001b[0m\u001b[0m\n\u001b[1;32m    244\u001b[0m     \u001b[0;32mdef\u001b[0m \u001b[0msymmetric_difference\u001b[0m\u001b[0;34m(\u001b[0m\u001b[0mself\u001b[0m\u001b[0;34m,\u001b[0m\u001b[0mother\u001b[0m\u001b[0;34m)\u001b[0m\u001b[0;34m:\u001b[0m\u001b[0;34m\u001b[0m\u001b[0;34m\u001b[0m\u001b[0m\n",
            "\u001b[0;32m/usr/local/lib/python3.7/dist-packages/foldable_robotics/laminate.py\u001b[0m in \u001b[0;36mbinary_operation\u001b[0;34m(self, function_name, other, *args, **kwargs)\u001b[0m\n\u001b[1;32m    201\u001b[0m             \u001b[0;32mfor\u001b[0m \u001b[0mlayer1\u001b[0m\u001b[0;34m,\u001b[0m\u001b[0mlayer2\u001b[0m \u001b[0;32min\u001b[0m \u001b[0mzip\u001b[0m\u001b[0;34m(\u001b[0m\u001b[0mself\u001b[0m\u001b[0;34m.\u001b[0m\u001b[0mlayers\u001b[0m\u001b[0;34m,\u001b[0m\u001b[0mother\u001b[0m\u001b[0;34m.\u001b[0m\u001b[0mlayers\u001b[0m\u001b[0;34m)\u001b[0m\u001b[0;34m:\u001b[0m\u001b[0;34m\u001b[0m\u001b[0;34m\u001b[0m\u001b[0m\n\u001b[1;32m    202\u001b[0m                 \u001b[0mfunction\u001b[0m \u001b[0;34m=\u001b[0m \u001b[0mgetattr\u001b[0m\u001b[0;34m(\u001b[0m\u001b[0mlayer1\u001b[0m\u001b[0;34m,\u001b[0m\u001b[0mfunction_name\u001b[0m\u001b[0;34m)\u001b[0m\u001b[0;34m\u001b[0m\u001b[0;34m\u001b[0m\u001b[0m\n\u001b[0;32m--> 203\u001b[0;31m                 \u001b[0mlayers\u001b[0m\u001b[0;34m.\u001b[0m\u001b[0mappend\u001b[0m\u001b[0;34m(\u001b[0m\u001b[0mfunction\u001b[0m\u001b[0;34m(\u001b[0m\u001b[0mlayer2\u001b[0m\u001b[0;34m,\u001b[0m\u001b[0;34m*\u001b[0m\u001b[0margs\u001b[0m\u001b[0;34m,\u001b[0m\u001b[0;34m**\u001b[0m\u001b[0mkwargs\u001b[0m\u001b[0;34m)\u001b[0m\u001b[0;34m)\u001b[0m\u001b[0;34m\u001b[0m\u001b[0;34m\u001b[0m\u001b[0m\n\u001b[0m\u001b[1;32m    204\u001b[0m             \u001b[0;32mreturn\u001b[0m \u001b[0mtype\u001b[0m\u001b[0;34m(\u001b[0m\u001b[0mself\u001b[0m\u001b[0;34m)\u001b[0m\u001b[0;34m(\u001b[0m\u001b[0;34m*\u001b[0m\u001b[0mlayers\u001b[0m\u001b[0;34m)\u001b[0m\u001b[0;34m\u001b[0m\u001b[0;34m\u001b[0m\u001b[0m\n\u001b[1;32m    205\u001b[0m \u001b[0;34m\u001b[0m\u001b[0m\n",
            "\u001b[0;32m/usr/local/lib/python3.7/dist-packages/foldable_robotics/layer.py\u001b[0m in \u001b[0;36mdifference\u001b[0;34m(self, other)\u001b[0m\n\u001b[1;32m    412\u001b[0m         \u001b[0;34m:\u001b[0m\u001b[0mrtype\u001b[0m\u001b[0;34m:\u001b[0m \u001b[0mLayer\u001b[0m\u001b[0;34m\u001b[0m\u001b[0;34m\u001b[0m\u001b[0m\n\u001b[1;32m    413\u001b[0m         '''\n\u001b[0;32m--> 414\u001b[0;31m         \u001b[0;32mreturn\u001b[0m \u001b[0mself\u001b[0m\u001b[0;34m.\u001b[0m\u001b[0mbinary_operation\u001b[0m\u001b[0;34m(\u001b[0m\u001b[0mother\u001b[0m\u001b[0;34m,\u001b[0m\u001b[0;34m'difference'\u001b[0m\u001b[0;34m)\u001b[0m\u001b[0;34m\u001b[0m\u001b[0;34m\u001b[0m\u001b[0m\n\u001b[0m\u001b[1;32m    415\u001b[0m \u001b[0;34m\u001b[0m\u001b[0m\n\u001b[1;32m    416\u001b[0m     \u001b[0;32mdef\u001b[0m \u001b[0msymmetric_difference\u001b[0m\u001b[0;34m(\u001b[0m\u001b[0mself\u001b[0m\u001b[0;34m,\u001b[0m\u001b[0mother\u001b[0m\u001b[0;34m)\u001b[0m\u001b[0;34m:\u001b[0m\u001b[0;34m\u001b[0m\u001b[0;34m\u001b[0m\u001b[0m\n",
            "\u001b[0;32m/usr/local/lib/python3.7/dist-packages/foldable_robotics/layer.py\u001b[0m in \u001b[0;36mbinary_operation\u001b[0;34m(self, other, function_name, *args, **kwargs)\u001b[0m\n\u001b[1;32m    391\u001b[0m         \u001b[0mb\u001b[0m \u001b[0;34m=\u001b[0m \u001b[0mfrom_layer_to_shapely\u001b[0m\u001b[0;34m(\u001b[0m\u001b[0mother\u001b[0m\u001b[0;34m)\u001b[0m\u001b[0;34m\u001b[0m\u001b[0;34m\u001b[0m\u001b[0m\n\u001b[1;32m    392\u001b[0m         \u001b[0mfunction\u001b[0m \u001b[0;34m=\u001b[0m \u001b[0mgetattr\u001b[0m\u001b[0;34m(\u001b[0m\u001b[0ma\u001b[0m\u001b[0;34m,\u001b[0m\u001b[0mfunction_name\u001b[0m\u001b[0;34m)\u001b[0m\u001b[0;34m\u001b[0m\u001b[0;34m\u001b[0m\u001b[0m\n\u001b[0;32m--> 393\u001b[0;31m         \u001b[0mc\u001b[0m \u001b[0;34m=\u001b[0m \u001b[0mfunction\u001b[0m\u001b[0;34m(\u001b[0m\u001b[0mb\u001b[0m\u001b[0;34m,\u001b[0m\u001b[0;34m*\u001b[0m\u001b[0margs\u001b[0m\u001b[0;34m,\u001b[0m\u001b[0;34m**\u001b[0m\u001b[0mkwargs\u001b[0m\u001b[0;34m)\u001b[0m\u001b[0;34m\u001b[0m\u001b[0;34m\u001b[0m\u001b[0m\n\u001b[0m\u001b[1;32m    394\u001b[0m         \u001b[0;32mreturn\u001b[0m \u001b[0mfrom_shapely_to_layer\u001b[0m\u001b[0;34m(\u001b[0m\u001b[0mc\u001b[0m\u001b[0;34m)\u001b[0m\u001b[0;34m\u001b[0m\u001b[0;34m\u001b[0m\u001b[0m\n\u001b[1;32m    395\u001b[0m \u001b[0;34m\u001b[0m\u001b[0m\n",
            "\u001b[0;32m/usr/local/lib/python3.7/dist-packages/shapely/geometry/base.py\u001b[0m in \u001b[0;36mdifference\u001b[0;34m(self, other)\u001b[0m\n\u001b[1;32m    670\u001b[0m     \u001b[0;32mdef\u001b[0m \u001b[0mdifference\u001b[0m\u001b[0;34m(\u001b[0m\u001b[0mself\u001b[0m\u001b[0;34m,\u001b[0m \u001b[0mother\u001b[0m\u001b[0;34m)\u001b[0m\u001b[0;34m:\u001b[0m\u001b[0;34m\u001b[0m\u001b[0;34m\u001b[0m\u001b[0m\n\u001b[1;32m    671\u001b[0m         \u001b[0;34m\"\"\"Returns the difference of the geometries\"\"\"\u001b[0m\u001b[0;34m\u001b[0m\u001b[0;34m\u001b[0m\u001b[0m\n\u001b[0;32m--> 672\u001b[0;31m         \u001b[0;32mreturn\u001b[0m \u001b[0mgeom_factory\u001b[0m\u001b[0;34m(\u001b[0m\u001b[0mself\u001b[0m\u001b[0;34m.\u001b[0m\u001b[0mimpl\u001b[0m\u001b[0;34m[\u001b[0m\u001b[0;34m'difference'\u001b[0m\u001b[0;34m]\u001b[0m\u001b[0;34m(\u001b[0m\u001b[0mself\u001b[0m\u001b[0;34m,\u001b[0m \u001b[0mother\u001b[0m\u001b[0;34m)\u001b[0m\u001b[0;34m)\u001b[0m\u001b[0;34m\u001b[0m\u001b[0;34m\u001b[0m\u001b[0m\n\u001b[0m\u001b[1;32m    673\u001b[0m \u001b[0;34m\u001b[0m\u001b[0m\n\u001b[1;32m    674\u001b[0m     \u001b[0;32mdef\u001b[0m \u001b[0mintersection\u001b[0m\u001b[0;34m(\u001b[0m\u001b[0mself\u001b[0m\u001b[0;34m,\u001b[0m \u001b[0mother\u001b[0m\u001b[0;34m)\u001b[0m\u001b[0;34m:\u001b[0m\u001b[0;34m\u001b[0m\u001b[0;34m\u001b[0m\u001b[0m\n",
            "\u001b[0;32m/usr/local/lib/python3.7/dist-packages/shapely/topology.py\u001b[0m in \u001b[0;36m__call__\u001b[0;34m(self, this, other, *args)\u001b[0m\n\u001b[1;32m     64\u001b[0m         \u001b[0mself\u001b[0m\u001b[0;34m.\u001b[0m\u001b[0m_validate\u001b[0m\u001b[0;34m(\u001b[0m\u001b[0mthis\u001b[0m\u001b[0;34m)\u001b[0m\u001b[0;34m\u001b[0m\u001b[0;34m\u001b[0m\u001b[0m\n\u001b[1;32m     65\u001b[0m         \u001b[0mself\u001b[0m\u001b[0;34m.\u001b[0m\u001b[0m_validate\u001b[0m\u001b[0;34m(\u001b[0m\u001b[0mother\u001b[0m\u001b[0;34m,\u001b[0m \u001b[0mstop_prepared\u001b[0m\u001b[0;34m=\u001b[0m\u001b[0;32mTrue\u001b[0m\u001b[0;34m)\u001b[0m\u001b[0;34m\u001b[0m\u001b[0;34m\u001b[0m\u001b[0m\n\u001b[0;32m---> 66\u001b[0;31m         \u001b[0mproduct\u001b[0m \u001b[0;34m=\u001b[0m \u001b[0mself\u001b[0m\u001b[0;34m.\u001b[0m\u001b[0mfn\u001b[0m\u001b[0;34m(\u001b[0m\u001b[0mthis\u001b[0m\u001b[0;34m.\u001b[0m\u001b[0m_geom\u001b[0m\u001b[0;34m,\u001b[0m \u001b[0mother\u001b[0m\u001b[0;34m.\u001b[0m\u001b[0m_geom\u001b[0m\u001b[0;34m,\u001b[0m \u001b[0;34m*\u001b[0m\u001b[0margs\u001b[0m\u001b[0;34m)\u001b[0m\u001b[0;34m\u001b[0m\u001b[0;34m\u001b[0m\u001b[0m\n\u001b[0m\u001b[1;32m     67\u001b[0m         \u001b[0;32mif\u001b[0m \u001b[0mproduct\u001b[0m \u001b[0;32mis\u001b[0m \u001b[0;32mNone\u001b[0m\u001b[0;34m:\u001b[0m\u001b[0;34m\u001b[0m\u001b[0;34m\u001b[0m\u001b[0m\n\u001b[1;32m     68\u001b[0m             err = TopologicalError(\n",
            "\u001b[0;31mKeyboardInterrupt\u001b[0m: "
          ]
        }
      ]
    },
    {
      "cell_type": "code",
      "metadata": {
        "id": "LDuRs6rLbe2c"
      },
      "source": [
        "sheet.plot()"
      ],
      "execution_count": null,
      "outputs": []
    },
    {
      "cell_type": "code",
      "metadata": {
        "id": "i3EM_pY_bjXf"
      },
      "source": [
        "second_pass_scrap = sheet-keepout\n",
        "first_pass_scrap = sheet - design2-second_pass_scrap\n",
        "first_pass_scrap = foldable_robotics.manufacturing.cleanup(first_pass_scrap,.00001)\n",
        "first_pass_scrap.plot()"
      ],
      "execution_count": null,
      "outputs": []
    },
    {
      "cell_type": "code",
      "metadata": {
        "id": "wMZtp-F5bly6"
      },
      "source": [
        "support = foldable_robotics.manufacturing.support(design2,foldable_robotics.manufacturing.keepout_laser,support_width,support_width/2)\n",
        "support.plot()"
      ],
      "execution_count": null,
      "outputs": []
    },
    {
      "cell_type": "code",
      "metadata": {
        "id": "bCESixUebq6q"
      },
      "source": [
        "#Calculate the web by using only the material which can be cut, minus a gap determined by the support width.  Is that the only material you can use?\n",
        "supported_design = web|design2|support\n",
        "supported_design.plot()"
      ],
      "execution_count": null,
      "outputs": []
    },
    {
      "cell_type": "code",
      "metadata": {
        "id": "F_CikPM9cEA6"
      },
      "source": [
        "#cut_line = keepout<<kerf\n",
        "cut_material = (keepout<<kerf)-keepout\n",
        "cut_material.plot()"
      ],
      "execution_count": null,
      "outputs": []
    },
    {
      "cell_type": "code",
      "metadata": {
        "id": "HMjCn8accG0a"
      },
      "source": [
        "final_cut = sheet - keepout\n",
        "final_cut = final_cut[0]\n",
        "final_cut.plot()"
      ],
      "execution_count": null,
      "outputs": []
    },
    {
      "cell_type": "code",
      "metadata": {
        "id": "kk1VNuXzcKRw"
      },
      "source": [
        "remaining_material = supported_design-cut_material\n",
        "remaining_material.plot()"
      ],
      "execution_count": null,
      "outputs": []
    },
    {
      "cell_type": "code",
      "metadata": {
        "id": "Cq06n1L6cNT5"
      },
      "source": [
        "remaining_parts = foldable_robotics.manufacturing.find_connected(remaining_material,is_adhesive)\n",
        "for item in remaining_parts:\n",
        "    item.plot(new=True)"
      ],
      "execution_count": null,
      "outputs": []
    }
  ]
}