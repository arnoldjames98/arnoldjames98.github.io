{
  "nbformat": 4,
  "nbformat_minor": 0,
  "metadata": {
    "colab": {
      "name": "designOptimization.ipynb",
      "provenance": [],
      "collapsed_sections": [],
      "authorship_tag": "ABX9TyN6eNvYBu9sHuBbb6n0SQU0",
      "include_colab_link": true
    },
    "kernelspec": {
      "name": "python3",
      "display_name": "Python 3"
    },
    "language_info": {
      "name": "python"
    }
  },
  "cells": [
    {
      "cell_type": "markdown",
      "metadata": {
        "id": "view-in-github",
        "colab_type": "text"
      },
      "source": [
        "<a href=\"https://colab.research.google.com/github/arnoldjames98/arnoldjames98.github.io/blob/main/designOptimization.ipynb\" target=\"_parent\"><img src=\"https://colab.research.google.com/assets/colab-badge.svg\" alt=\"Open In Colab\"/></a>"
      ]
    },
    {
      "cell_type": "markdown",
      "metadata": {
        "id": "dcNCnIlY_mIe"
      },
      "source": [
        "# [Biodegradable Seed Spreading Robot](https://arnoldjames98.github.io/)\n",
        "# Design Optimization\n",
        "\n",
        "The purpose of this assignment is to optimize the dynamics of your system to maximize performance against your team’s selected research question and design goal."
      ]
    },
    {
      "cell_type": "markdown",
      "metadata": {
        "id": "6YedxKGzB4A1"
      },
      "source": [
        "## 1. Performance Measurement"
      ]
    },
    {
      "cell_type": "markdown",
      "metadata": {
        "id": "c3Y937j-Cn9I"
      },
      "source": [
        "#### a. Explain, in words, how your team will evaluate the success of your robot’s design. This could be by measuring the forces produced by your design, the speed at which it walks, its thrust:weight ratio, the height it can jump, etc. Explain, in words, how you will measure performance in simulation. How will you measure performance in experiments?"
      ]
    },
    {
      "cell_type": "markdown",
      "metadata": {
        "id": "WXicns91DRYQ"
      },
      "source": [
        ""
      ]
    },
    {
      "cell_type": "markdown",
      "metadata": {
        "id": "JVplMzBHCuBY"
      },
      "source": [
        "#### b. Are experimental vs. simulation metrics similar or vastly different? If different, how will you equate A with B?"
      ]
    },
    {
      "cell_type": "markdown",
      "metadata": {
        "id": "KUVsTwkiDSA1"
      },
      "source": [
        ""
      ]
    },
    {
      "cell_type": "markdown",
      "metadata": {
        "id": "nsD1z55eCx0t"
      },
      "source": [
        "#### c. Do you have more than one performance metric you must use as for design goals? If so, either identify the most important one or explain how you will balance two competing criteria."
      ]
    },
    {
      "cell_type": "markdown",
      "metadata": {
        "id": "QEGKKW3yDS8F"
      },
      "source": [
        ""
      ]
    },
    {
      "cell_type": "markdown",
      "metadata": {
        "id": "sof7caMlC2Mg"
      },
      "source": [
        "#### d. Explain, in math, the measurable performance metric(s) by which your team can estimate performance."
      ]
    },
    {
      "cell_type": "markdown",
      "metadata": {
        "id": "wqPujQ7lDTjV"
      },
      "source": [
        ""
      ]
    },
    {
      "cell_type": "markdown",
      "metadata": {
        "id": "FlSqyy5gC5s6"
      },
      "source": [
        "#### e. Write, in code, a function that will evaluate the performance of your current system (as simulated in System Dynamics II)."
      ]
    },
    {
      "cell_type": "code",
      "metadata": {
        "id": "KEZT-dwRC_Lh"
      },
      "source": [
        "# Updated System Dynamics code as a function with states/performance metric as the the ouput here"
      ],
      "execution_count": null,
      "outputs": []
    },
    {
      "cell_type": "markdown",
      "metadata": {
        "id": "E8W2s-kvCBU7"
      },
      "source": [
        "## 2. Constraints"
      ]
    },
    {
      "cell_type": "markdown",
      "metadata": {
        "id": "yxQID6lYDZmm"
      },
      "source": [
        "#### a. Brainstorm and describe your team’s design constraints. Constraints are aspects of your design that are “bounded” by some physical limit (eg, the size of robot you can cut on a given laser cutter, the range of motion of a typical foldable hinge joint)"
      ]
    },
    {
      "cell_type": "markdown",
      "metadata": {
        "id": "veHK-bolEHld"
      },
      "source": [
        ""
      ]
    },
    {
      "cell_type": "markdown",
      "metadata": {
        "id": "Rv-gOefHDgDg"
      },
      "source": [
        "#### b. Explain, in words, how you will track violation of design constraints. For example, lets say your optimization routine suggests a design that cannot be made in a single sheet of paper. Will you:\n",
        "*   parameterize your design space in such a way that p = [-inf, inf] translates to a bounded design range?\n",
        "*   penalize design performance when design parameters are outside of that range\n",
        "*   explicitly bound your parameter space?"
      ]
    },
    {
      "cell_type": "markdown",
      "metadata": {
        "id": "P4n_K6LFEG2M"
      },
      "source": [
        ""
      ]
    },
    {
      "cell_type": "markdown",
      "metadata": {
        "id": "pnJJAMRPCDde"
      },
      "source": [
        "## 3. Full Optimization Routine"
      ]
    },
    {
      "cell_type": "markdown",
      "metadata": {
        "id": "J_O49hIbD2Ns"
      },
      "source": [
        "\n",
        "\n",
        "1.   permits you to parameterize your design space in one or more variable\n",
        "1.   generates a scalar performance metric that implements your goal as stated above.\n",
        "1.   selects an optimization approach based on your decisions above. This may be a global search or use one of the many optimization routines available in Python.\n",
        "1.   bounds or penalizes designs outside of a permissable range\n",
        "1.   Run your optimization and determine the optimal parameter value(s)\n"
      ]
    },
    {
      "cell_type": "code",
      "metadata": {
        "id": "6v8oyxXuD-Kj"
      },
      "source": [
        "# Run the function from part 1 a bunch of time using some minimization function and add in the contraints from part 2"
      ],
      "execution_count": null,
      "outputs": []
    },
    {
      "cell_type": "markdown",
      "metadata": {
        "id": "gwohGxWTCgu0"
      },
      "source": [
        "## 4. Figure Showing Parameter Near Optimal Vlaue"
      ]
    },
    {
      "cell_type": "code",
      "metadata": {
        "id": "RYVSxG0p_QjI"
      },
      "source": [
        "# Figure Here"
      ],
      "execution_count": null,
      "outputs": []
    }
  ]
}