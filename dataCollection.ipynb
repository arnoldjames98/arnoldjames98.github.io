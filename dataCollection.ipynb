{
  "nbformat": 4,
  "nbformat_minor": 0,
  "metadata": {
    "colab": {
      "name": "dataCollection.ipynb",
      "provenance": [],
      "collapsed_sections": [],
      "include_colab_link": true
    },
    "kernelspec": {
      "name": "python3",
      "display_name": "Python 3"
    },
    "language_info": {
      "name": "python"
    }
  },
  "cells": [
    {
      "cell_type": "markdown",
      "metadata": {
        "id": "view-in-github",
        "colab_type": "text"
      },
      "source": [
        "<a href=\"https://colab.research.google.com/github/arnoldjames98/arnoldjames98.github.io/blob/main/dataCollection.ipynb\" target=\"_parent\"><img src=\"https://colab.research.google.com/assets/colab-badge.svg\" alt=\"Open In Colab\"/></a>"
      ]
    },
    {
      "cell_type": "markdown",
      "metadata": {
        "id": "AYUXrGS2LNX4"
      },
      "source": [
        "# [Biodegradable Seed Spreading Robot](https://arnoldgames98.github.io/)\n",
        "# Data Collection and Experimental Validation"
      ]
    },
    {
      "cell_type": "markdown",
      "metadata": {
        "id": "MN800HIJLvSe"
      },
      "source": [
        "## Procedure"
      ]
    },
    {
      "cell_type": "markdown",
      "metadata": {
        "id": "ErEp5q2zN8Yd"
      },
      "source": [
        "### Detailed Description of the steps taken"
      ]
    },
    {
      "cell_type": "markdown",
      "metadata": {
        "id": "HH-_8cAzLgL8"
      },
      "source": [
        "### Experimental Data vs Dynamics Model Plot"
      ]
    },
    {
      "cell_type": "markdown",
      "metadata": {
        "id": "mszGD04VLJ1v"
      },
      "source": [
        "### Annotated Picture of Setup"
      ]
    },
    {
      "cell_type": "markdown",
      "metadata": {
        "id": "I0fb9bXWLcjD"
      },
      "source": [
        "### Video of Experiment"
      ]
    },
    {
      "cell_type": "markdown",
      "metadata": {
        "id": "Lqia5Qr8LqT5"
      },
      "source": [
        "\n",
        "\n",
        "---\n",
        "\n",
        "\n",
        "## Discussion"
      ]
    },
    {
      "cell_type": "markdown",
      "metadata": {
        "id": "Mi2o8wLTMCbr"
      },
      "source": [
        "### 1. What do you consider the top five sources of error in your data collection experiment?"
      ]
    },
    {
      "cell_type": "markdown",
      "metadata": {
        "id": "5oHSM1jSMNIf"
      },
      "source": [
        "### 2. What steps did you take to reduce the error?"
      ]
    },
    {
      "cell_type": "markdown",
      "metadata": {
        "id": "IH58M1QMMRo5"
      },
      "source": [
        "### 3. What was difficult to control?"
      ]
    },
    {
      "cell_type": "markdown",
      "metadata": {
        "id": "a6sgA0A2MdIc"
      },
      "source": [
        "### 4. How would you improve your testing setup or procedure next time?"
      ]
    },
    {
      "cell_type": "markdown",
      "metadata": {
        "id": "nVT0QlEpMvNQ"
      },
      "source": [
        "### 5. How well does your data mirror your simulated results? What is similar, what is different?"
      ]
    },
    {
      "cell_type": "markdown",
      "metadata": {
        "id": "HSHBiutiM14F"
      },
      "source": [
        "### 6. Is it possible to add a modeling element with models/captures discrepencies between these two results? What element, if added to your simulation, would have the biggest impact on its fidelity?"
      ]
    },
    {
      "cell_type": "markdown",
      "metadata": {
        "id": "YcpaFy6-NE4_"
      },
      "source": [
        "### 7. What additional equations and parameters would you need in order to add this element?"
      ]
    }
  ]
}