{
  "nbformat": 4,
  "nbformat_minor": 0,
  "metadata": {
    "colab": {
      "name": "dataCollection.ipynb",
      "provenance": [],
      "collapsed_sections": [],
      "include_colab_link": true
    },
    "kernelspec": {
      "name": "python3",
      "display_name": "Python 3"
    },
    "language_info": {
      "name": "python"
    }
  },
  "cells": [
    {
      "cell_type": "markdown",
      "metadata": {
        "id": "view-in-github",
        "colab_type": "text"
      },
      "source": [
        "<a href=\"https://colab.research.google.com/github/arnoldjames98/arnoldjames98.github.io/blob/main/dataCollection.ipynb\" target=\"_parent\"><img src=\"https://colab.research.google.com/assets/colab-badge.svg\" alt=\"Open In Colab\"/></a>"
      ]
    },
    {
      "cell_type": "markdown",
      "metadata": {
        "id": "AYUXrGS2LNX4"
      },
      "source": [
        "# [Biodegradable Seed Spreading Robot](https://arnoldgames98.github.io/)\n",
        "# Data Collection and Experimental Validation\n",
        "\n",
        "The purpose of this assignment is to collect data on your system and compare against the results estimated from simulation."
      ]
    },
    {
      "cell_type": "markdown",
      "metadata": {
        "id": "MN800HIJLvSe"
      },
      "source": [
        "## Procedure"
      ]
    },
    {
      "cell_type": "markdown",
      "metadata": {
        "id": "ErEp5q2zN8Yd"
      },
      "source": [
        "### Detailed Description with Pictures"
      ]
    },
    {
      "cell_type": "markdown",
      "metadata": {
        "id": "BrYE_4iJY16D"
      },
      "source": [
        "In order to make qualitative comparisons of the performance of our physical prototype to that of our simulation, we decided to perform an experiment with the physical prototype that considered the effects of changing the compliance of our longest link. The compliance of this link is the same parameter that used as an input to the optimization that was previously performed on the dynamic simulation. A diagram of the three selected conditions of stiffness for the experiment is shown below:\n",
        "![Three Conditions](https://raw.githubusercontent.com/arnoldjames98/arnoldjames98.github.io/main/images/expConditions.png)\n",
        "\n",
        "Since our focus is on the design of the legs, we performed our experiment with the legs pointed upwards as they move a plate, rather than the legs being on the ground and the whole system moving. This allows us to control the weight that the legs have to support. Our dynamic simulation and optimization was also performed in this way, and therefore we will be able to more easily compare the results of our experimetn to the results of our simulation.\n",
        "\n",
        "The plate was selected as a long piece of cardboard since this material would be rigid enough to not bend. Originally, we planned to have the weight of the cardboard plate fully supported by the legs, but the issue was that as the plate moved, its center of weight would eventually not be supported by the four legs, so the plate would tip. The tipping of the plate after the plate moved too far meant that a very small amount of data could be collected since the legs would quickly push the plate far enough that it would tip. Therefore, the plate is also supported by rollers that prevent the tipping of the plate. The addition of these rollers means that the full weight of the plate is not being supported by the legs, but we can simply reduce the weight of the plate in our simulation to make comparisons with the simulation.\n",
        "\n",
        "With the full system prototype, plate, supporting rollers, and the three selected experimental conditions, the final consideration was how to collect the data from the experiements. We decided to use a low-cost motion capture approach. We place markers on the two legs within the field of view of the camera and one to track the motion of the plate. Since the movement of the input link is obstructed in the experiment, additional gears are used to show the angle of the input link. Besides the camera, a lamp was used to provide even lighting to the set-up. The two images of the experimental set-up can be seen below:\n",
        "\n",
        "![Experiment Setup 1](https://raw.githubusercontent.com/arnoldjames98/arnoldjames98.github.io/main/images/exp1.png)\n",
        "\n",
        "\n",
        "A closer view of the interface between the cardboard plate and the end-effectors of the legs can be seen in the image below. The plate is a corrugated material that increases the friction between the legs and the plate.\n",
        "\n",
        "![Experiment Setup 3](https://raw.githubusercontent.com/arnoldjames98/arnoldjames98.github.io/main/images/exp3.png)\n",
        "\n",
        "Additionally, an image of how material was added in the three experimental conditions can be seen below. Note that in the high stiffness condition, the support cardboard is perpendicular to the leg. In the medium stiffness condition, the support cardboard is parallel to the leg. In the low stiffness condition, there is no support cardboard on the leg.\n",
        "\n",
        "![Three Conditions Real](https://raw.githubusercontent.com/arnoldjames98/arnoldjames98.github.io/main/images/expConditionsReal.png)"
      ]
    },
    {
      "cell_type": "markdown",
      "metadata": {
        "id": "HH-_8cAzLgL8"
      },
      "source": [
        "### Experimental Data vs Dynamics Model Plot"
      ]
    },
    {
      "cell_type": "markdown",
      "metadata": {
        "id": "I0fb9bXWLcjD"
      },
      "source": [
        "### Video of Experiment"
      ]
    },
    {
      "cell_type": "markdown",
      "metadata": {
        "id": "Lqia5Qr8LqT5"
      },
      "source": [
        "\n",
        "\n",
        "---\n",
        "\n",
        "\n",
        "## Discussion"
      ]
    },
    {
      "cell_type": "markdown",
      "metadata": {
        "id": "Mi2o8wLTMCbr"
      },
      "source": [
        "### 1. What do you consider the top five sources of error in your data collection experiment?"
      ]
    },
    {
      "cell_type": "markdown",
      "metadata": {
        "id": "BMM2hu3hX9Me"
      },
      "source": [
        "\n",
        "\n",
        "1.   The markers are not all the same distance from the camera. For example, the markers on the gears and plate are closer to the camera than the markers on the legs. Since the motion capture software we used cannot account to differences in distance from the camera for different markers, these measurements will all have error.\n",
        "\n",
        "2.   The initial position of the legs and input link was not controlled in each experiment. If we ran each condition multiple times, we would be able better understand the effects of different initial conditions on the results. However, in our experiment we only analyzed a single run from each condition, so the effects of the different initial conditions are compounded with the effects of the different experimental conditions.\n",
        "\n",
        "3.   \n",
        "\n",
        "\n",
        "\n"
      ]
    },
    {
      "cell_type": "markdown",
      "metadata": {
        "id": "5oHSM1jSMNIf"
      },
      "source": [
        "### 2. What steps did you take to reduce the error?"
      ]
    },
    {
      "cell_type": "markdown",
      "metadata": {
        "id": "7l9qvQsLX-gm"
      },
      "source": [
        ""
      ]
    },
    {
      "cell_type": "markdown",
      "metadata": {
        "id": "IH58M1QMMRo5"
      },
      "source": [
        "### 3. What was difficult to control?"
      ]
    },
    {
      "cell_type": "markdown",
      "metadata": {
        "id": "jcWZFlhpX_Qa"
      },
      "source": [
        ""
      ]
    },
    {
      "cell_type": "markdown",
      "metadata": {
        "id": "a6sgA0A2MdIc"
      },
      "source": [
        "### 4. How would you improve your testing setup or procedure next time?"
      ]
    },
    {
      "cell_type": "markdown",
      "metadata": {
        "id": "OL-Tt7V6YAOy"
      },
      "source": [
        ""
      ]
    },
    {
      "cell_type": "markdown",
      "metadata": {
        "id": "nVT0QlEpMvNQ"
      },
      "source": [
        "### 5. How well does your data mirror your simulated results? What is similar, what is different?"
      ]
    },
    {
      "cell_type": "markdown",
      "metadata": {
        "id": "0c8W6bAiYBfe"
      },
      "source": [
        ""
      ]
    },
    {
      "cell_type": "markdown",
      "metadata": {
        "id": "HSHBiutiM14F"
      },
      "source": [
        "### 6. Is it possible to add a modeling element with models/captures discrepencies between these two results? What element, if added to your simulation, would have the biggest impact on its fidelity?"
      ]
    },
    {
      "cell_type": "markdown",
      "metadata": {
        "id": "eATkQEWfYCox"
      },
      "source": [
        ""
      ]
    },
    {
      "cell_type": "markdown",
      "metadata": {
        "id": "YcpaFy6-NE4_"
      },
      "source": [
        "### 7. What additional equations and parameters would you need in order to add this element?"
      ]
    },
    {
      "cell_type": "markdown",
      "metadata": {
        "id": "mW_73XCZYDtk"
      },
      "source": [
        ""
      ]
    }
  ]
}