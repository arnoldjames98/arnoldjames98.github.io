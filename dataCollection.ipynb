{
  "nbformat": 4,
  "nbformat_minor": 0,
  "metadata": {
    "colab": {
      "name": "dataCollection.ipynb",
      "provenance": [],
      "collapsed_sections": [],
      "include_colab_link": true
    },
    "kernelspec": {
      "name": "python3",
      "display_name": "Python 3"
    },
    "language_info": {
      "name": "python"
    }
  },
  "cells": [
    {
      "cell_type": "markdown",
      "metadata": {
        "id": "view-in-github",
        "colab_type": "text"
      },
      "source": [
        "<a href=\"https://colab.research.google.com/github/arnoldjames98/arnoldjames98.github.io/blob/main/dataCollection.ipynb\" target=\"_parent\"><img src=\"https://colab.research.google.com/assets/colab-badge.svg\" alt=\"Open In Colab\"/></a>"
      ]
    },
    {
      "cell_type": "markdown",
      "metadata": {
        "id": "AYUXrGS2LNX4"
      },
      "source": [
        "# [Biodegradable Seed Spreading Robot](https://arnoldgames98.github.io/)\n",
        "# Data Collection and Experimental Validation\n",
        "\n",
        "The purpose of this assignment is to collect data on your system and compare against the results estimated from simulation."
      ]
    },
    {
      "cell_type": "markdown",
      "metadata": {
        "id": "MN800HIJLvSe"
      },
      "source": [
        "## Procedure"
      ]
    },
    {
      "cell_type": "markdown",
      "metadata": {
        "id": "ErEp5q2zN8Yd"
      },
      "source": [
        "### Detailed Description with Pictures"
      ]
    },
    {
      "cell_type": "markdown",
      "metadata": {
        "id": "BrYE_4iJY16D"
      },
      "source": [
        "In order to make qualitative comparisons of the performance of our physical prototype to that of our simulation, we decided to perform an experiment with the physical prototype that considered the effects of changing the compliance of our longest link. The compliance of this link is the same parameter that used as an input to the optimization that was previously performed on the dynamic simulation. A diagram of the three selected conditions of stiffness for the experiment is shown below:\n",
        "![Three Conditions](https://raw.githubusercontent.com/arnoldjames98/arnoldjames98.github.io/main/images/expConditions.png)\n",
        "\n",
        "Since our focus is on the design of the legs, we performed our experiment with the legs pointed upwards as they move a plate, rather than the legs being on the ground and the whole system moving. This allows us to control the weight that the legs have to support. Our dynamic simulation and optimization was also performed in this way, and therefore we will be able to more easily compare the results of our experimetn to the results of our simulation.\n",
        "\n",
        "The plate was selected as a long piece of cardboard since this material would be rigid enough to not bend. Originally, we planned to have the weight of the cardboard plate fully supported by the legs, but the issue was that as the plate moved, its center of weight would eventually not be supported by the four legs, so the plate would tip. The tipping of the plate after the plate moved too far meant that a very small amount of data could be collected since the legs would quickly push the plate far enough that it would tip. Therefore, the plate is also supported by rollers that prevent the tipping of the plate. The addition of these rollers means that the full weight of the plate is not being supported by the legs, but we can simply reduce the weight of the plate in our simulation to make comparisons with the simulation.\n",
        "\n",
        "With the full system prototype, plate, supporting rollers, and the three selected experimental conditions, the final consideration was how to collect the data from the experiements. We decided to use a low-cost motion capture approach. We place markers on the two legs within the field of view of the camera and one to track the motion of the plate. Since the movement of the input link is obstructed in the experiment, additional gears are used to show the angle of the input link. Besides the camera, a lamp was used to provide even lighting to the set-up. The two images of the experimental set-up can be seen below:\n",
        "\n",
        "![Experiment Setup 1](https://raw.githubusercontent.com/arnoldjames98/arnoldjames98.github.io/main/images/exp1.png)\n",
        "\n",
        "\n",
        "A closer view of the interface between the cardboard plate and the end-effectors of the legs can be seen in the image below. The plate is a corrugated material that increases the friction between the legs and the plate.\n",
        "\n",
        "![Experiment Setup 3](https://raw.githubusercontent.com/arnoldjames98/arnoldjames98.github.io/main/images/exp3.png)\n",
        "\n",
        "Additionally, an image of how material was added in the three experimental conditions can be seen below. Note that in the high stiffness condition, the support cardboard is perpendicular to the leg. In the medium stiffness condition, the support cardboard is parallel to the leg. In the low stiffness condition, there is no support cardboard on the leg.\n",
        "\n",
        "![Three Conditions Real](https://raw.githubusercontent.com/arnoldjames98/arnoldjames98.github.io/main/images/expConditionsReal.png)"
      ]
    },
    {
      "cell_type": "markdown",
      "metadata": {
        "id": "HH-_8cAzLgL8"
      },
      "source": [
        "### Experimental Data vs Dynamics Model Plot"
      ]
    },
    {
      "cell_type": "markdown",
      "metadata": {
        "id": "vNKxzRuMglIA"
      },
      "source": [
        "Due to some errors in the experiment in the motion capture software being able to correctly identify the markers, we were only able to get the marker data from the end effector and the plate. These points were the most important to collect since these represent the output of the system. Additionally, the distance that the plate moved will be compared to the integral of horizontal reaction force performance parameter that was selected in the optimization assignment.\n",
        "\n",
        "In order to more closely match the dynamics simulation to the experimental set-up, parameters like the weight of the plate and the motor torque needed to be taken into account. However, even with these values, there are some aspects of the simulation that will not perfectly match the experiment. For example, in the simulation, the plate does not move in the horizontal direction. Therefore, the magnitude of the horizontal reaction force from the simulation will have to be compared to the horizontal movement of the plate that can be measured from each experiment. The simulation was set to run for 10s, since the experiments were all run at this same time interval.\n",
        "\n",
        "The final consideration for comparing the experiments and simulation is determining how to recreate the experimental low, medium, and high stiffness values from the experiment into the simulation. Since our goal is to make qualitative comparisons between the simulation and experiments, we chose to pick three k values that we decided were representative of low, medium, and high stiffness. These three values were picked from our prior knowledge of how changing the k value impacts the results of the simulation which we learned while performing the optimization assignment. We chose this method over trying to experimentally determine the stiffness of the blue links based on the additional of material from the three experiments, since we do not believe perfectly matching these values is critical in order to make a qualitative comparison between be the simulation and experiment. The selected low, medium, and high values of blue/end-effector link stiffness can be seen in the plot below from the optimization results:\n",
        "\n",
        "![k Values](https://raw.githubusercontent.com/arnoldjames98/arnoldjames98.github.io/main/images/kValuesSimulation.png)\n",
        "\n",
        "**Note**: As discussed in the optimization assignment, a lower performance value is considered better in that the legs are producing more horizontal reaction forces."
      ]
    },
    {
      "cell_type": "markdown",
      "metadata": {
        "id": "U4yIACIHs9gs"
      },
      "source": [
        "Now, the animations from the three simulations at k = 0.007, 5, and 10 are shown below. The function used to create the animations is included in the previous assignment, so the final videos are shown rather than including the full code that is already in the previous assignment. The performance of each condition is also shown below:\n",
        "\n",
        "**Table I. Performance at Stiffness Inputs in Simulation**\n",
        "\n",
        "| Simulation Condition | Total Integral of Reaction Force | Performance Metric (1/integral)\n",
        "| --- | --- | --- |\n",
        "| Low Stiffness (k = 0.07) | 33.787 | 0.02959 |\n",
        "| Medium Stiffness (k = 5) | # | # |\n",
        "| High Stiffness (k = 10) | # | # |"
      ]
    },
    {
      "cell_type": "markdown",
      "metadata": {
        "id": "GVHSyTRc7Ku7"
      },
      "source": [
        "#### Simulation Results (k = 0.07)\n",
        "\n",
        "Below are plots of the end-effector position over time for both legs in the simulation when the stiffness within the end-effector link is low.\n",
        "\n",
        "![Simulation Low End Effector](https://raw.githubusercontent.com/arnoldjames98/arnoldjames98.github.io/main/images/simEndEffectorLow.png)"
      ]
    },
    {
      "cell_type": "markdown",
      "metadata": {
        "id": "yXGYdVua9qrg"
      },
      "source": [
        "Below are the cooresponding reaction forces for the low stiffness simulaton.\n",
        "\n",
        "![Low Stiffness Reaction Force](https://raw.githubusercontent.com/arnoldjames98/arnoldjames98.github.io/main/images/lowStiffReaction.png)"
      ]
    },
    {
      "cell_type": "markdown",
      "metadata": {
        "id": "I0fb9bXWLcjD"
      },
      "source": [
        "### Video of Experiment"
      ]
    },
    {
      "cell_type": "markdown",
      "metadata": {
        "id": "nQ6HO0Wgfc5q"
      },
      "source": [
        "Below are the videos of the experiment being run in each of the three experimental conditions. Note that each experimental condition was run three times, and then the best one was selected and used for the data analysis."
      ]
    },
    {
      "cell_type": "code",
      "metadata": {
        "colab": {
          "base_uri": "https://localhost:8080/",
          "height": 336
        },
        "id": "P8V80FOxfrCY",
        "outputId": "3637a16c-1819-4008-da60-ece3e81ac6b2"
      },
      "source": [
        "from IPython.display import HTML\n",
        "\n",
        "# Youtube\n",
        "HTML('<iframe width=\"560\" height=\"315\" src=\"https://www.youtube.com/embed/dkHRt2aiwQU?rel=0&amp;controls=0&amp;showinfo=0\" frameborder=\"0\" allowfullscreen></iframe>')"
      ],
      "execution_count": null,
      "outputs": [
        {
          "output_type": "execute_result",
          "data": {
            "text/html": [
              "<iframe width=\"560\" height=\"315\" src=\"https://www.youtube.com/embed/dkHRt2aiwQU?rel=0&amp;controls=0&amp;showinfo=0\" frameborder=\"0\" allowfullscreen></iframe>"
            ],
            "text/plain": [
              "<IPython.core.display.HTML object>"
            ]
          },
          "metadata": {
            "tags": []
          },
          "execution_count": 1
        }
      ]
    },
    {
      "cell_type": "code",
      "metadata": {
        "colab": {
          "base_uri": "https://localhost:8080/",
          "height": 336
        },
        "id": "C7bllecigPQi",
        "outputId": "89af4740-918d-452b-fab3-31341c5a1d56"
      },
      "source": [
        "HTML('<iframe width=\"560\" height=\"315\" src=\"https://www.youtube.com/embed/YNIygebtGK0?rel=0&amp;controls=0&amp;showinfo=0\" frameborder=\"0\" allowfullscreen></iframe>')"
      ],
      "execution_count": null,
      "outputs": [
        {
          "output_type": "execute_result",
          "data": {
            "text/html": [
              "<iframe width=\"560\" height=\"315\" src=\"https://www.youtube.com/embed/YNIygebtGK0?rel=0&amp;controls=0&amp;showinfo=0\" frameborder=\"0\" allowfullscreen></iframe>"
            ],
            "text/plain": [
              "<IPython.core.display.HTML object>"
            ]
          },
          "metadata": {
            "tags": []
          },
          "execution_count": 2
        }
      ]
    },
    {
      "cell_type": "code",
      "metadata": {
        "colab": {
          "base_uri": "https://localhost:8080/",
          "height": 336
        },
        "id": "GcQgnkJdgVYE",
        "outputId": "8fe9afbd-1939-48dc-938f-83152ffb0549"
      },
      "source": [
        "HTML('<iframe width=\"560\" height=\"315\" src=\"https://www.youtube.com/embed/rv76WIFHl7I?rel=0&amp;controls=0&amp;showinfo=0\" frameborder=\"0\" allowfullscreen></iframe>')"
      ],
      "execution_count": null,
      "outputs": [
        {
          "output_type": "execute_result",
          "data": {
            "text/html": [
              "<iframe width=\"560\" height=\"315\" src=\"https://www.youtube.com/embed/rv76WIFHl7I?rel=0&amp;controls=0&amp;showinfo=0\" frameborder=\"0\" allowfullscreen></iframe>"
            ],
            "text/plain": [
              "<IPython.core.display.HTML object>"
            ]
          },
          "metadata": {
            "tags": []
          },
          "execution_count": 3
        }
      ]
    },
    {
      "cell_type": "markdown",
      "metadata": {
        "id": "Lqia5Qr8LqT5"
      },
      "source": [
        "\n",
        "\n",
        "---\n",
        "\n",
        "\n",
        "## Discussion"
      ]
    },
    {
      "cell_type": "markdown",
      "metadata": {
        "id": "Mi2o8wLTMCbr"
      },
      "source": [
        "### 1. What do you consider the top five sources of error in your data collection experiment?"
      ]
    },
    {
      "cell_type": "markdown",
      "metadata": {
        "id": "BMM2hu3hX9Me"
      },
      "source": [
        "\n",
        "\n",
        "1.   The markers are not all the same distance from the camera. For example, the markers on the gears and plate are closer to the camera than the markers on the legs. Since the motion capture software we used cannot account to differences in distance from the camera for different markers, these measurements will all have error.\n",
        "\n",
        "2.   The initial position of the legs and input link was not controlled in each experiment. If we ran each condition multiple times, we would be able better understand the effects of different initial conditions on the results. However, in our experiment we only analyzed a single run from each condition, so the effects of the different initial conditions are compounded with the effects of the different experimental conditions.\n",
        "\n",
        "3.   The size of markers reduces the precision at which the motion capture software can identify specific points. The markers were selected to be sufficiently large so that they would be visible by the camera and not so small that the motion capture software would have difficulty following them each frame. However, the size of the markers is large enough that the results of the motion capture could be affected. For example, the two markers on the input gears (one in the middle and one on the edge) are the correct 3cm apart from their centers, but the motion capture software may not always measure at the center of the marker, so this distance will likely not always be correct.\n",
        "\n",
        "\n",
        "\n",
        "\n",
        "\n"
      ]
    },
    {
      "cell_type": "markdown",
      "metadata": {
        "id": "5oHSM1jSMNIf"
      },
      "source": [
        "### 2. What steps did you take to reduce the error?"
      ]
    },
    {
      "cell_type": "markdown",
      "metadata": {
        "id": "7l9qvQsLX-gm"
      },
      "source": [
        ""
      ]
    },
    {
      "cell_type": "markdown",
      "metadata": {
        "id": "IH58M1QMMRo5"
      },
      "source": [
        "### 3. What was difficult to control?"
      ]
    },
    {
      "cell_type": "markdown",
      "metadata": {
        "id": "jcWZFlhpX_Qa"
      },
      "source": [
        ""
      ]
    },
    {
      "cell_type": "markdown",
      "metadata": {
        "id": "a6sgA0A2MdIc"
      },
      "source": [
        "### 4. How would you improve your testing setup or procedure next time?"
      ]
    },
    {
      "cell_type": "markdown",
      "metadata": {
        "id": "OL-Tt7V6YAOy"
      },
      "source": [
        ""
      ]
    },
    {
      "cell_type": "markdown",
      "metadata": {
        "id": "nVT0QlEpMvNQ"
      },
      "source": [
        "### 5. How well does your data mirror your simulated results? What is similar, what is different?"
      ]
    },
    {
      "cell_type": "markdown",
      "metadata": {
        "id": "0c8W6bAiYBfe"
      },
      "source": [
        ""
      ]
    },
    {
      "cell_type": "markdown",
      "metadata": {
        "id": "HSHBiutiM14F"
      },
      "source": [
        "### 6. Is it possible to add a modeling element with models/captures discrepencies between these two results? What element, if added to your simulation, would have the biggest impact on its fidelity?"
      ]
    },
    {
      "cell_type": "markdown",
      "metadata": {
        "id": "eATkQEWfYCox"
      },
      "source": [
        ""
      ]
    },
    {
      "cell_type": "markdown",
      "metadata": {
        "id": "YcpaFy6-NE4_"
      },
      "source": [
        "### 7. What additional equations and parameters would you need in order to add this element?"
      ]
    },
    {
      "cell_type": "markdown",
      "metadata": {
        "id": "mW_73XCZYDtk"
      },
      "source": [
        ""
      ]
    }
  ]
}